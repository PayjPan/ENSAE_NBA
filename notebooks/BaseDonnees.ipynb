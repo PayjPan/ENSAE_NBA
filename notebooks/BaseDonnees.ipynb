{
 "cells": [
  {
   "cell_type": "markdown",
   "metadata": {},
   "source": [
    "# Exploration des données\n",
    "\n",
    "Une première approche pour comprendre les données que l'on a."
   ]
  },
  {
   "cell_type": "markdown",
   "metadata": {},
   "source": [
    "## 1 - Documentation\n",
    "\n",
    "L'API `nba_api` a une très bonne documentation sur les différents *endpoints* et sur les variables que l'on peut utilisé.\n",
    "\n",
    "### Tous les *endpoints*\n",
    "\n",
    "<table><tr></tr><tr><td>boxscoreadvancedv2</td><td>boxscorefourfactorsv2</td><td>boxscoremiscv2</td><td>boxscoreplayertrackv2</td></tr><tr><td>boxscorescoringv2</td><td>boxscoresummaryv2</td><td>boxscoretraditionalv2</td><td>boxscoreusagev2</td></tr><tr><td>commonallplayers</td><td>commonplayerinfo</td><td>commonplayoffseries</td><td>commonteamroster</td></tr><tr><td>commonteamyears</td><td>defensehub</td><td>draftcombinedrillresults</td><td>draftcombinenonstationaryshooting</td></tr><tr><td>draftcombineplayeranthro</td><td>draftcombinespotshooting</td><td>draftcombinestats</td><td>drafthistory</td></tr><tr><td>franchisehistory</td><td>homepageleaders</td><td>homepagev2</td><td>infographicfanduelplayer</td></tr><tr><td>leaderstiles</td><td>leaguedashlineups</td><td>leaguedashplayerbiostats</td><td>leaguedashplayerclutch</td></tr><tr><td>leaguedashplayerptshot</td><td>leaguedashplayershotlocations</td><td>leaguedashplayerstats</td><td>leaguedashptdefend</td></tr><tr><td>leaguedashptstats</td><td>leaguedashptteamdefend</td><td>leaguedashteamclutch</td><td>leaguedashteamptshot</td></tr><tr><td>leaguedashteamshotlocations</td><td>leaguedashteamstats</td><td>leaguegamefinder</td><td>leaguegamelog</td></tr><tr><td>leagueleaders</td><td>leaguestandings</td><td>playbyplay</td><td>playbyplayv2</td></tr><tr><td>playerawards</td><td>playercareerstats</td><td>playercompare</td><td>playerdashboardbyclutch</td></tr><tr><td>playerdashboardbygamesplits</td><td>playerdashboardbygeneralsplits</td><td>playerdashboardbylastngames</td><td>playerdashboardbyopponent</td></tr><tr><td>playerdashboardbyshootingsplits</td><td>playerdashboardbyteamperformance</td><td>playerdashboardbyyearoveryear</td><td>playerdashptpass</td></tr><tr><td>playerdashptreb</td><td>playerdashptshotdefend</td><td>playerdashptshots</td><td>playerfantasyprofile</td></tr><tr><td>playerfantasyprofilebargraph</td><td>playergamelog</td><td>playergamestreakfinder</td><td>playernextngames</td></tr><tr><td>playerprofilev2</td><td>playersvsplayers</td><td>playervsplayer</td><td>playoffpicture</td></tr><tr><td>scoreboard</td><td>scoreboardv2</td><td>shotchartdetail</td><td>shotchartlineupdetail</td></tr><tr><td>teamdashboardbyclutch</td><td>teamdashboardbygamesplits</td><td>teamdashboardbygeneralsplits</td><td>teamdashboardbylastngames</td></tr><tr><td>teamdashboardbyopponent</td><td>teamdashboardbyshootingsplits</td><td>teamdashboardbyteamperformance</td><td>teamdashboardbyyearoveryear</td></tr><tr><td>teamdashlineups</td><td>teamdashptpass</td><td>teamdashptreb</td><td>teamdashptshots</td></tr><tr><td>teamdetails</td><td>teamgamelog</td><td>teamgamestreakfinder</td><td>teamhistoricalleaders</td></tr><tr><td>teaminfocommon</td><td>teamplayerdashboard</td><td>teamplayeronoffdetails</td><td>teamplayeronoffsummary</td></tr><tr><td>teamvsplayer</td><td>teamyearbyyearstats</td><td>videodetails</td><td>videoevents</td></tr><tr><td>videostatus</td></tr></table>\n",
    "\n",
    "\n",
    "[lien vers documentations des *endpoints*](https://github.com/swar/nba_api/tree/master/docs/nba_api/stats/endpoints)\n",
    "\n",
    "[lien vers documentations des variables et des sorties](https://github.com/swar/nba_api/tree/master/docs/nba_api/stats/library)\n",
    "\n",
    "### Exemple de documentation\n",
    "\n",
    "Prenons la documentation du *endpoint* PlayerGameLog : \n",
    "\n",
    "#### PlayerGameLog\n",
    "##### [nba_api/stats/endpoints/playergamelog.py](https://github.com/swar/nba_api/blob/master/nba_api/stats/endpoints/playergamelog.py)\n",
    "\n",
    "##### Endpoint URL\n",
    ">[https://stats.nba.com/stats/playergamelog](https://stats.nba.com/stats/playergamelog)\n",
    "\n",
    "##### Valid URL\n",
    ">[https://stats.nba.com/stats/playergamelog?DateFrom=&DateTo=&LeagueID=&PlayerID=2544&Season=2019-20&SeasonType=Regular+Season](https://stats.nba.com/stats/playergamelog?DateFrom=&DateTo=&LeagueID=&PlayerID=2544&Season=2019-20&SeasonType=Regular+Season)\n",
    "\n",
    "#### Parameters\n",
    "API Parameter Name | Python Parameter Variable | Pattern | Required | Nullable\n",
    "------------ | ------------ | :-----------: | :---: | :---:\n",
    "[_**PlayerID**_](https://github.com/swar/nba_api/blob/master/docs/nba_api/stats/library/parameters.md#PlayerID) | player_id |  | `Y` |  | \n",
    "[_**Season**_](https://github.com/swar/nba_api/blob/master/docs/nba_api/stats/library/parameters.md#Season) | season |  | `Y` |  | \n",
    "[_**SeasonType**_](https://github.com/swar/nba_api/blob/master/docs/nba_api/stats/library/parameters.md#SeasonType) | season_type_all_star | `^(Regular Season)\\|(Pre Season)\\|(Playoffs)\\|(All-Star)\\|(All Star)$` | `Y` |  | \n",
    "[_**LeagueID**_](https://github.com/swar/nba_api/blob/master/docs/nba_api/stats/library/parameters.md#LeagueID) | league_id_nullable |  |  | `Y` | \n",
    "[_**DateTo**_](https://github.com/swar/nba_api/blob/master/docs/nba_api/stats/library/parameters.md#DateTo) | date_to_nullable |  |  | `Y` | \n",
    "[_**DateFrom**_](https://github.com/swar/nba_api/blob/master/docs/nba_api/stats/library/parameters.md#DateFrom) | date_from_nullable |  |  | `Y` | \n",
    "\n",
    "#### Data Sets\n",
    "##### PlayerGameLog `player_game_log`\n",
    "```text\n",
    "['SEASON_ID', 'Player_ID', 'Game_ID', 'GAME_DATE', 'MATCHUP', 'WL', 'MIN', 'FGM', 'FGA', 'FG_PCT', 'FG3M', 'FG3A', 'FG3_PCT', 'FTM', 'FTA', 'FT_PCT', 'OREB', 'DREB', 'REB', 'AST', 'STL', 'BLK', 'TOV', 'PF', 'PTS', 'PLUS_MINUS', 'VIDEO_AVAILABLE']\n",
    "```"
   ]
  },
  {
   "cell_type": "markdown",
   "metadata": {},
   "source": [
    "## 2 - Premier contact\n",
    "\n",
    "Le but de cette partie est de calculer le score de chaqun des joueurs en se basant sur la formule de TrashTalk"
   ]
  },
  {
   "cell_type": "code",
   "execution_count": 1,
   "metadata": {},
   "outputs": [],
   "source": [
    "#!pip install pandas tqdm datetime matplotlib nba-api"
   ]
  },
  {
   "cell_type": "code",
   "execution_count": 2,
   "metadata": {
    "collapsed": false,
    "jupyter": {
     "outputs_hidden": false
    }
   },
   "outputs": [],
   "source": [
    "import pandas as pd\n",
    "from tqdm import tqdm\n",
    "from nba_api.stats.static import players, teams\n",
    "import nba_api.stats.endpoints as nba\n",
    "from nba_api.stats.library.parameters import SeasonTypeAllStar\n",
    "import time\n",
    "import datetime\n",
    "import matplotlib.pyplot as plt\n",
    "\n",
    "pd.set_option('display.max_columns', None)"
   ]
  },
  {
   "cell_type": "code",
   "execution_count": 3,
   "metadata": {
    "collapsed": false,
    "jupyter": {
     "outputs_hidden": false
    }
   },
   "outputs": [],
   "source": [
    "nba_players = pd.DataFrame(players.get_players()).set_index('id')\n",
    "nba_teams = pd.DataFrame(teams.get_teams()).set_index('id')"
   ]
  },
  {
   "cell_type": "code",
   "execution_count": 4,
   "metadata": {
    "collapsed": false,
    "jupyter": {
     "outputs_hidden": false
    }
   },
   "outputs": [],
   "source": [
    "def player_name2id(name):\n",
    "    return players.find_players_by_full_name(name)[0]['id']"
   ]
  },
  {
   "cell_type": "code",
   "execution_count": 5,
   "metadata": {
    "collapsed": false,
    "jupyter": {
     "outputs_hidden": false
    }
   },
   "outputs": [],
   "source": [
    "def player_id2name(id_player):\n",
    "    return players.find_player_by_id(id_player)['name']"
   ]
  },
  {
   "cell_type": "code",
   "execution_count": 6,
   "metadata": {
    "collapsed": false,
    "jupyter": {
     "outputs_hidden": false
    }
   },
   "outputs": [],
   "source": [
    "def players_id2name(df, name_column='PLAYER_ID'):\n",
    "    players = nba_players['full_name'].to_dict()\n",
    "    \n",
    "    # On place le nom des joueurs juste à droite de l'id\n",
    "    i_name_column = df.columns.get_loc(name_column)\n",
    "    df.insert(i_name_column+1, 'NAME', df[name_column].map(players))\n",
    "    \n",
    "    return(df)"
   ]
  },
  {
   "cell_type": "code",
   "execution_count": 7,
   "metadata": {
    "collapsed": false,
    "jupyter": {
     "outputs_hidden": false
    }
   },
   "outputs": [],
   "source": [
    "def team_abr2id(abr):\n",
    "    return teams.find_team_by_abbreviation(abr)['id']"
   ]
  },
  {
   "cell_type": "code",
   "execution_count": 8,
   "metadata": {
    "collapsed": false,
    "jupyter": {
     "outputs_hidden": false
    }
   },
   "outputs": [],
   "source": [
    "def team_id2name(id_team):\n",
    "    return teams.find_team_name_by_id(id_team)['name']"
   ]
  },
  {
   "cell_type": "code",
   "execution_count": 9,
   "metadata": {
    "collapsed": false,
    "jupyter": {
     "outputs_hidden": false
    }
   },
   "outputs": [],
   "source": [
    "def teams_name2abrv(df, name_column='TeamName'):\n",
    "    abr = nba_teams[['nickname', 'abbreviation']].set_index('nickname') \\\n",
    "                                                    .to_dict()['abbreviation']\n",
    "\n",
    "    df = df.assign(ABBREVIATION=lambda df: df[name_column].map(abr))    \n",
    "    \n",
    "    return df"
   ]
  },
  {
   "cell_type": "code",
   "execution_count": 10,
   "metadata": {
    "collapsed": false,
    "jupyter": {
     "outputs_hidden": false
    }
   },
   "outputs": [],
   "source": [
    "def season_id(season):\n",
    "    return(f'{season}-{int(str(season)[2:])+1}')"
   ]
  },
  {
   "cell_type": "markdown",
   "metadata": {},
   "source": [
    "#### *EndPoint* `PlayerGameLog`\n",
    "\n",
    "Permet de récupérer les statistiques individuelles des joueurs par saison.\n",
    "On l'utilise pour calculer le score de TrashTalk"
   ]
  },
  {
   "cell_type": "code",
   "execution_count": 11,
   "metadata": {
    "collapsed": false,
    "jupyter": {
     "outputs_hidden": false
    }
   },
   "outputs": [],
   "source": [
    "def boxscore_saison(player, season=2019):\n",
    "    playoffs = nba.PlayerGameLog(player, \n",
    "                                 season=season, \n",
    "                                 season_type_all_star=SeasonTypeAllStar.playoffs) \\\n",
    "                                        .get_data_frames()[0]\n",
    "    regular = nba.PlayerGameLog(player, season=season).get_data_frames()[0]\n",
    "    \n",
    "    return(playoffs.append(regular))"
   ]
  },
  {
   "cell_type": "code",
   "execution_count": 12,
   "metadata": {
    "collapsed": false,
    "jupyter": {
     "outputs_hidden": false
    }
   },
   "outputs": [],
   "source": [
    "lebron = player_name2id('LeBron James')"
   ]
  },
  {
   "cell_type": "code",
   "execution_count": 13,
   "metadata": {
    "collapsed": false,
    "jupyter": {
     "outputs_hidden": false
    }
   },
   "outputs": [
    {
     "data": {
      "text/html": [
       "<div>\n",
       "<style scoped>\n",
       "    .dataframe tbody tr th:only-of-type {\n",
       "        vertical-align: middle;\n",
       "    }\n",
       "\n",
       "    .dataframe tbody tr th {\n",
       "        vertical-align: top;\n",
       "    }\n",
       "\n",
       "    .dataframe thead th {\n",
       "        text-align: right;\n",
       "    }\n",
       "</style>\n",
       "<table border=\"1\" class=\"dataframe\">\n",
       "  <thead>\n",
       "    <tr style=\"text-align: right;\">\n",
       "      <th></th>\n",
       "      <th>SEASON_ID</th>\n",
       "      <th>Player_ID</th>\n",
       "      <th>Game_ID</th>\n",
       "      <th>GAME_DATE</th>\n",
       "      <th>MATCHUP</th>\n",
       "      <th>WL</th>\n",
       "      <th>MIN</th>\n",
       "      <th>FGM</th>\n",
       "      <th>FGA</th>\n",
       "      <th>FG_PCT</th>\n",
       "      <th>FG3M</th>\n",
       "      <th>FG3A</th>\n",
       "      <th>FG3_PCT</th>\n",
       "      <th>FTM</th>\n",
       "      <th>FTA</th>\n",
       "      <th>FT_PCT</th>\n",
       "      <th>OREB</th>\n",
       "      <th>DREB</th>\n",
       "      <th>REB</th>\n",
       "      <th>AST</th>\n",
       "      <th>STL</th>\n",
       "      <th>BLK</th>\n",
       "      <th>TOV</th>\n",
       "      <th>PF</th>\n",
       "      <th>PTS</th>\n",
       "      <th>PLUS_MINUS</th>\n",
       "      <th>VIDEO_AVAILABLE</th>\n",
       "    </tr>\n",
       "  </thead>\n",
       "  <tbody>\n",
       "    <tr>\n",
       "      <th>20</th>\n",
       "      <td>42019</td>\n",
       "      <td>2544</td>\n",
       "      <td>0041900141</td>\n",
       "      <td>AUG 18, 2020</td>\n",
       "      <td>LAL vs. POR</td>\n",
       "      <td>L</td>\n",
       "      <td>41</td>\n",
       "      <td>9</td>\n",
       "      <td>20</td>\n",
       "      <td>0.450</td>\n",
       "      <td>1</td>\n",
       "      <td>5</td>\n",
       "      <td>0.200</td>\n",
       "      <td>4</td>\n",
       "      <td>7</td>\n",
       "      <td>0.571</td>\n",
       "      <td>2</td>\n",
       "      <td>15</td>\n",
       "      <td>17</td>\n",
       "      <td>16</td>\n",
       "      <td>1</td>\n",
       "      <td>0</td>\n",
       "      <td>4</td>\n",
       "      <td>1</td>\n",
       "      <td>23</td>\n",
       "      <td>-3</td>\n",
       "      <td>1</td>\n",
       "    </tr>\n",
       "    <tr>\n",
       "      <th>24</th>\n",
       "      <td>22019</td>\n",
       "      <td>2544</td>\n",
       "      <td>0021900667</td>\n",
       "      <td>JAN 23, 2020</td>\n",
       "      <td>LAL @ BKN</td>\n",
       "      <td>W</td>\n",
       "      <td>34</td>\n",
       "      <td>11</td>\n",
       "      <td>19</td>\n",
       "      <td>0.579</td>\n",
       "      <td>3</td>\n",
       "      <td>6</td>\n",
       "      <td>0.500</td>\n",
       "      <td>2</td>\n",
       "      <td>2</td>\n",
       "      <td>1.000</td>\n",
       "      <td>2</td>\n",
       "      <td>9</td>\n",
       "      <td>11</td>\n",
       "      <td>10</td>\n",
       "      <td>1</td>\n",
       "      <td>1</td>\n",
       "      <td>5</td>\n",
       "      <td>0</td>\n",
       "      <td>27</td>\n",
       "      <td>26</td>\n",
       "      <td>1</td>\n",
       "    </tr>\n",
       "    <tr>\n",
       "      <th>42</th>\n",
       "      <td>22019</td>\n",
       "      <td>2544</td>\n",
       "      <td>0021900358</td>\n",
       "      <td>DEC 11, 2019</td>\n",
       "      <td>LAL @ ORL</td>\n",
       "      <td>W</td>\n",
       "      <td>38</td>\n",
       "      <td>11</td>\n",
       "      <td>24</td>\n",
       "      <td>0.458</td>\n",
       "      <td>1</td>\n",
       "      <td>6</td>\n",
       "      <td>0.167</td>\n",
       "      <td>2</td>\n",
       "      <td>5</td>\n",
       "      <td>0.400</td>\n",
       "      <td>2</td>\n",
       "      <td>9</td>\n",
       "      <td>11</td>\n",
       "      <td>10</td>\n",
       "      <td>2</td>\n",
       "      <td>0</td>\n",
       "      <td>6</td>\n",
       "      <td>2</td>\n",
       "      <td>25</td>\n",
       "      <td>8</td>\n",
       "      <td>1</td>\n",
       "    </tr>\n",
       "  </tbody>\n",
       "</table>\n",
       "</div>"
      ],
      "text/plain": [
       "   SEASON_ID  Player_ID     Game_ID     GAME_DATE      MATCHUP WL  MIN  FGM  \\\n",
       "20     42019       2544  0041900141  AUG 18, 2020  LAL vs. POR  L   41    9   \n",
       "24     22019       2544  0021900667  JAN 23, 2020    LAL @ BKN  W   34   11   \n",
       "42     22019       2544  0021900358  DEC 11, 2019    LAL @ ORL  W   38   11   \n",
       "\n",
       "    FGA  FG_PCT  FG3M  FG3A  FG3_PCT  FTM  FTA  FT_PCT  OREB  DREB  REB  AST  \\\n",
       "20   20   0.450     1     5    0.200    4    7   0.571     2    15   17   16   \n",
       "24   19   0.579     3     6    0.500    2    2   1.000     2     9   11   10   \n",
       "42   24   0.458     1     6    0.167    2    5   0.400     2     9   11   10   \n",
       "\n",
       "    STL  BLK  TOV  PF  PTS  PLUS_MINUS  VIDEO_AVAILABLE  \n",
       "20    1    0    4   1   23          -3                1  \n",
       "24    1    1    5   0   27          26                1  \n",
       "42    2    0    6   2   25           8                1  "
      ]
     },
     "execution_count": 13,
     "metadata": {},
     "output_type": "execute_result"
    }
   ],
   "source": [
    "boxscore_saison(lebron).sample(3)"
   ]
  },
  {
   "cell_type": "markdown",
   "metadata": {},
   "source": [
    "#### *EndPoint* `CommonPlayerInfo`\n",
    "\n",
    "On utilise cet *endpoint* pour avoir des informations sur un joueur en particulier, comme sa taille, son poids, sa date de naissance.\n",
    "Un exemple ici est son utilisation pour avoir sa première et sa dernière saision"
   ]
  },
  {
   "cell_type": "code",
   "execution_count": 14,
   "metadata": {
    "collapsed": false,
    "jupyter": {
     "outputs_hidden": false
    }
   },
   "outputs": [
    {
     "data": {
      "text/html": [
       "<div>\n",
       "<style scoped>\n",
       "    .dataframe tbody tr th:only-of-type {\n",
       "        vertical-align: middle;\n",
       "    }\n",
       "\n",
       "    .dataframe tbody tr th {\n",
       "        vertical-align: top;\n",
       "    }\n",
       "\n",
       "    .dataframe thead th {\n",
       "        text-align: right;\n",
       "    }\n",
       "</style>\n",
       "<table border=\"1\" class=\"dataframe\">\n",
       "  <thead>\n",
       "    <tr style=\"text-align: right;\">\n",
       "      <th></th>\n",
       "      <th>PERSON_ID</th>\n",
       "      <th>FIRST_NAME</th>\n",
       "      <th>LAST_NAME</th>\n",
       "      <th>DISPLAY_FIRST_LAST</th>\n",
       "      <th>DISPLAY_LAST_COMMA_FIRST</th>\n",
       "      <th>DISPLAY_FI_LAST</th>\n",
       "      <th>PLAYER_SLUG</th>\n",
       "      <th>BIRTHDATE</th>\n",
       "      <th>SCHOOL</th>\n",
       "      <th>COUNTRY</th>\n",
       "      <th>LAST_AFFILIATION</th>\n",
       "      <th>HEIGHT</th>\n",
       "      <th>WEIGHT</th>\n",
       "      <th>SEASON_EXP</th>\n",
       "      <th>JERSEY</th>\n",
       "      <th>POSITION</th>\n",
       "      <th>ROSTERSTATUS</th>\n",
       "      <th>GAMES_PLAYED_CURRENT_SEASON_FLAG</th>\n",
       "      <th>TEAM_ID</th>\n",
       "      <th>TEAM_NAME</th>\n",
       "      <th>TEAM_ABBREVIATION</th>\n",
       "      <th>TEAM_CODE</th>\n",
       "      <th>TEAM_CITY</th>\n",
       "      <th>PLAYERCODE</th>\n",
       "      <th>FROM_YEAR</th>\n",
       "      <th>TO_YEAR</th>\n",
       "      <th>DLEAGUE_FLAG</th>\n",
       "      <th>NBA_FLAG</th>\n",
       "      <th>GAMES_PLAYED_FLAG</th>\n",
       "      <th>DRAFT_YEAR</th>\n",
       "      <th>DRAFT_ROUND</th>\n",
       "      <th>DRAFT_NUMBER</th>\n",
       "    </tr>\n",
       "  </thead>\n",
       "  <tbody>\n",
       "    <tr>\n",
       "      <th>0</th>\n",
       "      <td>2544</td>\n",
       "      <td>LeBron</td>\n",
       "      <td>James</td>\n",
       "      <td>LeBron James</td>\n",
       "      <td>James, LeBron</td>\n",
       "      <td>L. James</td>\n",
       "      <td>lebron-james</td>\n",
       "      <td>1984-12-30T00:00:00</td>\n",
       "      <td>St. Vincent-St. Mary HS (OH)</td>\n",
       "      <td>USA</td>\n",
       "      <td>St. Vincent-St. Mary HS (OH)/USA</td>\n",
       "      <td>6-9</td>\n",
       "      <td>250</td>\n",
       "      <td>17</td>\n",
       "      <td>23</td>\n",
       "      <td>Forward</td>\n",
       "      <td>Active</td>\n",
       "      <td>N</td>\n",
       "      <td>1610612747</td>\n",
       "      <td>Lakers</td>\n",
       "      <td>LAL</td>\n",
       "      <td>lakers</td>\n",
       "      <td>Los Angeles</td>\n",
       "      <td>lebron_james</td>\n",
       "      <td>2003</td>\n",
       "      <td>2020</td>\n",
       "      <td>N</td>\n",
       "      <td>Y</td>\n",
       "      <td>Y</td>\n",
       "      <td>2003</td>\n",
       "      <td>1</td>\n",
       "      <td>1</td>\n",
       "    </tr>\n",
       "  </tbody>\n",
       "</table>\n",
       "</div>"
      ],
      "text/plain": [
       "   PERSON_ID FIRST_NAME LAST_NAME DISPLAY_FIRST_LAST DISPLAY_LAST_COMMA_FIRST  \\\n",
       "0       2544     LeBron     James       LeBron James            James, LeBron   \n",
       "\n",
       "  DISPLAY_FI_LAST   PLAYER_SLUG            BIRTHDATE  \\\n",
       "0        L. James  lebron-james  1984-12-30T00:00:00   \n",
       "\n",
       "                         SCHOOL COUNTRY                  LAST_AFFILIATION  \\\n",
       "0  St. Vincent-St. Mary HS (OH)     USA  St. Vincent-St. Mary HS (OH)/USA   \n",
       "\n",
       "  HEIGHT WEIGHT  SEASON_EXP JERSEY POSITION ROSTERSTATUS  \\\n",
       "0    6-9    250          17     23  Forward       Active   \n",
       "\n",
       "  GAMES_PLAYED_CURRENT_SEASON_FLAG     TEAM_ID TEAM_NAME TEAM_ABBREVIATION  \\\n",
       "0                                N  1610612747    Lakers               LAL   \n",
       "\n",
       "  TEAM_CODE    TEAM_CITY    PLAYERCODE  FROM_YEAR  TO_YEAR DLEAGUE_FLAG  \\\n",
       "0    lakers  Los Angeles  lebron_james       2003     2020            N   \n",
       "\n",
       "  NBA_FLAG GAMES_PLAYED_FLAG DRAFT_YEAR DRAFT_ROUND DRAFT_NUMBER  \n",
       "0        Y                 Y       2003           1            1  "
      ]
     },
     "execution_count": 14,
     "metadata": {},
     "output_type": "execute_result"
    }
   ],
   "source": [
    "nba.CommonPlayerInfo(lebron).get_data_frames()[0]"
   ]
  },
  {
   "cell_type": "code",
   "execution_count": 15,
   "metadata": {
    "collapsed": false,
    "jupyter": {
     "outputs_hidden": false
    }
   },
   "outputs": [],
   "source": [
    "def first_last_season_player(player_id):\n",
    "    df = nba.CommonPlayerInfo(player_id).get_data_frames()[0]\n",
    "    first = df.FROM_YEAR.values[0]\n",
    "    last = df.TO_YEAR.values[0]\n",
    "    return(first, last)"
   ]
  },
  {
   "cell_type": "code",
   "execution_count": 16,
   "metadata": {
    "collapsed": false,
    "jupyter": {
     "outputs_hidden": false
    }
   },
   "outputs": [
    {
     "data": {
      "text/plain": [
       "(2003, 2020)"
      ]
     },
     "execution_count": 16,
     "metadata": {},
     "output_type": "execute_result"
    }
   ],
   "source": [
    "first_last_season_player(lebron)"
   ]
  },
  {
   "cell_type": "markdown",
   "metadata": {},
   "source": [
    "#### *EndPoint* `CommonTeamRoster`\n",
    "\n",
    "Cet *endpoint* donne des informations sur les 12 de l'équipe qu'on lui demande. /!\\ Il faut spécifier une saison /!\\.\n",
    "Un exemple ici pour récupérer les positions des joueurs pour une équipe et une saison donnée"
   ]
  },
  {
   "cell_type": "code",
   "execution_count": 17,
   "metadata": {
    "collapsed": false,
    "jupyter": {
     "outputs_hidden": false
    }
   },
   "outputs": [
    {
     "data": {
      "text/html": [
       "<div>\n",
       "<style scoped>\n",
       "    .dataframe tbody tr th:only-of-type {\n",
       "        vertical-align: middle;\n",
       "    }\n",
       "\n",
       "    .dataframe tbody tr th {\n",
       "        vertical-align: top;\n",
       "    }\n",
       "\n",
       "    .dataframe thead th {\n",
       "        text-align: right;\n",
       "    }\n",
       "</style>\n",
       "<table border=\"1\" class=\"dataframe\">\n",
       "  <thead>\n",
       "    <tr style=\"text-align: right;\">\n",
       "      <th></th>\n",
       "      <th>TeamID</th>\n",
       "      <th>SEASON</th>\n",
       "      <th>LeagueID</th>\n",
       "      <th>PLAYER</th>\n",
       "      <th>PLAYER_SLUG</th>\n",
       "      <th>NUM</th>\n",
       "      <th>POSITION</th>\n",
       "      <th>HEIGHT</th>\n",
       "      <th>WEIGHT</th>\n",
       "      <th>BIRTH_DATE</th>\n",
       "      <th>AGE</th>\n",
       "      <th>EXP</th>\n",
       "      <th>SCHOOL</th>\n",
       "      <th>PLAYER_ID</th>\n",
       "    </tr>\n",
       "  </thead>\n",
       "  <tbody>\n",
       "    <tr>\n",
       "      <th>6</th>\n",
       "      <td>1610612744</td>\n",
       "      <td>2019</td>\n",
       "      <td>00</td>\n",
       "      <td>Ky Bowman</td>\n",
       "      <td>ky-bowman</td>\n",
       "      <td>12</td>\n",
       "      <td>G</td>\n",
       "      <td>6-1</td>\n",
       "      <td>187</td>\n",
       "      <td>JUN 16, 1997</td>\n",
       "      <td>23.0</td>\n",
       "      <td>R</td>\n",
       "      <td>Boston College</td>\n",
       "      <td>1629065</td>\n",
       "    </tr>\n",
       "    <tr>\n",
       "      <th>9</th>\n",
       "      <td>1610612744</td>\n",
       "      <td>2019</td>\n",
       "      <td>00</td>\n",
       "      <td>Draymond Green</td>\n",
       "      <td>draymond-green</td>\n",
       "      <td>23</td>\n",
       "      <td>F</td>\n",
       "      <td>6-6</td>\n",
       "      <td>230</td>\n",
       "      <td>MAR 04, 1990</td>\n",
       "      <td>30.0</td>\n",
       "      <td>7</td>\n",
       "      <td>Michigan State</td>\n",
       "      <td>203110</td>\n",
       "    </tr>\n",
       "    <tr>\n",
       "      <th>10</th>\n",
       "      <td>1610612744</td>\n",
       "      <td>2019</td>\n",
       "      <td>00</td>\n",
       "      <td>Stephen Curry</td>\n",
       "      <td>stephen-curry</td>\n",
       "      <td>30</td>\n",
       "      <td>G</td>\n",
       "      <td>6-3</td>\n",
       "      <td>185</td>\n",
       "      <td>MAR 14, 1988</td>\n",
       "      <td>32.0</td>\n",
       "      <td>10</td>\n",
       "      <td>Davidson</td>\n",
       "      <td>201939</td>\n",
       "    </tr>\n",
       "  </tbody>\n",
       "</table>\n",
       "</div>"
      ],
      "text/plain": [
       "        TeamID SEASON LeagueID          PLAYER     PLAYER_SLUG NUM POSITION  \\\n",
       "6   1610612744   2019       00       Ky Bowman       ky-bowman  12        G   \n",
       "9   1610612744   2019       00  Draymond Green  draymond-green  23        F   \n",
       "10  1610612744   2019       00   Stephen Curry   stephen-curry  30        G   \n",
       "\n",
       "   HEIGHT WEIGHT    BIRTH_DATE   AGE EXP          SCHOOL  PLAYER_ID  \n",
       "6     6-1    187  JUN 16, 1997  23.0   R  Boston College    1629065  \n",
       "9     6-6    230  MAR 04, 1990  30.0   7  Michigan State     203110  \n",
       "10    6-3    185  MAR 14, 1988  32.0  10        Davidson     201939  "
      ]
     },
     "execution_count": 17,
     "metadata": {},
     "output_type": "execute_result"
    }
   ],
   "source": [
    "warrior = team_abr2id('GSW')\n",
    "nba.CommonTeamRoster(warrior, 2019).get_data_frames()[0].sample(3)"
   ]
  },
  {
   "cell_type": "code",
   "execution_count": 18,
   "metadata": {
    "collapsed": false,
    "jupyter": {
     "outputs_hidden": false
    }
   },
   "outputs": [],
   "source": [
    "def team_players(team_id, saison):\n",
    "    df = nba.CommonTeamRoster(warrior, 2019).get_data_frames()[0]\n",
    "    return(df[['PLAYER_ID', 'PLAYER', 'POSITION']])"
   ]
  },
  {
   "cell_type": "code",
   "execution_count": 19,
   "metadata": {
    "collapsed": false,
    "jupyter": {
     "outputs_hidden": false
    }
   },
   "outputs": [
    {
     "data": {
      "text/html": [
       "<div>\n",
       "<style scoped>\n",
       "    .dataframe tbody tr th:only-of-type {\n",
       "        vertical-align: middle;\n",
       "    }\n",
       "\n",
       "    .dataframe tbody tr th {\n",
       "        vertical-align: top;\n",
       "    }\n",
       "\n",
       "    .dataframe thead th {\n",
       "        text-align: right;\n",
       "    }\n",
       "</style>\n",
       "<table border=\"1\" class=\"dataframe\">\n",
       "  <thead>\n",
       "    <tr style=\"text-align: right;\">\n",
       "      <th></th>\n",
       "      <th>PLAYER_ID</th>\n",
       "      <th>PLAYER</th>\n",
       "      <th>POSITION</th>\n",
       "    </tr>\n",
       "  </thead>\n",
       "  <tbody>\n",
       "    <tr>\n",
       "      <th>11</th>\n",
       "      <td>1627737</td>\n",
       "      <td>Marquese Chriss</td>\n",
       "      <td>F</td>\n",
       "    </tr>\n",
       "    <tr>\n",
       "      <th>12</th>\n",
       "      <td>1629308</td>\n",
       "      <td>Juan Toscano-Anderson</td>\n",
       "      <td>F</td>\n",
       "    </tr>\n",
       "    <tr>\n",
       "      <th>2</th>\n",
       "      <td>1626172</td>\n",
       "      <td>Kevon Looney</td>\n",
       "      <td>F</td>\n",
       "    </tr>\n",
       "  </tbody>\n",
       "</table>\n",
       "</div>"
      ],
      "text/plain": [
       "    PLAYER_ID                 PLAYER POSITION\n",
       "11    1627737        Marquese Chriss        F\n",
       "12    1629308  Juan Toscano-Anderson        F\n",
       "2     1626172           Kevon Looney        F"
      ]
     },
     "execution_count": 19,
     "metadata": {},
     "output_type": "execute_result"
    }
   ],
   "source": [
    "team_players(warrior, 2019).sample(3)"
   ]
  },
  {
   "cell_type": "markdown",
   "metadata": {},
   "source": [
    "#### *EndPoint* `PlayerProfileV2`\n",
    "\n",
    "Ce *endpoint* permet de trouver le prochain match d'un joueur et plein d'autre info qui vont surement pas nous servir. Je comprends pas bien le `Totals` mais je suis pas sur qu'il y ai un impact. De plus, je pense qu'il doit y avoir un autre *endpoint* qui permet d'obtenir cette information.\n",
    "\n",
    "PS: au 27/10 la saison 2020-2021 n'a pas encore démarrer d'où la liste vide"
   ]
  },
  {
   "cell_type": "code",
   "execution_count": 20,
   "metadata": {
    "collapsed": false,
    "jupyter": {
     "outputs_hidden": false
    }
   },
   "outputs": [
    {
     "data": {
      "text/html": [
       "<div>\n",
       "<style scoped>\n",
       "    .dataframe tbody tr th:only-of-type {\n",
       "        vertical-align: middle;\n",
       "    }\n",
       "\n",
       "    .dataframe tbody tr th {\n",
       "        vertical-align: top;\n",
       "    }\n",
       "\n",
       "    .dataframe thead th {\n",
       "        text-align: right;\n",
       "    }\n",
       "</style>\n",
       "<table border=\"1\" class=\"dataframe\">\n",
       "  <thead>\n",
       "    <tr style=\"text-align: right;\">\n",
       "      <th></th>\n",
       "      <th>PLAYER_ID</th>\n",
       "      <th>SEASON_ID</th>\n",
       "      <th>LEAGUE_ID</th>\n",
       "      <th>ORGANIZATION_ID</th>\n",
       "      <th>SCHOOL_NAME</th>\n",
       "      <th>PLAYER_AGE</th>\n",
       "      <th>GP</th>\n",
       "      <th>GS</th>\n",
       "      <th>MIN</th>\n",
       "      <th>FGM</th>\n",
       "      <th>FGA</th>\n",
       "      <th>FG_PCT</th>\n",
       "      <th>FG3M</th>\n",
       "      <th>FG3A</th>\n",
       "      <th>FG3_PCT</th>\n",
       "      <th>FTM</th>\n",
       "      <th>FTA</th>\n",
       "      <th>FT_PCT</th>\n",
       "      <th>OREB</th>\n",
       "      <th>DREB</th>\n",
       "      <th>REB</th>\n",
       "      <th>AST</th>\n",
       "      <th>STL</th>\n",
       "      <th>BLK</th>\n",
       "      <th>TOV</th>\n",
       "      <th>PF</th>\n",
       "      <th>PTS</th>\n",
       "    </tr>\n",
       "  </thead>\n",
       "  <tbody>\n",
       "  </tbody>\n",
       "</table>\n",
       "</div>"
      ],
      "text/plain": [
       "Empty DataFrame\n",
       "Columns: [PLAYER_ID, SEASON_ID, LEAGUE_ID, ORGANIZATION_ID, SCHOOL_NAME, PLAYER_AGE, GP, GS, MIN, FGM, FGA, FG_PCT, FG3M, FG3A, FG3_PCT, FTM, FTA, FT_PCT, OREB, DREB, REB, AST, STL, BLK, TOV, PF, PTS]\n",
       "Index: []"
      ]
     },
     "execution_count": 20,
     "metadata": {},
     "output_type": "execute_result"
    }
   ],
   "source": [
    "nba.PlayerProfileV2(lebron, 'Totals').get_data_frames()[6]"
   ]
  },
  {
   "cell_type": "markdown",
   "metadata": {},
   "source": [
    "#### *EndPoint* `LeagueStandings`\n",
    "\n",
    "Ce *endpoint* permet d'avoir des informations sur les équipes pour une saison particulière. Par exemple, ici nous l'utilisons pour avoir le classement des équipes."
   ]
  },
  {
   "cell_type": "code",
   "execution_count": 21,
   "metadata": {
    "collapsed": false,
    "jupyter": {
     "outputs_hidden": false
    }
   },
   "outputs": [
    {
     "data": {
      "text/html": [
       "<div>\n",
       "<style scoped>\n",
       "    .dataframe tbody tr th:only-of-type {\n",
       "        vertical-align: middle;\n",
       "    }\n",
       "\n",
       "    .dataframe tbody tr th {\n",
       "        vertical-align: top;\n",
       "    }\n",
       "\n",
       "    .dataframe thead th {\n",
       "        text-align: right;\n",
       "    }\n",
       "</style>\n",
       "<table border=\"1\" class=\"dataframe\">\n",
       "  <thead>\n",
       "    <tr style=\"text-align: right;\">\n",
       "      <th></th>\n",
       "      <th>TeamName</th>\n",
       "    </tr>\n",
       "  </thead>\n",
       "  <tbody>\n",
       "    <tr>\n",
       "      <th>0</th>\n",
       "      <td>Lakers</td>\n",
       "    </tr>\n",
       "    <tr>\n",
       "      <th>1</th>\n",
       "      <td>Bucks</td>\n",
       "    </tr>\n",
       "    <tr>\n",
       "      <th>2</th>\n",
       "      <td>Clippers</td>\n",
       "    </tr>\n",
       "  </tbody>\n",
       "</table>\n",
       "</div>"
      ],
      "text/plain": [
       "   TeamName\n",
       "0    Lakers\n",
       "1     Bucks\n",
       "2  Clippers"
      ]
     },
     "execution_count": 21,
     "metadata": {},
     "output_type": "execute_result"
    }
   ],
   "source": [
    "nba.LeagueStandings(season=2019).get_data_frames()[0]['TeamName']  \\\n",
    "                                .to_frame()  \\\n",
    "                                .head(3)"
   ]
  },
  {
   "cell_type": "code",
   "execution_count": 22,
   "metadata": {
    "collapsed": false,
    "jupyter": {
     "outputs_hidden": false
    }
   },
   "outputs": [],
   "source": [
    "def teamsStandings(season):\n",
    "    \"\"\"\n",
    "    Renvoie une liste d'abbréviation rangée dans l'ordre \n",
    "    du classement de la saison [season]\n",
    "    \"\"\"\n",
    "    \n",
    "    # On récupère les info sur les équipes pour la league [season]\n",
    "    teams=nba.LeagueStandings(season=season) \\\n",
    "                .get_data_frames()[0]['TeamName'] \\\n",
    "                .to_frame()\n",
    "    \n",
    "    # On récupère les abbreviations des équipes et on créé un colone\n",
    "    abr = nba_teams[['nickname', 'abbreviation']].set_index('nickname') \\\n",
    "                                                    .to_dict()['abbreviation']\n",
    "    teams = teams.assign(ABBREVIATION=lambda df: df['TeamName'].map(abr))\n",
    "\n",
    "    return teams.ABBREVIATION.values"
   ]
  },
  {
   "cell_type": "code",
   "execution_count": 23,
   "metadata": {
    "collapsed": false,
    "jupyter": {
     "outputs_hidden": false
    }
   },
   "outputs": [
    {
     "data": {
      "text/plain": [
       "array(['LAL', 'MIL', 'LAC', 'TOR', 'DEN', 'BOS', 'HOU', 'IND', 'MIA',\n",
       "       'OKC', 'UTA', 'PHI', 'DAL', 'BKN', 'ORL', 'POR', 'MEM', 'WAS',\n",
       "       'CHA', 'PHX', 'CHI', 'SAS', 'NYK', 'SAC', 'DET', 'NOP', 'MIN',\n",
       "       'ATL', 'CLE', 'GSW'], dtype=object)"
      ]
     },
     "execution_count": 23,
     "metadata": {},
     "output_type": "execute_result"
    }
   ],
   "source": [
    "teamsStandings(2019)"
   ]
  },
  {
   "cell_type": "markdown",
   "metadata": {},
   "source": [
    "## 3 - Fonctions de récupérations de données\n",
    "\n",
    "On retrouve ici les fonctions nécéssaires pour récupérer un base de données propre avec les données qui nous intéresse.\n",
    "La première chose à faire est de connaître les joueurs qui nous intéresse car les appels API sont limités."
   ]
  },
  {
   "cell_type": "code",
   "execution_count": 24,
   "metadata": {
    "collapsed": false,
    "jupyter": {
     "outputs_hidden": false
    }
   },
   "outputs": [],
   "source": [
    "def get_data_teams():\n",
    "    \"\"\"\n",
    "    Récupère les statistiques par années de chacun des joueurs\n",
    "    permet surtout de savoir quelles années ils ont joué et pour qui.\n",
    "    \"\"\"\n",
    "    \n",
    "    df = pd.DataFrame()\n",
    "\n",
    "    lst_index = nba_players.index.values\n",
    "    \n",
    "    time = len(lst_index)*0.7\n",
    "\n",
    "    print(f'Cela va prendre environ : {datetime.timedelta(seconds=time)}')\n",
    "    for i in range(len(lst_index)):\n",
    "        print(f'\\r{i+1}/{len(lst_index)}', end='')\n",
    "        df = df.append(nba.PlayerCareerStats(lst_index[i])\\\n",
    "                            .season_totals_regular_season.get_data_frame())\n",
    "        time.sleep(0.5)\n",
    "    \n",
    "    df.to_csv('../data/players_data.csv', index=False)"
   ]
  },
  {
   "cell_type": "code",
   "execution_count": 25,
   "metadata": {
    "collapsed": false,
    "jupyter": {
     "outputs_hidden": false
    }
   },
   "outputs": [
    {
     "data": {
      "text/html": [
       "<div>\n",
       "<style scoped>\n",
       "    .dataframe tbody tr th:only-of-type {\n",
       "        vertical-align: middle;\n",
       "    }\n",
       "\n",
       "    .dataframe tbody tr th {\n",
       "        vertical-align: top;\n",
       "    }\n",
       "\n",
       "    .dataframe thead th {\n",
       "        text-align: right;\n",
       "    }\n",
       "</style>\n",
       "<table border=\"1\" class=\"dataframe\">\n",
       "  <thead>\n",
       "    <tr style=\"text-align: right;\">\n",
       "      <th></th>\n",
       "      <th>PLAYER_ID</th>\n",
       "      <th>SEASON_ID</th>\n",
       "      <th>LEAGUE_ID</th>\n",
       "      <th>TEAM_ID</th>\n",
       "      <th>TEAM_ABBREVIATION</th>\n",
       "      <th>PLAYER_AGE</th>\n",
       "      <th>GP</th>\n",
       "      <th>GS</th>\n",
       "      <th>MIN</th>\n",
       "      <th>FGM</th>\n",
       "      <th>FGA</th>\n",
       "      <th>FG_PCT</th>\n",
       "      <th>FG3M</th>\n",
       "      <th>FG3A</th>\n",
       "      <th>FG3_PCT</th>\n",
       "      <th>FTM</th>\n",
       "      <th>FTA</th>\n",
       "      <th>FT_PCT</th>\n",
       "      <th>OREB</th>\n",
       "      <th>DREB</th>\n",
       "      <th>REB</th>\n",
       "      <th>AST</th>\n",
       "      <th>STL</th>\n",
       "      <th>BLK</th>\n",
       "      <th>TOV</th>\n",
       "      <th>PF</th>\n",
       "      <th>PTS</th>\n",
       "    </tr>\n",
       "  </thead>\n",
       "  <tbody>\n",
       "    <tr>\n",
       "      <th>17314</th>\n",
       "      <td>203488</td>\n",
       "      <td>2018-19</td>\n",
       "      <td>0</td>\n",
       "      <td>1610612747</td>\n",
       "      <td>LAL</td>\n",
       "      <td>27.0</td>\n",
       "      <td>17</td>\n",
       "      <td>4.0</td>\n",
       "      <td>265.0</td>\n",
       "      <td>36</td>\n",
       "      <td>83</td>\n",
       "      <td>0.434</td>\n",
       "      <td>21.0</td>\n",
       "      <td>57.0</td>\n",
       "      <td>0.368</td>\n",
       "      <td>7</td>\n",
       "      <td>8</td>\n",
       "      <td>0.875</td>\n",
       "      <td>6.0</td>\n",
       "      <td>38.0</td>\n",
       "      <td>44.0</td>\n",
       "      <td>14</td>\n",
       "      <td>4.0</td>\n",
       "      <td>11.0</td>\n",
       "      <td>5.0</td>\n",
       "      <td>18</td>\n",
       "      <td>100</td>\n",
       "    </tr>\n",
       "    <tr>\n",
       "      <th>12335</th>\n",
       "      <td>134</td>\n",
       "      <td>1987-88</td>\n",
       "      <td>0</td>\n",
       "      <td>0</td>\n",
       "      <td>TOT</td>\n",
       "      <td>22.0</td>\n",
       "      <td>80</td>\n",
       "      <td>28.0</td>\n",
       "      <td>1917.0</td>\n",
       "      <td>275</td>\n",
       "      <td>596</td>\n",
       "      <td>0.461</td>\n",
       "      <td>5.0</td>\n",
       "      <td>24.0</td>\n",
       "      <td>0.208</td>\n",
       "      <td>177</td>\n",
       "      <td>211</td>\n",
       "      <td>0.839</td>\n",
       "      <td>36.0</td>\n",
       "      <td>155.0</td>\n",
       "      <td>191.0</td>\n",
       "      <td>437</td>\n",
       "      <td>103.0</td>\n",
       "      <td>24.0</td>\n",
       "      <td>146.0</td>\n",
       "      <td>155</td>\n",
       "      <td>732</td>\n",
       "    </tr>\n",
       "    <tr>\n",
       "      <th>15792</th>\n",
       "      <td>77524</td>\n",
       "      <td>1988-89</td>\n",
       "      <td>0</td>\n",
       "      <td>1610612744</td>\n",
       "      <td>GOS</td>\n",
       "      <td>26.0</td>\n",
       "      <td>11</td>\n",
       "      <td>0.0</td>\n",
       "      <td>103.0</td>\n",
       "      <td>13</td>\n",
       "      <td>19</td>\n",
       "      <td>0.684</td>\n",
       "      <td>0.0</td>\n",
       "      <td>0.0</td>\n",
       "      <td>0.000</td>\n",
       "      <td>9</td>\n",
       "      <td>15</td>\n",
       "      <td>0.600</td>\n",
       "      <td>4.0</td>\n",
       "      <td>8.0</td>\n",
       "      <td>12.0</td>\n",
       "      <td>5</td>\n",
       "      <td>4.0</td>\n",
       "      <td>0.0</td>\n",
       "      <td>3.0</td>\n",
       "      <td>11</td>\n",
       "      <td>35</td>\n",
       "    </tr>\n",
       "  </tbody>\n",
       "</table>\n",
       "</div>"
      ],
      "text/plain": [
       "       PLAYER_ID SEASON_ID  LEAGUE_ID     TEAM_ID TEAM_ABBREVIATION  \\\n",
       "17314     203488   2018-19          0  1610612747               LAL   \n",
       "12335        134   1987-88          0           0               TOT   \n",
       "15792      77524   1988-89          0  1610612744               GOS   \n",
       "\n",
       "       PLAYER_AGE  GP    GS     MIN  FGM  FGA  FG_PCT  FG3M  FG3A  FG3_PCT  \\\n",
       "17314        27.0  17   4.0   265.0   36   83   0.434  21.0  57.0    0.368   \n",
       "12335        22.0  80  28.0  1917.0  275  596   0.461   5.0  24.0    0.208   \n",
       "15792        26.0  11   0.0   103.0   13   19   0.684   0.0   0.0    0.000   \n",
       "\n",
       "       FTM  FTA  FT_PCT  OREB   DREB    REB  AST    STL   BLK    TOV   PF  PTS  \n",
       "17314    7    8   0.875   6.0   38.0   44.0   14    4.0  11.0    5.0   18  100  \n",
       "12335  177  211   0.839  36.0  155.0  191.0  437  103.0  24.0  146.0  155  732  \n",
       "15792    9   15   0.600   4.0    8.0   12.0    5    4.0   0.0    3.0   11   35  "
      ]
     },
     "execution_count": 25,
     "metadata": {},
     "output_type": "execute_result"
    }
   ],
   "source": [
    "#get_data_teams()\n",
    "\n",
    "df_teams = pd.read_csv('../data/players_data.csv')\n",
    "df_teams.sample(3)"
   ]
  },
  {
   "cell_type": "code",
   "execution_count": 26,
   "metadata": {
    "collapsed": false,
    "jupyter": {
     "outputs_hidden": false
    }
   },
   "outputs": [
    {
     "name": "stdout",
     "output_type": "stream",
     "text": [
      "4484\n",
      "4501\n"
     ]
    }
   ],
   "source": [
    "print(len(df_teams['PLAYER_ID'].unique()))\n",
    "print(len(nba_players))"
   ]
  },
  {
   "cell_type": "markdown",
   "metadata": {},
   "source": [
    "On remarque que les listes des joueurs de l'API et du module ne sont pas les mêmes."
   ]
  },
  {
   "cell_type": "code",
   "execution_count": 27,
   "metadata": {
    "collapsed": false,
    "jupyter": {
     "outputs_hidden": false
    }
   },
   "outputs": [
    {
     "data": {
      "text/html": [
       "<div>\n",
       "<style scoped>\n",
       "    .dataframe tbody tr th:only-of-type {\n",
       "        vertical-align: middle;\n",
       "    }\n",
       "\n",
       "    .dataframe tbody tr th {\n",
       "        vertical-align: top;\n",
       "    }\n",
       "\n",
       "    .dataframe thead th {\n",
       "        text-align: right;\n",
       "    }\n",
       "</style>\n",
       "<table border=\"1\" class=\"dataframe\">\n",
       "  <thead>\n",
       "    <tr style=\"text-align: right;\">\n",
       "      <th></th>\n",
       "      <th>id</th>\n",
       "      <th>NAME</th>\n",
       "    </tr>\n",
       "  </thead>\n",
       "  <tbody>\n",
       "    <tr>\n",
       "      <th>3662</th>\n",
       "      <td>202067</td>\n",
       "      <td>Diamon Simpson</td>\n",
       "    </tr>\n",
       "    <tr>\n",
       "      <th>4435</th>\n",
       "      <td>1629624</td>\n",
       "      <td>Kenny Wooten</td>\n",
       "    </tr>\n",
       "    <tr>\n",
       "      <th>1664</th>\n",
       "      <td>202238</td>\n",
       "      <td>Kenny Hasbrouck</td>\n",
       "    </tr>\n",
       "  </tbody>\n",
       "</table>\n",
       "</div>"
      ],
      "text/plain": [
       "           id             NAME\n",
       "3662   202067   Diamon Simpson\n",
       "4435  1629624     Kenny Wooten\n",
       "1664   202238  Kenny Hasbrouck"
      ]
     },
     "execution_count": 27,
     "metadata": {},
     "output_type": "execute_result"
    }
   ],
   "source": [
    "all_player = pd.DataFrame(nba_players.index)\n",
    "missing = players_id2name(all_player[~all_player['id'] \\\n",
    "                                     .isin(df_teams['PLAYER_ID'])], 'id')\n",
    "missing.sample(3)"
   ]
  },
  {
   "cell_type": "markdown",
   "metadata": {},
   "source": [
    "Après une recherche sur internet de certains joueurs on se rends compte que ce sont des joueurs qui n'ont joué aucun match en NBA de leur carrière donc on peut ne pas en tenir compte. À partir de maintenenant on ne concidère que les joueurs de l'API et non du module."
   ]
  },
  {
   "cell_type": "code",
   "execution_count": 28,
   "metadata": {
    "collapsed": false,
    "jupyter": {
     "outputs_hidden": false
    }
   },
   "outputs": [],
   "source": [
    "def all_season_data():\n",
    "    \n",
    "    df_teams = pd.read_csv('../data/players_data.csv')\n",
    "    \n",
    "    #On enlève les lignes TOT qui contabilise les statistiques \n",
    "    # lorsqu'un joueur a jouer dans plusieurs équipe une même année\n",
    "    df_teams = df_teams[~(df_teams['TEAM_ABBREVIATION'] == 'TOT')]\n",
    "    \n",
    "    df = pd.get_dummies(df_teams[['PLAYER_ID', 'SEASON_ID']], \n",
    "                        columns=['SEASON_ID'], prefix='', prefix_sep='')\n",
    "    \n",
    "    df_active=df.groupby('PLAYER_ID').sum()\n",
    "    \n",
    "    return(df_active.reset_index())"
   ]
  },
  {
   "cell_type": "code",
   "execution_count": 29,
   "metadata": {
    "collapsed": false,
    "jupyter": {
     "outputs_hidden": false
    }
   },
   "outputs": [
    {
     "data": {
      "text/html": [
       "<div>\n",
       "<style scoped>\n",
       "    .dataframe tbody tr th:only-of-type {\n",
       "        vertical-align: middle;\n",
       "    }\n",
       "\n",
       "    .dataframe tbody tr th {\n",
       "        vertical-align: top;\n",
       "    }\n",
       "\n",
       "    .dataframe thead th {\n",
       "        text-align: right;\n",
       "    }\n",
       "</style>\n",
       "<table border=\"1\" class=\"dataframe\">\n",
       "  <thead>\n",
       "    <tr style=\"text-align: right;\">\n",
       "      <th></th>\n",
       "      <th>PLAYER_ID</th>\n",
       "      <th>1946-47</th>\n",
       "      <th>1947-48</th>\n",
       "      <th>1948-49</th>\n",
       "      <th>1949-50</th>\n",
       "      <th>1950-51</th>\n",
       "      <th>1951-52</th>\n",
       "      <th>1952-53</th>\n",
       "      <th>1953-54</th>\n",
       "      <th>1954-55</th>\n",
       "      <th>1955-56</th>\n",
       "      <th>1956-57</th>\n",
       "      <th>1957-58</th>\n",
       "      <th>1958-59</th>\n",
       "      <th>1959-60</th>\n",
       "      <th>1960-61</th>\n",
       "      <th>1961-62</th>\n",
       "      <th>1962-63</th>\n",
       "      <th>1963-64</th>\n",
       "      <th>1964-65</th>\n",
       "      <th>1965-66</th>\n",
       "      <th>1966-67</th>\n",
       "      <th>1967-68</th>\n",
       "      <th>1968-69</th>\n",
       "      <th>1969-70</th>\n",
       "      <th>1970-71</th>\n",
       "      <th>1971-72</th>\n",
       "      <th>1972-73</th>\n",
       "      <th>1973-74</th>\n",
       "      <th>1974-75</th>\n",
       "      <th>1975-76</th>\n",
       "      <th>1976-77</th>\n",
       "      <th>1977-78</th>\n",
       "      <th>1978-79</th>\n",
       "      <th>1979-80</th>\n",
       "      <th>1980-81</th>\n",
       "      <th>1981-82</th>\n",
       "      <th>1982-83</th>\n",
       "      <th>1983-84</th>\n",
       "      <th>1984-85</th>\n",
       "      <th>1985-86</th>\n",
       "      <th>1986-87</th>\n",
       "      <th>1987-88</th>\n",
       "      <th>1988-89</th>\n",
       "      <th>1989-90</th>\n",
       "      <th>1990-91</th>\n",
       "      <th>1991-92</th>\n",
       "      <th>1992-93</th>\n",
       "      <th>1993-94</th>\n",
       "      <th>1994-95</th>\n",
       "      <th>1995-96</th>\n",
       "      <th>1996-97</th>\n",
       "      <th>1997-98</th>\n",
       "      <th>1998-99</th>\n",
       "      <th>1999-00</th>\n",
       "      <th>2000-01</th>\n",
       "      <th>2001-02</th>\n",
       "      <th>2002-03</th>\n",
       "      <th>2003-04</th>\n",
       "      <th>2004-05</th>\n",
       "      <th>2005-06</th>\n",
       "      <th>2006-07</th>\n",
       "      <th>2007-08</th>\n",
       "      <th>2008-09</th>\n",
       "      <th>2009-10</th>\n",
       "      <th>2010-11</th>\n",
       "      <th>2011-12</th>\n",
       "      <th>2012-13</th>\n",
       "      <th>2013-14</th>\n",
       "      <th>2014-15</th>\n",
       "      <th>2015-16</th>\n",
       "      <th>2016-17</th>\n",
       "      <th>2017-18</th>\n",
       "      <th>2018-19</th>\n",
       "      <th>2019-20</th>\n",
       "    </tr>\n",
       "  </thead>\n",
       "  <tbody>\n",
       "    <tr>\n",
       "      <th>4370</th>\n",
       "      <td>1629109</td>\n",
       "      <td>0</td>\n",
       "      <td>0</td>\n",
       "      <td>0</td>\n",
       "      <td>0</td>\n",
       "      <td>0</td>\n",
       "      <td>0</td>\n",
       "      <td>0</td>\n",
       "      <td>0</td>\n",
       "      <td>0</td>\n",
       "      <td>0</td>\n",
       "      <td>0</td>\n",
       "      <td>0</td>\n",
       "      <td>0</td>\n",
       "      <td>0</td>\n",
       "      <td>0</td>\n",
       "      <td>0</td>\n",
       "      <td>0</td>\n",
       "      <td>0</td>\n",
       "      <td>0</td>\n",
       "      <td>0</td>\n",
       "      <td>0</td>\n",
       "      <td>0</td>\n",
       "      <td>0</td>\n",
       "      <td>0</td>\n",
       "      <td>0</td>\n",
       "      <td>0</td>\n",
       "      <td>0</td>\n",
       "      <td>0</td>\n",
       "      <td>0</td>\n",
       "      <td>0</td>\n",
       "      <td>0</td>\n",
       "      <td>0</td>\n",
       "      <td>0</td>\n",
       "      <td>0</td>\n",
       "      <td>0</td>\n",
       "      <td>0</td>\n",
       "      <td>0</td>\n",
       "      <td>0</td>\n",
       "      <td>0</td>\n",
       "      <td>0</td>\n",
       "      <td>0</td>\n",
       "      <td>0</td>\n",
       "      <td>0</td>\n",
       "      <td>0</td>\n",
       "      <td>0</td>\n",
       "      <td>0</td>\n",
       "      <td>0</td>\n",
       "      <td>0</td>\n",
       "      <td>0</td>\n",
       "      <td>0</td>\n",
       "      <td>0</td>\n",
       "      <td>0</td>\n",
       "      <td>0</td>\n",
       "      <td>0</td>\n",
       "      <td>0</td>\n",
       "      <td>0</td>\n",
       "      <td>0</td>\n",
       "      <td>0</td>\n",
       "      <td>0</td>\n",
       "      <td>0</td>\n",
       "      <td>0</td>\n",
       "      <td>0</td>\n",
       "      <td>0</td>\n",
       "      <td>0</td>\n",
       "      <td>0</td>\n",
       "      <td>0</td>\n",
       "      <td>0</td>\n",
       "      <td>0</td>\n",
       "      <td>0</td>\n",
       "      <td>0</td>\n",
       "      <td>0</td>\n",
       "      <td>0</td>\n",
       "      <td>1</td>\n",
       "      <td>2</td>\n",
       "    </tr>\n",
       "    <tr>\n",
       "      <th>4087</th>\n",
       "      <td>1626262</td>\n",
       "      <td>0</td>\n",
       "      <td>0</td>\n",
       "      <td>0</td>\n",
       "      <td>0</td>\n",
       "      <td>0</td>\n",
       "      <td>0</td>\n",
       "      <td>0</td>\n",
       "      <td>0</td>\n",
       "      <td>0</td>\n",
       "      <td>0</td>\n",
       "      <td>0</td>\n",
       "      <td>0</td>\n",
       "      <td>0</td>\n",
       "      <td>0</td>\n",
       "      <td>0</td>\n",
       "      <td>0</td>\n",
       "      <td>0</td>\n",
       "      <td>0</td>\n",
       "      <td>0</td>\n",
       "      <td>0</td>\n",
       "      <td>0</td>\n",
       "      <td>0</td>\n",
       "      <td>0</td>\n",
       "      <td>0</td>\n",
       "      <td>0</td>\n",
       "      <td>0</td>\n",
       "      <td>0</td>\n",
       "      <td>0</td>\n",
       "      <td>0</td>\n",
       "      <td>0</td>\n",
       "      <td>0</td>\n",
       "      <td>0</td>\n",
       "      <td>0</td>\n",
       "      <td>0</td>\n",
       "      <td>0</td>\n",
       "      <td>0</td>\n",
       "      <td>0</td>\n",
       "      <td>0</td>\n",
       "      <td>0</td>\n",
       "      <td>0</td>\n",
       "      <td>0</td>\n",
       "      <td>0</td>\n",
       "      <td>0</td>\n",
       "      <td>0</td>\n",
       "      <td>0</td>\n",
       "      <td>0</td>\n",
       "      <td>0</td>\n",
       "      <td>0</td>\n",
       "      <td>0</td>\n",
       "      <td>0</td>\n",
       "      <td>0</td>\n",
       "      <td>0</td>\n",
       "      <td>0</td>\n",
       "      <td>0</td>\n",
       "      <td>0</td>\n",
       "      <td>0</td>\n",
       "      <td>0</td>\n",
       "      <td>0</td>\n",
       "      <td>0</td>\n",
       "      <td>0</td>\n",
       "      <td>0</td>\n",
       "      <td>0</td>\n",
       "      <td>0</td>\n",
       "      <td>0</td>\n",
       "      <td>0</td>\n",
       "      <td>0</td>\n",
       "      <td>0</td>\n",
       "      <td>0</td>\n",
       "      <td>0</td>\n",
       "      <td>1</td>\n",
       "      <td>0</td>\n",
       "      <td>0</td>\n",
       "      <td>0</td>\n",
       "      <td>0</td>\n",
       "    </tr>\n",
       "    <tr>\n",
       "      <th>1931</th>\n",
       "      <td>77017</td>\n",
       "      <td>0</td>\n",
       "      <td>0</td>\n",
       "      <td>0</td>\n",
       "      <td>0</td>\n",
       "      <td>0</td>\n",
       "      <td>0</td>\n",
       "      <td>0</td>\n",
       "      <td>0</td>\n",
       "      <td>0</td>\n",
       "      <td>0</td>\n",
       "      <td>0</td>\n",
       "      <td>0</td>\n",
       "      <td>0</td>\n",
       "      <td>0</td>\n",
       "      <td>0</td>\n",
       "      <td>0</td>\n",
       "      <td>0</td>\n",
       "      <td>0</td>\n",
       "      <td>0</td>\n",
       "      <td>0</td>\n",
       "      <td>0</td>\n",
       "      <td>0</td>\n",
       "      <td>0</td>\n",
       "      <td>0</td>\n",
       "      <td>0</td>\n",
       "      <td>0</td>\n",
       "      <td>0</td>\n",
       "      <td>0</td>\n",
       "      <td>0</td>\n",
       "      <td>0</td>\n",
       "      <td>2</td>\n",
       "      <td>0</td>\n",
       "      <td>1</td>\n",
       "      <td>0</td>\n",
       "      <td>0</td>\n",
       "      <td>0</td>\n",
       "      <td>0</td>\n",
       "      <td>0</td>\n",
       "      <td>0</td>\n",
       "      <td>0</td>\n",
       "      <td>0</td>\n",
       "      <td>0</td>\n",
       "      <td>0</td>\n",
       "      <td>0</td>\n",
       "      <td>0</td>\n",
       "      <td>0</td>\n",
       "      <td>0</td>\n",
       "      <td>0</td>\n",
       "      <td>0</td>\n",
       "      <td>0</td>\n",
       "      <td>0</td>\n",
       "      <td>0</td>\n",
       "      <td>0</td>\n",
       "      <td>0</td>\n",
       "      <td>0</td>\n",
       "      <td>0</td>\n",
       "      <td>0</td>\n",
       "      <td>0</td>\n",
       "      <td>0</td>\n",
       "      <td>0</td>\n",
       "      <td>0</td>\n",
       "      <td>0</td>\n",
       "      <td>0</td>\n",
       "      <td>0</td>\n",
       "      <td>0</td>\n",
       "      <td>0</td>\n",
       "      <td>0</td>\n",
       "      <td>0</td>\n",
       "      <td>0</td>\n",
       "      <td>0</td>\n",
       "      <td>0</td>\n",
       "      <td>0</td>\n",
       "      <td>0</td>\n",
       "      <td>0</td>\n",
       "    </tr>\n",
       "  </tbody>\n",
       "</table>\n",
       "</div>"
      ],
      "text/plain": [
       "      PLAYER_ID  1946-47  1947-48  1948-49  1949-50  1950-51  1951-52  \\\n",
       "4370    1629109        0        0        0        0        0        0   \n",
       "4087    1626262        0        0        0        0        0        0   \n",
       "1931      77017        0        0        0        0        0        0   \n",
       "\n",
       "      1952-53  1953-54  1954-55  1955-56  1956-57  1957-58  1958-59  1959-60  \\\n",
       "4370        0        0        0        0        0        0        0        0   \n",
       "4087        0        0        0        0        0        0        0        0   \n",
       "1931        0        0        0        0        0        0        0        0   \n",
       "\n",
       "      1960-61  1961-62  1962-63  1963-64  1964-65  1965-66  1966-67  1967-68  \\\n",
       "4370        0        0        0        0        0        0        0        0   \n",
       "4087        0        0        0        0        0        0        0        0   \n",
       "1931        0        0        0        0        0        0        0        0   \n",
       "\n",
       "      1968-69  1969-70  1970-71  1971-72  1972-73  1973-74  1974-75  1975-76  \\\n",
       "4370        0        0        0        0        0        0        0        0   \n",
       "4087        0        0        0        0        0        0        0        0   \n",
       "1931        0        0        0        0        0        0        0        0   \n",
       "\n",
       "      1976-77  1977-78  1978-79  1979-80  1980-81  1981-82  1982-83  1983-84  \\\n",
       "4370        0        0        0        0        0        0        0        0   \n",
       "4087        0        0        0        0        0        0        0        0   \n",
       "1931        2        0        1        0        0        0        0        0   \n",
       "\n",
       "      1984-85  1985-86  1986-87  1987-88  1988-89  1989-90  1990-91  1991-92  \\\n",
       "4370        0        0        0        0        0        0        0        0   \n",
       "4087        0        0        0        0        0        0        0        0   \n",
       "1931        0        0        0        0        0        0        0        0   \n",
       "\n",
       "      1992-93  1993-94  1994-95  1995-96  1996-97  1997-98  1998-99  1999-00  \\\n",
       "4370        0        0        0        0        0        0        0        0   \n",
       "4087        0        0        0        0        0        0        0        0   \n",
       "1931        0        0        0        0        0        0        0        0   \n",
       "\n",
       "      2000-01  2001-02  2002-03  2003-04  2004-05  2005-06  2006-07  2007-08  \\\n",
       "4370        0        0        0        0        0        0        0        0   \n",
       "4087        0        0        0        0        0        0        0        0   \n",
       "1931        0        0        0        0        0        0        0        0   \n",
       "\n",
       "      2008-09  2009-10  2010-11  2011-12  2012-13  2013-14  2014-15  2015-16  \\\n",
       "4370        0        0        0        0        0        0        0        0   \n",
       "4087        0        0        0        0        0        0        0        1   \n",
       "1931        0        0        0        0        0        0        0        0   \n",
       "\n",
       "      2016-17  2017-18  2018-19  2019-20  \n",
       "4370        0        0        1        2  \n",
       "4087        0        0        0        0  \n",
       "1931        0        0        0        0  "
      ]
     },
     "execution_count": 29,
     "metadata": {},
     "output_type": "execute_result"
    }
   ],
   "source": [
    "# Cette 'matrice' est ce que l'on appelle 'sprase' ou creuse donc pour la garder en mémoire on peut utiliser un type d'encodage mais ici on ne s'embète pas.\n",
    "all_season_data().sample(3)"
   ]
  },
  {
   "cell_type": "code",
   "execution_count": 30,
   "metadata": {
    "collapsed": false,
    "jupyter": {
     "outputs_hidden": false
    }
   },
   "outputs": [],
   "source": [
    "def active_players(season):\n",
    "    '''\n",
    "    Retourne une liste des PLAYER_ID des joueurs qui ont joué \n",
    "    durant la saison [season]-[season+1]\n",
    "    '''\n",
    "    \n",
    "    df_season = all_season_data()\n",
    "    return(df_season[df_season[season_id(season)] > 0].PLAYER_ID.values)"
   ]
  },
  {
   "cell_type": "code",
   "execution_count": 31,
   "metadata": {
    "collapsed": false,
    "jupyter": {
     "outputs_hidden": false
    }
   },
   "outputs": [
    {
     "data": {
      "text/plain": [
       "array([1713, 2037, 2199])"
      ]
     },
     "execution_count": 31,
     "metadata": {},
     "output_type": "execute_result"
    }
   ],
   "source": [
    "active_players(2019)[:3]"
   ]
  },
  {
   "cell_type": "markdown",
   "metadata": {},
   "source": [
    "Maintenant que l'on a les joueurs qui ont joué on va récupéré toutes les informations sur leurs stats. "
   ]
  },
  {
   "cell_type": "code",
   "execution_count": 32,
   "metadata": {
    "collapsed": false,
    "jupyter": {
     "outputs_hidden": false
    }
   },
   "outputs": [],
   "source": [
    "def score_df(stats):\n",
    "    '''\n",
    "    Mets en forme et calcul le score de la base de donnée que l'on récupère \n",
    "    par le endpoint PlayerGameLog\n",
    "    '''\n",
    "    \n",
    "    stats = stats.assign(GAME_DATE=pd.to_datetime(stats['GAME_DATE']),\n",
    "                         TEAM=lambda df: df['MATCHUP'].str[:3],\n",
    "                         ADV=lambda df: df['MATCHUP'].str[-3:],\n",
    "                         HOME=lambda df: ~df['MATCHUP'].str.contains('@'),\n",
    "                         WIN=lambda df: df['WL'].map({'W':True, 'L':False}),\n",
    "                         FGF=lambda df: df['FGA'] - df['FGM'],\n",
    "                         FG3F=lambda df: df['FG3A'] - df['FG3M'],\n",
    "                         FTF=lambda df: df['FTA'] - df['FTM'])\n",
    "    \n",
    "    bonus = ['PTS', 'REB', 'AST', 'STL', 'BLK', 'FGM', 'FTM', 'FG3M']\n",
    "    malus = ['TOV', 'FGF', 'FG3F', 'FTF']\n",
    "\n",
    "    cols = stats.columns.tolist()\n",
    "    stats = stats[cols[:4] + cols[-7:-3] + bonus + malus]\n",
    "    \n",
    "    stats = stats.assign(BONUS=lambda df: df[bonus].sum(axis=1).astype('int'),\n",
    "                         MALUS=lambda df: df[malus].sum(axis=1).astype('int'),\n",
    "                         SCORE=lambda df: df['BONUS'] - df['MALUS'])\n",
    "    \n",
    "    #Cohérence des noms de colones\n",
    "    stats.rename(columns={'Player_ID': 'PLAYER_ID', 'Game_ID': 'GAME_ID'}, \n",
    "                 inplace=True)\n",
    "    \n",
    "    #On mets l'ordre par rapport au joueur puis par dates\n",
    "    stats.sort_values(['PLAYER_ID', 'GAME_DATE'], inplace=True)\n",
    "\n",
    "    return(stats.reset_index(drop=True))"
   ]
  },
  {
   "cell_type": "code",
   "execution_count": 33,
   "metadata": {
    "collapsed": false,
    "jupyter": {
     "outputs_hidden": false
    }
   },
   "outputs": [],
   "source": [
    "def get_data_box(season):\n",
    "    '''\n",
    "    Récupère les box score de tous les matchs de tous les joueurs\n",
    "    qui ont joué pendant la saison\n",
    "    ''' \n",
    "    \n",
    "    df = pd.DataFrame()\n",
    "    id_actives = active_players(season)\n",
    "\n",
    "    time = len(id_actives)*0.7\n",
    "    print(f'Cela va prendre environ : {datetime.timedelta(seconds=time)}')\n",
    "    for i in range(len(id_actives)):\n",
    "        print(f'\\r{i+1}/{len(id_actives)}', end='')\n",
    "        \n",
    "        df = df.append(boxscore_saison(id_actives[i], season))\n",
    "        time.sleep(0.5)\n",
    "        \n",
    "    df.to_csv(f'../data/boxscore_{season}.csv', index=False)"
   ]
  },
  {
   "cell_type": "code",
   "execution_count": 34,
   "metadata": {
    "collapsed": false,
    "jupyter": {
     "outputs_hidden": false
    }
   },
   "outputs": [],
   "source": [
    "#get_data_box(2019)"
   ]
  },
  {
   "cell_type": "code",
   "execution_count": 35,
   "metadata": {
    "collapsed": false,
    "jupyter": {
     "outputs_hidden": false
    }
   },
   "outputs": [
    {
     "data": {
      "text/html": [
       "<div>\n",
       "<style scoped>\n",
       "    .dataframe tbody tr th:only-of-type {\n",
       "        vertical-align: middle;\n",
       "    }\n",
       "\n",
       "    .dataframe tbody tr th {\n",
       "        vertical-align: top;\n",
       "    }\n",
       "\n",
       "    .dataframe thead th {\n",
       "        text-align: right;\n",
       "    }\n",
       "</style>\n",
       "<table border=\"1\" class=\"dataframe\">\n",
       "  <thead>\n",
       "    <tr style=\"text-align: right;\">\n",
       "      <th></th>\n",
       "      <th>SEASON_ID</th>\n",
       "      <th>PLAYER_ID</th>\n",
       "      <th>GAME_ID</th>\n",
       "      <th>GAME_DATE</th>\n",
       "      <th>TEAM</th>\n",
       "      <th>ADV</th>\n",
       "      <th>HOME</th>\n",
       "      <th>WIN</th>\n",
       "      <th>PTS</th>\n",
       "      <th>REB</th>\n",
       "      <th>AST</th>\n",
       "      <th>STL</th>\n",
       "      <th>BLK</th>\n",
       "      <th>FGM</th>\n",
       "      <th>FTM</th>\n",
       "      <th>FG3M</th>\n",
       "      <th>TOV</th>\n",
       "      <th>FGF</th>\n",
       "      <th>FG3F</th>\n",
       "      <th>FTF</th>\n",
       "      <th>BONUS</th>\n",
       "      <th>MALUS</th>\n",
       "      <th>SCORE</th>\n",
       "    </tr>\n",
       "  </thead>\n",
       "  <tbody>\n",
       "    <tr>\n",
       "      <th>0</th>\n",
       "      <td>22019</td>\n",
       "      <td>1713</td>\n",
       "      <td>21900014</td>\n",
       "      <td>2019-10-24</td>\n",
       "      <td>ATL</td>\n",
       "      <td>DET</td>\n",
       "      <td>False</td>\n",
       "      <td>True</td>\n",
       "      <td>0</td>\n",
       "      <td>0</td>\n",
       "      <td>1</td>\n",
       "      <td>0</td>\n",
       "      <td>0</td>\n",
       "      <td>0</td>\n",
       "      <td>0</td>\n",
       "      <td>0</td>\n",
       "      <td>1</td>\n",
       "      <td>2</td>\n",
       "      <td>2</td>\n",
       "      <td>0</td>\n",
       "      <td>1</td>\n",
       "      <td>5</td>\n",
       "      <td>-4</td>\n",
       "    </tr>\n",
       "    <tr>\n",
       "      <th>1</th>\n",
       "      <td>22019</td>\n",
       "      <td>1713</td>\n",
       "      <td>21900028</td>\n",
       "      <td>2019-10-26</td>\n",
       "      <td>ATL</td>\n",
       "      <td>ORL</td>\n",
       "      <td>True</td>\n",
       "      <td>True</td>\n",
       "      <td>2</td>\n",
       "      <td>2</td>\n",
       "      <td>1</td>\n",
       "      <td>1</td>\n",
       "      <td>0</td>\n",
       "      <td>1</td>\n",
       "      <td>0</td>\n",
       "      <td>0</td>\n",
       "      <td>0</td>\n",
       "      <td>2</td>\n",
       "      <td>2</td>\n",
       "      <td>0</td>\n",
       "      <td>7</td>\n",
       "      <td>4</td>\n",
       "      <td>3</td>\n",
       "    </tr>\n",
       "    <tr>\n",
       "      <th>2</th>\n",
       "      <td>22019</td>\n",
       "      <td>1713</td>\n",
       "      <td>21900043</td>\n",
       "      <td>2019-10-28</td>\n",
       "      <td>ATL</td>\n",
       "      <td>PHI</td>\n",
       "      <td>True</td>\n",
       "      <td>False</td>\n",
       "      <td>4</td>\n",
       "      <td>3</td>\n",
       "      <td>1</td>\n",
       "      <td>1</td>\n",
       "      <td>0</td>\n",
       "      <td>2</td>\n",
       "      <td>0</td>\n",
       "      <td>0</td>\n",
       "      <td>0</td>\n",
       "      <td>3</td>\n",
       "      <td>3</td>\n",
       "      <td>0</td>\n",
       "      <td>11</td>\n",
       "      <td>6</td>\n",
       "      <td>5</td>\n",
       "    </tr>\n",
       "  </tbody>\n",
       "</table>\n",
       "</div>"
      ],
      "text/plain": [
       "   SEASON_ID  PLAYER_ID   GAME_ID  GAME_DATE TEAM  ADV   HOME    WIN  PTS  \\\n",
       "0      22019       1713  21900014 2019-10-24  ATL  DET  False   True    0   \n",
       "1      22019       1713  21900028 2019-10-26  ATL  ORL   True   True    2   \n",
       "2      22019       1713  21900043 2019-10-28  ATL  PHI   True  False    4   \n",
       "\n",
       "   REB  AST  STL  BLK  FGM  FTM  FG3M  TOV  FGF  FG3F  FTF  BONUS  MALUS  \\\n",
       "0    0    1    0    0    0    0     0    1    2     2    0      1      5   \n",
       "1    2    1    1    0    1    0     0    0    2     2    0      7      4   \n",
       "2    3    1    1    0    2    0     0    0    3     3    0     11      6   \n",
       "\n",
       "   SCORE  \n",
       "0     -4  \n",
       "1      3  \n",
       "2      5  "
      ]
     },
     "execution_count": 35,
     "metadata": {},
     "output_type": "execute_result"
    }
   ],
   "source": [
    "score_df(pd.read_csv('../data/boxscore_2019.csv')).head(3)"
   ]
  },
  {
   "cell_type": "markdown",
   "metadata": {},
   "source": [
    "## 4 - Analyses Statistiques\n",
    "\n",
    "Maintenant que nous avons toutes les données que nous voulons, nous allons explorer les différentes variables pour comprendre certaines relations simple. Mettons nous dans la peau d'un joueur de TTFL sans la restriction des trentes jours et pouvant parier sur tous les joueurs."
   ]
  },
  {
   "cell_type": "code",
   "execution_count": 36,
   "metadata": {
    "collapsed": false,
    "jupyter": {
     "outputs_hidden": false
    }
   },
   "outputs": [],
   "source": [
    "SEASON=2019"
   ]
  },
  {
   "cell_type": "code",
   "execution_count": 37,
   "metadata": {
    "jupyter": {
     "source_hidden": true
    }
   },
   "outputs": [],
   "source": [
    "df = players_id2name(score_df(pd.read_csv(f'../data/boxscore_{SEASON}.csv')))"
   ]
  },
  {
   "cell_type": "markdown",
   "metadata": {},
   "source": [
    "#### Moyenne des points sur la saison"
   ]
  },
  {
   "cell_type": "code",
   "execution_count": 38,
   "metadata": {
    "collapsed": false,
    "jupyter": {
     "outputs_hidden": false
    }
   },
   "outputs": [
    {
     "data": {
      "text/html": [
       "<div>\n",
       "<style scoped>\n",
       "    .dataframe tbody tr th:only-of-type {\n",
       "        vertical-align: middle;\n",
       "    }\n",
       "\n",
       "    .dataframe tbody tr th {\n",
       "        vertical-align: top;\n",
       "    }\n",
       "\n",
       "    .dataframe thead th {\n",
       "        text-align: right;\n",
       "    }\n",
       "</style>\n",
       "<table border=\"1\" class=\"dataframe\">\n",
       "  <thead>\n",
       "    <tr style=\"text-align: right;\">\n",
       "      <th></th>\n",
       "      <th>NAME</th>\n",
       "      <th>SCORE</th>\n",
       "    </tr>\n",
       "  </thead>\n",
       "  <tbody>\n",
       "    <tr>\n",
       "      <th>0</th>\n",
       "      <td>Giannis Antetokounmpo</td>\n",
       "      <td>49.513889</td>\n",
       "    </tr>\n",
       "    <tr>\n",
       "      <th>1</th>\n",
       "      <td>James Harden</td>\n",
       "      <td>48.337500</td>\n",
       "    </tr>\n",
       "    <tr>\n",
       "      <th>2</th>\n",
       "      <td>Anthony Davis</td>\n",
       "      <td>45.638554</td>\n",
       "    </tr>\n",
       "    <tr>\n",
       "      <th>3</th>\n",
       "      <td>Luka Doncic</td>\n",
       "      <td>44.298507</td>\n",
       "    </tr>\n",
       "  </tbody>\n",
       "</table>\n",
       "</div>"
      ],
      "text/plain": [
       "                    NAME      SCORE\n",
       "0  Giannis Antetokounmpo  49.513889\n",
       "1           James Harden  48.337500\n",
       "2          Anthony Davis  45.638554\n",
       "3            Luka Doncic  44.298507"
      ]
     },
     "execution_count": 38,
     "metadata": {},
     "output_type": "execute_result"
    }
   ],
   "source": [
    "top_score = df.groupby('NAME')['SCORE'].mean() \\\n",
    "                                        .sort_values(ascending=False) \\\n",
    "                                        .to_frame().reset_index().head(4)\n",
    "top_score"
   ]
  },
  {
   "cell_type": "markdown",
   "metadata": {},
   "source": [
    "Pour ces cinq joueurs regardons si l'équipe contre qui le joueur joue influence son score. "
   ]
  },
  {
   "cell_type": "code",
   "execution_count": 39,
   "metadata": {
    "collapsed": false,
    "jupyter": {
     "outputs_hidden": false
    }
   },
   "outputs": [
    {
     "data": {
      "text/html": [
       "<div>\n",
       "<style scoped>\n",
       "    .dataframe tbody tr th:only-of-type {\n",
       "        vertical-align: middle;\n",
       "    }\n",
       "\n",
       "    .dataframe tbody tr th {\n",
       "        vertical-align: top;\n",
       "    }\n",
       "\n",
       "    .dataframe thead tr th {\n",
       "        text-align: left;\n",
       "    }\n",
       "\n",
       "    .dataframe thead tr:last-of-type th {\n",
       "        text-align: right;\n",
       "    }\n",
       "</style>\n",
       "<table border=\"1\" class=\"dataframe\">\n",
       "  <thead>\n",
       "    <tr>\n",
       "      <th></th>\n",
       "      <th colspan=\"4\" halign=\"left\">SCORE</th>\n",
       "    </tr>\n",
       "    <tr>\n",
       "      <th>NAME</th>\n",
       "      <th>Anthony Davis</th>\n",
       "      <th>Giannis Antetokounmpo</th>\n",
       "      <th>James Harden</th>\n",
       "      <th>Luka Doncic</th>\n",
       "    </tr>\n",
       "    <tr>\n",
       "      <th>ADV</th>\n",
       "      <th></th>\n",
       "      <th></th>\n",
       "      <th></th>\n",
       "      <th></th>\n",
       "    </tr>\n",
       "  </thead>\n",
       "  <tbody>\n",
       "    <tr>\n",
       "      <th>DEN</th>\n",
       "      <td>48.000000</td>\n",
       "      <td>53.00</td>\n",
       "      <td>46.000000</td>\n",
       "      <td>28.0</td>\n",
       "    </tr>\n",
       "    <tr>\n",
       "      <th>NOP</th>\n",
       "      <td>60.666667</td>\n",
       "      <td>67.00</td>\n",
       "      <td>43.333333</td>\n",
       "      <td>48.5</td>\n",
       "    </tr>\n",
       "    <tr>\n",
       "      <th>CHI</th>\n",
       "      <td>25.000000</td>\n",
       "      <td>46.75</td>\n",
       "      <td>60.000000</td>\n",
       "      <td>44.5</td>\n",
       "    </tr>\n",
       "  </tbody>\n",
       "</table>\n",
       "</div>"
      ],
      "text/plain": [
       "             SCORE                                               \n",
       "NAME Anthony Davis Giannis Antetokounmpo James Harden Luka Doncic\n",
       "ADV                                                              \n",
       "DEN      48.000000                 53.00    46.000000        28.0\n",
       "NOP      60.666667                 67.00    43.333333        48.5\n",
       "CHI      25.000000                 46.75    60.000000        44.5"
      ]
     },
     "execution_count": 39,
     "metadata": {},
     "output_type": "execute_result"
    }
   ],
   "source": [
    "top_score_vs_teams = df[df.NAME.isin(top_score.NAME)] \\\n",
    "                        .groupby(['ADV', 'NAME'])['SCORE'] \\\n",
    "                        .mean().to_frame().unstack()\n",
    "top_score_vs_teams.sample(3)"
   ]
  },
  {
   "cell_type": "code",
   "execution_count": 40,
   "metadata": {
    "collapsed": false,
    "jupyter": {
     "outputs_hidden": false
    }
   },
   "outputs": [
    {
     "data": {
      "image/png": "[encoded data removed]",
      "text/plain": [
       "<Figure size 1440x360 with 4 Axes>"
      ]
     },
     "metadata": {
      "needs_background": "light"
     },
     "output_type": "display_data"
    }
   ],
   "source": [
    "top_score_vs_teams.plot(kind='bar', subplots=True, figsize=(20,5), \n",
    "                        sharex=False, layout=(2,2), legend=False)\n",
    "\n",
    "plt.subplots_adjust(hspace=0.8)\n",
    "plt.show()"
   ]
  },
  {
   "cell_type": "markdown",
   "metadata": {},
   "source": [
    "On remarque une vraie variation du score en fonction de l'adversaire qui plus au moins prononcée en fonction du joueur. Par exemple, Giannis est un joueur plutôt stable sauf contre des équipes comme Sacramento ou Broklyn. Alors que Anthony lui a clairement une équipe contre qui il excèle, Milwaukee. Juste pour un peu mieux comprendre classons les équipes par leur position dans la ligue."
   ]
  },
  {
   "cell_type": "code",
   "execution_count": 41,
   "metadata": {
    "collapsed": false,
    "jupyter": {
     "outputs_hidden": false
    }
   },
   "outputs": [],
   "source": [
    "sorter = teamsStandings(SEASON)\n",
    "top_score_vs_teams = top_score_vs_teams.reindex(list(reversed(sorter)))"
   ]
  },
  {
   "cell_type": "code",
   "execution_count": 42,
   "metadata": {
    "collapsed": false,
    "jupyter": {
     "outputs_hidden": false
    }
   },
   "outputs": [
    {
     "data": {
      "image/png": "[encoded data removed]",
      "text/plain": [
       "<Figure size 1440x360 with 4 Axes>"
      ]
     },
     "metadata": {
      "needs_background": "light"
     },
     "output_type": "display_data"
    }
   ],
   "source": [
    "top_score_vs_teams.plot(kind='bar', subplots=True, figsize=(20,5), \n",
    "                        sharex=False, layout=(2,2), legend=False)\n",
    "\n",
    "plt.subplots_adjust(hspace=0.8)\n",
    "plt.show()"
   ]
  },
  {
   "cell_type": "markdown",
   "metadata": {},
   "source": [
    "On voit ici que le classement de l'équipe contre qui un joueur joue n'infulence pas le score moyen contre cette équipe. Pour en être sûr faisons un test d'indépendance entre le classement de l'équipe et le score du joueur. Pour la suite nous ne prendrons que les 90 meilleurs joueurs en terme de moyenne de score pour ne pas avoir tous les remplacants qui faussent les données avec un grand nombre de NaN. \n",
    "\n",
    "**/!\\ JE NE VOIS PAS COMMENT FAIRE /!\\**"
   ]
  },
  {
   "cell_type": "markdown",
   "metadata": {
    "jupyter": {
     "outputs_hidden": false
    }
   },
   "source": [
    "## 5 - Inventaire des données\n",
    "\n",
    "Après la réunion avec Selim, il nous a donné une marche à suivre très précise qui est détaillé dans le fichier [Rapport](../rapports/Rapport_2411.md). La première étape est de faire un inventaire des variables et de créer une base de donnée les contenants tous. Il faut bien garder en tête que les différents modèles ne verront que ligne par ligne.\n",
    "\n",
    "\n",
    "### Variables qualitatives\n",
    "\n",
    "   Nom de la variable    | Abréviation\n",
    "   ----------------------|:-----------:\n",
    "   Identifiant du joueur |  PLAYER_ID\n",
    "   Équipe du joueur      |    TEAM\n",
    "   Équipe adverse        |     ADV\n",
    "   Domicile / Exterieur  |    HOME\n",
    "   Adversaire directe    |   ADV_ID\n",
    " \n",
    "### Variables quantitiatives\n",
    "\n",
    "#### Variables scores positives\n",
    "\n",
    "   Nom de la variable               | Abréviation \n",
    "   ---------------------------------|:-----------:\n",
    "   Nombre de points                 |     PTS    \n",
    "   Nombre de rebonds                |     REB\n",
    "   Nombre de passes décisives       |     AST\n",
    "   Nombre de récupération de balle  |     STL\n",
    "   Nombre de block                  |     BLK\n",
    "   Nombre de shoot réussi           |     FGM\n",
    "   Nombre de lancer franc réussi    |     FTM\n",
    "   Nombre de tire à 3 points réussi |     FG3M\n",
    "\n",
    "#### Variables scores négatives\n",
    "\n",
    "   Nom de la variable                | Abréviation \n",
    "   ----------------------------------|:-----------:\n",
    "   Nombre de perte de balle          |     TOV\n",
    "   Nombre de tire raté               |     FGF\n",
    "   Nombre de lancer franc raté       |     FTF\n",
    "   Nombre de tire à 3 points de raté |     FG3F\n",
    "\n",
    "#### Variables de scores globales\n",
    "\n",
    "   Nom de la variable            | Abréviation\n",
    "   ------------------------------|:-----------:\n",
    "   Somme des variables positives |    BONUS\n",
    "   Somme des variables négatives |    MALUS\n",
    "   Score du joueur               |    SCORE   \n",
    "   \n",
    "#### Variables laggées   \n",
    "   \n",
    "Toutes les variables ci-dessus ne sont pas accécible pour le temps $t$ donc nous utilisons ces variables :\n",
    "   \n",
    "   Nom de la variable                                  |      Abréviation\n",
    "   ----------------------------------------------------|:--------------------:\n",
    "   Moyenne des N derniers matchs                       |   AVG_[ABREVIATION]\n",
    "   Moyenne des N derniers matchs contre l'équipe [ADV] | AVG_ADV\\\\_[ABREVIATION]\n",
    "   La série de victoire                                |        NB_VIC \n",
    "   La série de victoire contre l'équipe [ADV]          |       NB_VIC\\\\_ADV\n",
    "   \n",
    "### Variables temporelles\n",
    "\n",
    "   Nom de la variable | Abréviation\n",
    "   -------------------|:-----------:\n",
    "   Date du match      |  GAME_DATE\n",
    "   \n",
    "### Hyperparamètres\n",
    "\n",
    "   Nom du paramètre                                                     | Abréviation\n",
    "   ---------------------------------------------------------------------|:-----------:\n",
    "   Le nombre de match que l'on retient pour les moyennes                |      N\n",
    "   Le nombre de match que l'on retient pour les moyennes par adversaire |    N_ADD\n"
   ]
  },
  {
   "cell_type": "code",
   "execution_count": 43,
   "metadata": {},
   "outputs": [],
   "source": [
    "# Hyperparamètre : le nombre de match que l'on regarde en arrière\n",
    "N = 3\n",
    "N_ADD = 1\n",
    "\n",
    "df = score_df(pd.read_csv(f'../data/boxscore_{SEASON}.csv'))"
   ]
  },
  {
   "cell_type": "code",
   "execution_count": 44,
   "metadata": {},
   "outputs": [],
   "source": [
    "# La liste des variables dont on va récupérer les moyennes\n",
    "list_var_avg = ['PTS', 'REB', 'AST', 'STL', 'BLK', 'FGM', 'FTM', 'FG3M',\n",
    "                 'TOV', 'FGF', 'FG3F', 'FTF',\n",
    "                 'BONUS', 'MALUS', 'SCORE']"
   ]
  },
  {
   "cell_type": "code",
   "execution_count": 45,
   "metadata": {},
   "outputs": [],
   "source": [
    "def avg_df(df, n=N):\n",
    "    # Calcul les moyennes en utilisant une 'rolling window' sur les variables \n",
    "    # intéressantes\n",
    "    def avg(df):\n",
    "        return df[list_var_avg].shift(periods=1)  \\\n",
    "                                .rolling(n)  \\\n",
    "                                .mean()  \\\n",
    "                                .add_prefix('AVG_')\n",
    "                                \n",
    "    \n",
    "    # Calcul des moyennes pour chaque joueur puis on recréer une base\n",
    "    df_mean = df.groupby('PLAYER_ID').apply(avg)  \\\n",
    "                                        .reset_index()  \\\n",
    "                                        .set_index('level_1')  \\\n",
    "\n",
    "    return pd.concat([df, df_mean.drop('PLAYER_ID', axis=1)], axis=1)"
   ]
  },
  {
   "cell_type": "code",
   "execution_count": 46,
   "metadata": {},
   "outputs": [
    {
     "data": {
      "text/html": [
       "<div>\n",
       "<style scoped>\n",
       "    .dataframe tbody tr th:only-of-type {\n",
       "        vertical-align: middle;\n",
       "    }\n",
       "\n",
       "    .dataframe tbody tr th {\n",
       "        vertical-align: top;\n",
       "    }\n",
       "\n",
       "    .dataframe thead th {\n",
       "        text-align: right;\n",
       "    }\n",
       "</style>\n",
       "<table border=\"1\" class=\"dataframe\">\n",
       "  <thead>\n",
       "    <tr style=\"text-align: right;\">\n",
       "      <th></th>\n",
       "      <th>SEASON_ID</th>\n",
       "      <th>PLAYER_ID</th>\n",
       "      <th>GAME_ID</th>\n",
       "      <th>GAME_DATE</th>\n",
       "      <th>TEAM</th>\n",
       "      <th>ADV</th>\n",
       "      <th>HOME</th>\n",
       "      <th>WIN</th>\n",
       "      <th>PTS</th>\n",
       "      <th>REB</th>\n",
       "      <th>AST</th>\n",
       "      <th>STL</th>\n",
       "      <th>BLK</th>\n",
       "      <th>FGM</th>\n",
       "      <th>FTM</th>\n",
       "      <th>FG3M</th>\n",
       "      <th>TOV</th>\n",
       "      <th>FGF</th>\n",
       "      <th>FG3F</th>\n",
       "      <th>FTF</th>\n",
       "      <th>BONUS</th>\n",
       "      <th>MALUS</th>\n",
       "      <th>SCORE</th>\n",
       "      <th>AVG_PTS</th>\n",
       "      <th>AVG_REB</th>\n",
       "      <th>AVG_AST</th>\n",
       "      <th>AVG_STL</th>\n",
       "      <th>AVG_BLK</th>\n",
       "      <th>AVG_FGM</th>\n",
       "      <th>AVG_FTM</th>\n",
       "      <th>AVG_FG3M</th>\n",
       "      <th>AVG_TOV</th>\n",
       "      <th>AVG_FGF</th>\n",
       "      <th>AVG_FG3F</th>\n",
       "      <th>AVG_FTF</th>\n",
       "      <th>AVG_BONUS</th>\n",
       "      <th>AVG_MALUS</th>\n",
       "      <th>AVG_SCORE</th>\n",
       "    </tr>\n",
       "  </thead>\n",
       "  <tbody>\n",
       "    <tr>\n",
       "      <th>9375</th>\n",
       "      <td>22019</td>\n",
       "      <td>203914</td>\n",
       "      <td>21900582</td>\n",
       "      <td>2020-01-11</td>\n",
       "      <td>DEN</td>\n",
       "      <td>CLE</td>\n",
       "      <td>True</td>\n",
       "      <td>False</td>\n",
       "      <td>8</td>\n",
       "      <td>2</td>\n",
       "      <td>4</td>\n",
       "      <td>2</td>\n",
       "      <td>1</td>\n",
       "      <td>3</td>\n",
       "      <td>1</td>\n",
       "      <td>1</td>\n",
       "      <td>0</td>\n",
       "      <td>8</td>\n",
       "      <td>4</td>\n",
       "      <td>1</td>\n",
       "      <td>22</td>\n",
       "      <td>13</td>\n",
       "      <td>9</td>\n",
       "      <td>6.666667</td>\n",
       "      <td>2.666667</td>\n",
       "      <td>0.666667</td>\n",
       "      <td>1.333333</td>\n",
       "      <td>0.0</td>\n",
       "      <td>2.666667</td>\n",
       "      <td>1.333333</td>\n",
       "      <td>0.0</td>\n",
       "      <td>0.333333</td>\n",
       "      <td>8.000000</td>\n",
       "      <td>4.333333</td>\n",
       "      <td>0.333333</td>\n",
       "      <td>15.333333</td>\n",
       "      <td>13.000000</td>\n",
       "      <td>2.333333</td>\n",
       "    </tr>\n",
       "    <tr>\n",
       "      <th>20357</th>\n",
       "      <td>22019</td>\n",
       "      <td>1629023</td>\n",
       "      <td>21900051</td>\n",
       "      <td>2019-10-28</td>\n",
       "      <td>CHA</td>\n",
       "      <td>LAC</td>\n",
       "      <td>False</td>\n",
       "      <td>False</td>\n",
       "      <td>11</td>\n",
       "      <td>7</td>\n",
       "      <td>0</td>\n",
       "      <td>2</td>\n",
       "      <td>0</td>\n",
       "      <td>4</td>\n",
       "      <td>1</td>\n",
       "      <td>2</td>\n",
       "      <td>2</td>\n",
       "      <td>4</td>\n",
       "      <td>3</td>\n",
       "      <td>2</td>\n",
       "      <td>27</td>\n",
       "      <td>11</td>\n",
       "      <td>16</td>\n",
       "      <td>15.000000</td>\n",
       "      <td>6.666667</td>\n",
       "      <td>0.666667</td>\n",
       "      <td>1.000000</td>\n",
       "      <td>1.0</td>\n",
       "      <td>5.000000</td>\n",
       "      <td>2.000000</td>\n",
       "      <td>3.0</td>\n",
       "      <td>3.333333</td>\n",
       "      <td>5.666667</td>\n",
       "      <td>2.666667</td>\n",
       "      <td>0.666667</td>\n",
       "      <td>34.333333</td>\n",
       "      <td>12.333333</td>\n",
       "      <td>22.000000</td>\n",
       "    </tr>\n",
       "    <tr>\n",
       "      <th>77</th>\n",
       "      <td>22019</td>\n",
       "      <td>2199</td>\n",
       "      <td>21900282</td>\n",
       "      <td>2019-11-30</td>\n",
       "      <td>HOU</td>\n",
       "      <td>ATL</td>\n",
       "      <td>True</td>\n",
       "      <td>True</td>\n",
       "      <td>2</td>\n",
       "      <td>1</td>\n",
       "      <td>0</td>\n",
       "      <td>1</td>\n",
       "      <td>0</td>\n",
       "      <td>1</td>\n",
       "      <td>0</td>\n",
       "      <td>0</td>\n",
       "      <td>0</td>\n",
       "      <td>0</td>\n",
       "      <td>0</td>\n",
       "      <td>0</td>\n",
       "      <td>5</td>\n",
       "      <td>0</td>\n",
       "      <td>5</td>\n",
       "      <td>0.666667</td>\n",
       "      <td>1.333333</td>\n",
       "      <td>0.000000</td>\n",
       "      <td>0.000000</td>\n",
       "      <td>0.0</td>\n",
       "      <td>0.000000</td>\n",
       "      <td>0.666667</td>\n",
       "      <td>0.0</td>\n",
       "      <td>0.666667</td>\n",
       "      <td>0.000000</td>\n",
       "      <td>0.000000</td>\n",
       "      <td>0.666667</td>\n",
       "      <td>2.666667</td>\n",
       "      <td>1.333333</td>\n",
       "      <td>1.333333</td>\n",
       "    </tr>\n",
       "  </tbody>\n",
       "</table>\n",
       "</div>"
      ],
      "text/plain": [
       "       SEASON_ID  PLAYER_ID   GAME_ID  GAME_DATE TEAM  ADV   HOME    WIN  PTS  \\\n",
       "9375       22019     203914  21900582 2020-01-11  DEN  CLE   True  False    8   \n",
       "20357      22019    1629023  21900051 2019-10-28  CHA  LAC  False  False   11   \n",
       "77         22019       2199  21900282 2019-11-30  HOU  ATL   True   True    2   \n",
       "\n",
       "       REB  AST  STL  BLK  FGM  FTM  FG3M  TOV  FGF  FG3F  FTF  BONUS  MALUS  \\\n",
       "9375     2    4    2    1    3    1     1    0    8     4    1     22     13   \n",
       "20357    7    0    2    0    4    1     2    2    4     3    2     27     11   \n",
       "77       1    0    1    0    1    0     0    0    0     0    0      5      0   \n",
       "\n",
       "       SCORE    AVG_PTS   AVG_REB   AVG_AST   AVG_STL  AVG_BLK   AVG_FGM  \\\n",
       "9375       9   6.666667  2.666667  0.666667  1.333333      0.0  2.666667   \n",
       "20357     16  15.000000  6.666667  0.666667  1.000000      1.0  5.000000   \n",
       "77         5   0.666667  1.333333  0.000000  0.000000      0.0  0.000000   \n",
       "\n",
       "        AVG_FTM  AVG_FG3M   AVG_TOV   AVG_FGF  AVG_FG3F   AVG_FTF  AVG_BONUS  \\\n",
       "9375   1.333333       0.0  0.333333  8.000000  4.333333  0.333333  15.333333   \n",
       "20357  2.000000       3.0  3.333333  5.666667  2.666667  0.666667  34.333333   \n",
       "77     0.666667       0.0  0.666667  0.000000  0.000000  0.666667   2.666667   \n",
       "\n",
       "       AVG_MALUS  AVG_SCORE  \n",
       "9375   13.000000   2.333333  \n",
       "20357  12.333333  22.000000  \n",
       "77      1.333333   1.333333  "
      ]
     },
     "execution_count": 46,
     "metadata": {},
     "output_type": "execute_result"
    }
   ],
   "source": [
    "avg_df(df).sample(3)"
   ]
  },
  {
   "cell_type": "code",
   "execution_count": 47,
   "metadata": {},
   "outputs": [],
   "source": [
    "def avg_add_df(df, n=N_ADD):\n",
    "    # Calcul les moyennes en utilisant une 'rolling window' sur les variables \n",
    "    # intéressantes\n",
    "    def avg_add(df):\n",
    "        return df[list_var_avg].shift(periods=1)  \\\n",
    "                                .rolling(n)  \\\n",
    "                                .mean()  \\\n",
    "                                .add_prefix('AVG_ADD_')\n",
    "    \n",
    "    # Calcul des moyennes pour chaque joueur et pour chaque équipe \n",
    "    # puis on recréer une base\n",
    "    df_add_mean = df.groupby('PLAYER_ID').apply(lambda x:\n",
    "                                                x.groupby('ADV').apply(avg_add))  \\\n",
    "                                            .reset_index()  \\\n",
    "                                            .set_index('level_2')  \\\n",
    "    \n",
    "    return pd.concat([df, df_add_mean.drop(['PLAYER_ID', 'ADV'], axis=1)]  \\\n",
    "                                                                      , axis=1)"
   ]
  },
  {
   "cell_type": "code",
   "execution_count": 48,
   "metadata": {},
   "outputs": [],
   "source": [
    "# TRÈS LONG !!!\n",
    "#avg_add_df(df).sample(3)"
   ]
  },
  {
   "cell_type": "code",
   "execution_count": 49,
   "metadata": {},
   "outputs": [],
   "source": [
    "def nb_vic_df(df):\n",
    "    \n",
    "    # Code non vectoriel : \n",
    "    def nb_vic(df):\n",
    "        # On calcul la serie de victoire jusqu'à une défaite\n",
    "        serie = [0]\n",
    "        for i in range(1, len(df)):\n",
    "            serie += [serie[-1] + 1] if df.WIN.iloc[i-1] else [0]\n",
    "\n",
    "        return pd.Series(serie, index=df.index, name='NB_VIC').to_frame()\n",
    "\n",
    "    # On calcul les séries pour chaque joueur\n",
    "    df_nb_vic = df.groupby('PLAYER_ID').apply(nb_vic)\n",
    "\n",
    "    # On rajoute les séries à la fin de notre dataframe\n",
    "    return pd.concat([df, df_nb_vic], axis=1)"
   ]
  },
  {
   "cell_type": "code",
   "execution_count": 50,
   "metadata": {},
   "outputs": [
    {
     "data": {
      "text/html": [
       "<div>\n",
       "<style scoped>\n",
       "    .dataframe tbody tr th:only-of-type {\n",
       "        vertical-align: middle;\n",
       "    }\n",
       "\n",
       "    .dataframe tbody tr th {\n",
       "        vertical-align: top;\n",
       "    }\n",
       "\n",
       "    .dataframe thead th {\n",
       "        text-align: right;\n",
       "    }\n",
       "</style>\n",
       "<table border=\"1\" class=\"dataframe\">\n",
       "  <thead>\n",
       "    <tr style=\"text-align: right;\">\n",
       "      <th></th>\n",
       "      <th>SEASON_ID</th>\n",
       "      <th>PLAYER_ID</th>\n",
       "      <th>GAME_ID</th>\n",
       "      <th>GAME_DATE</th>\n",
       "      <th>TEAM</th>\n",
       "      <th>ADV</th>\n",
       "      <th>HOME</th>\n",
       "      <th>WIN</th>\n",
       "      <th>PTS</th>\n",
       "      <th>REB</th>\n",
       "      <th>AST</th>\n",
       "      <th>STL</th>\n",
       "      <th>BLK</th>\n",
       "      <th>FGM</th>\n",
       "      <th>FTM</th>\n",
       "      <th>FG3M</th>\n",
       "      <th>TOV</th>\n",
       "      <th>FGF</th>\n",
       "      <th>FG3F</th>\n",
       "      <th>FTF</th>\n",
       "      <th>BONUS</th>\n",
       "      <th>MALUS</th>\n",
       "      <th>SCORE</th>\n",
       "      <th>NB_VIC</th>\n",
       "    </tr>\n",
       "  </thead>\n",
       "  <tbody>\n",
       "    <tr>\n",
       "      <th>14869</th>\n",
       "      <td>22019</td>\n",
       "      <td>1627832</td>\n",
       "      <td>21900439</td>\n",
       "      <td>2019-12-22</td>\n",
       "      <td>TOR</td>\n",
       "      <td>DAL</td>\n",
       "      <td>True</td>\n",
       "      <td>True</td>\n",
       "      <td>10</td>\n",
       "      <td>3</td>\n",
       "      <td>1</td>\n",
       "      <td>1</td>\n",
       "      <td>0</td>\n",
       "      <td>2</td>\n",
       "      <td>5</td>\n",
       "      <td>1</td>\n",
       "      <td>4</td>\n",
       "      <td>11</td>\n",
       "      <td>6</td>\n",
       "      <td>1</td>\n",
       "      <td>23</td>\n",
       "      <td>22</td>\n",
       "      <td>1</td>\n",
       "      <td>1</td>\n",
       "    </tr>\n",
       "    <tr>\n",
       "      <th>13667</th>\n",
       "      <td>22019</td>\n",
       "      <td>1627749</td>\n",
       "      <td>21901314</td>\n",
       "      <td>2020-08-13</td>\n",
       "      <td>SAS</td>\n",
       "      <td>UTA</td>\n",
       "      <td>False</td>\n",
       "      <td>False</td>\n",
       "      <td>12</td>\n",
       "      <td>14</td>\n",
       "      <td>7</td>\n",
       "      <td>0</td>\n",
       "      <td>0</td>\n",
       "      <td>5</td>\n",
       "      <td>2</td>\n",
       "      <td>0</td>\n",
       "      <td>6</td>\n",
       "      <td>9</td>\n",
       "      <td>2</td>\n",
       "      <td>0</td>\n",
       "      <td>40</td>\n",
       "      <td>17</td>\n",
       "      <td>23</td>\n",
       "      <td>3</td>\n",
       "    </tr>\n",
       "    <tr>\n",
       "      <th>18373</th>\n",
       "      <td>22019</td>\n",
       "      <td>1628970</td>\n",
       "      <td>21900467</td>\n",
       "      <td>2019-12-27</td>\n",
       "      <td>CHA</td>\n",
       "      <td>OKC</td>\n",
       "      <td>True</td>\n",
       "      <td>False</td>\n",
       "      <td>11</td>\n",
       "      <td>6</td>\n",
       "      <td>2</td>\n",
       "      <td>0</td>\n",
       "      <td>1</td>\n",
       "      <td>5</td>\n",
       "      <td>0</td>\n",
       "      <td>1</td>\n",
       "      <td>0</td>\n",
       "      <td>6</td>\n",
       "      <td>3</td>\n",
       "      <td>1</td>\n",
       "      <td>26</td>\n",
       "      <td>10</td>\n",
       "      <td>16</td>\n",
       "      <td>0</td>\n",
       "    </tr>\n",
       "  </tbody>\n",
       "</table>\n",
       "</div>"
      ],
      "text/plain": [
       "       SEASON_ID  PLAYER_ID   GAME_ID  GAME_DATE TEAM  ADV   HOME    WIN  PTS  \\\n",
       "14869      22019    1627832  21900439 2019-12-22  TOR  DAL   True   True   10   \n",
       "13667      22019    1627749  21901314 2020-08-13  SAS  UTA  False  False   12   \n",
       "18373      22019    1628970  21900467 2019-12-27  CHA  OKC   True  False   11   \n",
       "\n",
       "       REB  AST  STL  BLK  FGM  FTM  FG3M  TOV  FGF  FG3F  FTF  BONUS  MALUS  \\\n",
       "14869    3    1    1    0    2    5     1    4   11     6    1     23     22   \n",
       "13667   14    7    0    0    5    2     0    6    9     2    0     40     17   \n",
       "18373    6    2    0    1    5    0     1    0    6     3    1     26     10   \n",
       "\n",
       "       SCORE  NB_VIC  \n",
       "14869      1       1  \n",
       "13667     23       3  \n",
       "18373     16       0  "
      ]
     },
     "execution_count": 50,
     "metadata": {},
     "output_type": "execute_result"
    }
   ],
   "source": [
    "nb_vic_df(df).sample(3)"
   ]
  },
  {
   "cell_type": "code",
   "execution_count": 51,
   "metadata": {},
   "outputs": [],
   "source": [
    "def nb_vic_add_df(df):\n",
    "    \n",
    "    # Code non vectoriel : \n",
    "    def nb_vic_add(df):\n",
    "\n",
    "        # On calcul la serie de victoire jusqu'à une défaite\n",
    "        serie = [0]\n",
    "        for i in range(1, len(df)):\n",
    "            serie += [serie[-1] + 1] if df.WIN.iloc[i-1] else [0]\n",
    "        return pd.Series(serie, index=df.index, name='NB_VIC_ADD').to_frame()\n",
    "\n",
    "    # On calcul les séries pour chaque joueur et pour chaque équipe\n",
    "    df_nb_vic_add = df.groupby('PLAYER_ID').apply(lambda df: \n",
    "                        df.groupby('ADV').apply(nb_vic_add))  \\\n",
    "                                            .reset_index()  \\\n",
    "                                            .set_index('level_1')  \\\n",
    "                                            .drop('PLAYER_ID', axis=1)\n",
    "\n",
    "    return pd.concat([df, df_nb_vic_add], axis=1)"
   ]
  },
  {
   "cell_type": "code",
   "execution_count": 52,
   "metadata": {},
   "outputs": [],
   "source": [
    "# TRÈS LONG !!\n",
    "#nb_vic_add_df(df)"
   ]
  },
  {
   "cell_type": "code",
   "execution_count": 53,
   "metadata": {},
   "outputs": [],
   "source": [
    "# TRÈS LONG !!!\n",
    "# La dataframe finale  \n",
    "\n",
    "#df = nb_vic_add_df(nb_vic_df(avg_add_df(avg_df(df))))\n",
    "\n",
    "#df.to_csv('../data/boxscore_2019_final.csv', index=False)"
   ]
  },
  {
   "cell_type": "markdown",
   "metadata": {},
   "source": [
    "## 6 - Séléctions de paramètres"
   ]
  },
  {
   "cell_type": "code",
   "execution_count": 54,
   "metadata": {},
   "outputs": [],
   "source": [
    "#!pip install scikit-learn"
   ]
  },
  {
   "cell_type": "code",
   "execution_count": 55,
   "metadata": {},
   "outputs": [],
   "source": [
    "import seaborn as sns\n",
    "import statsmodels.api as sm\n",
    "%matplotlib inline\n",
    "from sklearn.model_selection import train_test_split\n",
    "from sklearn.linear_model import LinearRegression\n",
    "from sklearn.feature_selection import SelectKBest, f_classif\n",
    "from sklearn.linear_model import RidgeCV, LassoCV, Ridge, Lasso"
   ]
  },
  {
   "cell_type": "code",
   "execution_count": 70,
   "metadata": {},
   "outputs": [],
   "source": [
    "# Récupere le dataset\n",
    "df = pd.read_csv('../data/boxscore_2019_final.csv')\n",
    "\n",
    "df = df.drop(list_var_avg[:-1]+['SEASON_ID', 'WIN', 'GAME_DATE', 'GAME_ID'], axis=1)\n",
    "df = df[~df.AVG_SCORE.isna()]\n",
    "\n",
    "# On ne garde que les joueurs qui ont joué plus de 50 matchs sur la saiso\n",
    "df_players = (df.groupby('PLAYER_ID').count() > 50)\n",
    "list_players = df_players[df_players.SCORE].index\n",
    "df = df[df.PLAYER_ID.isin(list_players)].reset_index(drop=True)\n",
    "\n",
    "df.PLAYER_ID = df.PLAYER_ID.astype(object)\n",
    "\n",
    "# Pour l'instant on drop aussi les variables de moyenne par équipe car elles \n",
    "# sont trop souvant vide\n",
    "df = df.drop(['AVG_ADD_'+x for x in list_var_avg], axis=1)"
   ]
  },
  {
   "cell_type": "code",
   "execution_count": 71,
   "metadata": {},
   "outputs": [
    {
     "data": {
      "text/html": [
       "<div>\n",
       "<style scoped>\n",
       "    .dataframe tbody tr th:only-of-type {\n",
       "        vertical-align: middle;\n",
       "    }\n",
       "\n",
       "    .dataframe tbody tr th {\n",
       "        vertical-align: top;\n",
       "    }\n",
       "\n",
       "    .dataframe thead th {\n",
       "        text-align: right;\n",
       "    }\n",
       "</style>\n",
       "<table border=\"1\" class=\"dataframe\">\n",
       "  <thead>\n",
       "    <tr style=\"text-align: right;\">\n",
       "      <th></th>\n",
       "      <th>PLAYER_ID</th>\n",
       "      <th>TEAM</th>\n",
       "      <th>ADV</th>\n",
       "      <th>HOME</th>\n",
       "      <th>SCORE</th>\n",
       "      <th>AVG_PTS</th>\n",
       "      <th>AVG_REB</th>\n",
       "      <th>AVG_AST</th>\n",
       "      <th>AVG_STL</th>\n",
       "      <th>AVG_BLK</th>\n",
       "      <th>AVG_FGM</th>\n",
       "      <th>AVG_FTM</th>\n",
       "      <th>AVG_FG3M</th>\n",
       "      <th>AVG_TOV</th>\n",
       "      <th>AVG_FGF</th>\n",
       "      <th>AVG_FG3F</th>\n",
       "      <th>AVG_FTF</th>\n",
       "      <th>AVG_BONUS</th>\n",
       "      <th>AVG_MALUS</th>\n",
       "      <th>AVG_SCORE</th>\n",
       "      <th>NB_VIC</th>\n",
       "      <th>NB_VIC_ADD</th>\n",
       "    </tr>\n",
       "  </thead>\n",
       "  <tbody>\n",
       "    <tr>\n",
       "      <th>9601</th>\n",
       "      <td>1626204</td>\n",
       "      <td>CLE</td>\n",
       "      <td>ORL</td>\n",
       "      <td>True</td>\n",
       "      <td>23</td>\n",
       "      <td>13.0</td>\n",
       "      <td>8.333333</td>\n",
       "      <td>2.000000</td>\n",
       "      <td>0.666667</td>\n",
       "      <td>0.333333</td>\n",
       "      <td>5.333333</td>\n",
       "      <td>0.666667</td>\n",
       "      <td>1.666667</td>\n",
       "      <td>1.000000</td>\n",
       "      <td>4.666667</td>\n",
       "      <td>3.000000</td>\n",
       "      <td>0.666667</td>\n",
       "      <td>32.000000</td>\n",
       "      <td>9.333333</td>\n",
       "      <td>22.666667</td>\n",
       "      <td>0</td>\n",
       "      <td>0</td>\n",
       "    </tr>\n",
       "    <tr>\n",
       "      <th>15297</th>\n",
       "      <td>1629134</td>\n",
       "      <td>MIA</td>\n",
       "      <td>BKN</td>\n",
       "      <td>False</td>\n",
       "      <td>11</td>\n",
       "      <td>12.0</td>\n",
       "      <td>1.666667</td>\n",
       "      <td>3.333333</td>\n",
       "      <td>0.333333</td>\n",
       "      <td>0.000000</td>\n",
       "      <td>4.666667</td>\n",
       "      <td>1.666667</td>\n",
       "      <td>1.000000</td>\n",
       "      <td>1.000000</td>\n",
       "      <td>5.000000</td>\n",
       "      <td>2.000000</td>\n",
       "      <td>0.333333</td>\n",
       "      <td>24.666667</td>\n",
       "      <td>8.333333</td>\n",
       "      <td>16.333333</td>\n",
       "      <td>2</td>\n",
       "      <td>1</td>\n",
       "    </tr>\n",
       "    <tr>\n",
       "      <th>12509</th>\n",
       "      <td>1628401</td>\n",
       "      <td>SAS</td>\n",
       "      <td>PHX</td>\n",
       "      <td>True</td>\n",
       "      <td>32</td>\n",
       "      <td>16.0</td>\n",
       "      <td>3.666667</td>\n",
       "      <td>6.666667</td>\n",
       "      <td>1.000000</td>\n",
       "      <td>0.000000</td>\n",
       "      <td>6.000000</td>\n",
       "      <td>2.000000</td>\n",
       "      <td>2.000000</td>\n",
       "      <td>0.666667</td>\n",
       "      <td>5.333333</td>\n",
       "      <td>1.666667</td>\n",
       "      <td>0.333333</td>\n",
       "      <td>37.333333</td>\n",
       "      <td>8.000000</td>\n",
       "      <td>29.333333</td>\n",
       "      <td>3</td>\n",
       "      <td>2</td>\n",
       "    </tr>\n",
       "  </tbody>\n",
       "</table>\n",
       "</div>"
      ],
      "text/plain": [
       "      PLAYER_ID TEAM  ADV   HOME  SCORE  AVG_PTS   AVG_REB   AVG_AST  \\\n",
       "9601    1626204  CLE  ORL   True     23     13.0  8.333333  2.000000   \n",
       "15297   1629134  MIA  BKN  False     11     12.0  1.666667  3.333333   \n",
       "12509   1628401  SAS  PHX   True     32     16.0  3.666667  6.666667   \n",
       "\n",
       "        AVG_STL   AVG_BLK   AVG_FGM   AVG_FTM  AVG_FG3M   AVG_TOV   AVG_FGF  \\\n",
       "9601   0.666667  0.333333  5.333333  0.666667  1.666667  1.000000  4.666667   \n",
       "15297  0.333333  0.000000  4.666667  1.666667  1.000000  1.000000  5.000000   \n",
       "12509  1.000000  0.000000  6.000000  2.000000  2.000000  0.666667  5.333333   \n",
       "\n",
       "       AVG_FG3F   AVG_FTF  AVG_BONUS  AVG_MALUS  AVG_SCORE  NB_VIC  NB_VIC_ADD  \n",
       "9601   3.000000  0.666667  32.000000   9.333333  22.666667       0           0  \n",
       "15297  2.000000  0.333333  24.666667   8.333333  16.333333       2           1  \n",
       "12509  1.666667  0.333333  37.333333   8.000000  29.333333       3           2  "
      ]
     },
     "execution_count": 71,
     "metadata": {},
     "output_type": "execute_result"
    }
   ],
   "source": [
    "df.sample(3)"
   ]
  },
  {
   "cell_type": "code",
   "execution_count": 72,
   "metadata": {},
   "outputs": [],
   "source": [
    "X = df.drop('SCORE', axis=1)  # Matrice de features\n",
    "y = df['SCORE']  # La variable qui nous interesse"
   ]
  },
  {
   "cell_type": "code",
   "execution_count": 69,
   "metadata": {},
   "outputs": [],
   "source": [
    "import pandas as pd\n",
    "import numpy as np\n",
    "import matplotlib.pyplot as plt\n",
    "import seaborn as sns\n",
    "%matplotlib inline\n",
    "from sklearn.model_selection import train_test_split\n",
    "from sklearn.linear_model import Lasso, LogisticRegression\n",
    "from sklearn.feature_selection import SelectFromModel\n",
    "from sklearn.preprocessing import StandardScaler"
   ]
  },
  {
   "cell_type": "code",
   "execution_count": null,
   "metadata": {},
   "outputs": [],
   "source": []
  },
  {
   "cell_type": "code",
   "execution_count": null,
   "metadata": {},
   "outputs": [],
   "source": []
  },
  {
   "cell_type": "code",
   "execution_count": 73,
   "metadata": {},
   "outputs": [
    {
     "data": {
      "text/plain": [
       "SCORE         1.000000\n",
       "AVG_BONUS     0.581326\n",
       "AVG_SCORE     0.552926\n",
       "AVG_PTS       0.544648\n",
       "AVG_FGM       0.540138\n",
       "AVG_FTM       0.476935\n",
       "AVG_MALUS     0.471782\n",
       "AVG_FGF       0.461804\n",
       "AVG_TOV       0.445929\n",
       "AVG_REB       0.406786\n",
       "AVG_AST       0.404748\n",
       "AVG_FTF       0.350815\n",
       "AVG_FG3F      0.233863\n",
       "AVG_STL       0.219760\n",
       "AVG_FG3M      0.186107\n",
       "AVG_BLK       0.166037\n",
       "HOME          0.022435\n",
       "NB_VIC_ADD    0.013965\n",
       "NB_VIC        0.005013\n",
       "Name: SCORE, dtype: float64"
      ]
     },
     "execution_count": 73,
     "metadata": {},
     "output_type": "execute_result"
    }
   ],
   "source": [
    "# On regarde les coorelations entre les variables de contrôle \n",
    "cor = df.corr()\n",
    "cor.SCORE.sort_values(ascending=False).head(30)"
   ]
  },
  {
   "cell_type": "code",
   "execution_count": 61,
   "metadata": {},
   "outputs": [
    {
     "data": {
      "text/plain": [
       "SCORE        1.000000\n",
       "AVG_PTS      0.544648\n",
       "AVG_FGM      0.540138\n",
       "AVG_BONUS    0.581326\n",
       "AVG_SCORE    0.552926\n",
       "Name: SCORE, dtype: float64"
      ]
     },
     "execution_count": 61,
     "metadata": {},
     "output_type": "execute_result"
    }
   ],
   "source": [
    "#Correlation with output variable\n",
    "cor_target = abs(cor[\"SCORE\"])#Selecting highly correlated features\n",
    "relevant_features = cor_target[cor_target>0.5]\n",
    "relevant_features"
   ]
  },
  {
   "cell_type": "code",
   "execution_count": 62,
   "metadata": {},
   "outputs": [
    {
     "data": {
      "text/html": [
       "<div>\n",
       "<style scoped>\n",
       "    .dataframe tbody tr th:only-of-type {\n",
       "        vertical-align: middle;\n",
       "    }\n",
       "\n",
       "    .dataframe tbody tr th {\n",
       "        vertical-align: top;\n",
       "    }\n",
       "\n",
       "    .dataframe thead th {\n",
       "        text-align: right;\n",
       "    }\n",
       "</style>\n",
       "<table border=\"1\" class=\"dataframe\">\n",
       "  <thead>\n",
       "    <tr style=\"text-align: right;\">\n",
       "      <th></th>\n",
       "      <th>AVG_PTS</th>\n",
       "      <th>AVG_FGM</th>\n",
       "      <th>AVG_BONUS</th>\n",
       "      <th>AVG_SCORE</th>\n",
       "    </tr>\n",
       "  </thead>\n",
       "  <tbody>\n",
       "    <tr>\n",
       "      <th>AVG_PTS</th>\n",
       "      <td>1.000000</td>\n",
       "      <td>0.971709</td>\n",
       "      <td>0.974282</td>\n",
       "      <td>0.925728</td>\n",
       "    </tr>\n",
       "    <tr>\n",
       "      <th>AVG_FGM</th>\n",
       "      <td>0.971709</td>\n",
       "      <td>1.000000</td>\n",
       "      <td>0.946553</td>\n",
       "      <td>0.911869</td>\n",
       "    </tr>\n",
       "    <tr>\n",
       "      <th>AVG_BONUS</th>\n",
       "      <td>0.974282</td>\n",
       "      <td>0.946553</td>\n",
       "      <td>1.000000</td>\n",
       "      <td>0.961122</td>\n",
       "    </tr>\n",
       "    <tr>\n",
       "      <th>AVG_SCORE</th>\n",
       "      <td>0.925728</td>\n",
       "      <td>0.911869</td>\n",
       "      <td>0.961122</td>\n",
       "      <td>1.000000</td>\n",
       "    </tr>\n",
       "  </tbody>\n",
       "</table>\n",
       "</div>"
      ],
      "text/plain": [
       "            AVG_PTS   AVG_FGM  AVG_BONUS  AVG_SCORE\n",
       "AVG_PTS    1.000000  0.971709   0.974282   0.925728\n",
       "AVG_FGM    0.971709  1.000000   0.946553   0.911869\n",
       "AVG_BONUS  0.974282  0.946553   1.000000   0.961122\n",
       "AVG_SCORE  0.925728  0.911869   0.961122   1.000000"
      ]
     },
     "execution_count": 62,
     "metadata": {},
     "output_type": "execute_result"
    }
   ],
   "source": [
    "df[['AVG_PTS', 'AVG_FGM', 'AVG_BONUS', 'AVG_SCORE']].corr()"
   ]
  },
  {
   "cell_type": "markdown",
   "metadata": {},
   "source": [
    "On remarque que les variables qui influence beaucoup le score sont des variables extremement corrélées ! De plus si on s'attarde sur les covariances on voit que le PLAYER_ID n'a pas du tout l'impact qui parait évident c'est parce que c'est une variable categorielle qui est traité comme une variable qualitative.\n",
    "Avant de vouloir faire de la prédiction il faut s'occuper de cela."
   ]
  },
  {
   "cell_type": "code",
   "execution_count": null,
   "metadata": {},
   "outputs": [],
   "source": []
  },
  {
   "cell_type": "code",
   "execution_count": 63,
   "metadata": {},
   "outputs": [],
   "source": [
    "X_train, X_test, y_train, y_test = train_test_split(X, y, test_size=0.33, random_state=1)"
   ]
  },
  {
   "cell_type": "code",
   "execution_count": 64,
   "metadata": {},
   "outputs": [],
   "source": [
    "# configure to select all features\n",
    "fs = SelectKBest(score_func=f_classif, k='all')\n",
    "# learn relationship from training data\n",
    "fs.fit(X_train, y_train)\n",
    "# transform train input data\n",
    "X_train_fs = fs.transform(X_train)\n",
    "# transform test input data\n",
    "X_test_fs = fs.transform(X_test)"
   ]
  },
  {
   "cell_type": "code",
   "execution_count": null,
   "metadata": {},
   "outputs": [],
   "source": []
  }
 ],
 "metadata": {
  "kernelspec": {
   "display_name": "Python 3",
   "language": "python",
   "name": "python3"
  },
  "language_info": {
   "codemirror_mode": {
    "name": "ipython",
    "version": 3
   },
   "file_extension": ".py",
   "mimetype": "text/x-python",
   "name": "python",
   "nbconvert_exporter": "python",
   "pygments_lexer": "ipython3",
   "version": "3.9.0"
  },
  "name": "BaseDonnees.ipynb"
 },
 "nbformat": 4,
 "nbformat_minor": 4
}
