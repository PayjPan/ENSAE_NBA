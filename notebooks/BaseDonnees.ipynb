{
 "cells": [
  {
   "cell_type": "markdown",
   "metadata": {},
   "source": [
    "# Exploration des données\n",
    "\n",
    "Une première approche pour comprendre les données que l'on a."
   ]
  },
  {
   "cell_type": "markdown",
   "metadata": {},
   "source": [
    "## 1 - Documentation\n",
    "\n",
    "L'API `nba_api` a une très bonne documentation sur les différents *endpoints* et sur les variables que l'on peut utilisé.\n",
    "\n",
    "### Tous les *endpoints*\n",
    "\n",
    "<table><tr></tr><tr><td>boxscoreadvancedv2</td><td>boxscorefourfactorsv2</td><td>boxscoremiscv2</td><td>boxscoreplayertrackv2</td></tr><tr><td>boxscorescoringv2</td><td>boxscoresummaryv2</td><td>boxscoretraditionalv2</td><td>boxscoreusagev2</td></tr><tr><td>commonallplayers</td><td>commonplayerinfo</td><td>commonplayoffseries</td><td>commonteamroster</td></tr><tr><td>commonteamyears</td><td>defensehub</td><td>draftcombinedrillresults</td><td>draftcombinenonstationaryshooting</td></tr><tr><td>draftcombineplayeranthro</td><td>draftcombinespotshooting</td><td>draftcombinestats</td><td>drafthistory</td></tr><tr><td>franchisehistory</td><td>homepageleaders</td><td>homepagev2</td><td>infographicfanduelplayer</td></tr><tr><td>leaderstiles</td><td>leaguedashlineups</td><td>leaguedashplayerbiostats</td><td>leaguedashplayerclutch</td></tr><tr><td>leaguedashplayerptshot</td><td>leaguedashplayershotlocations</td><td>leaguedashplayerstats</td><td>leaguedashptdefend</td></tr><tr><td>leaguedashptstats</td><td>leaguedashptteamdefend</td><td>leaguedashteamclutch</td><td>leaguedashteamptshot</td></tr><tr><td>leaguedashteamshotlocations</td><td>leaguedashteamstats</td><td>leaguegamefinder</td><td>leaguegamelog</td></tr><tr><td>leagueleaders</td><td>leaguestandings</td><td>playbyplay</td><td>playbyplayv2</td></tr><tr><td>playerawards</td><td>playercareerstats</td><td>playercompare</td><td>playerdashboardbyclutch</td></tr><tr><td>playerdashboardbygamesplits</td><td>playerdashboardbygeneralsplits</td><td>playerdashboardbylastngames</td><td>playerdashboardbyopponent</td></tr><tr><td>playerdashboardbyshootingsplits</td><td>playerdashboardbyteamperformance</td><td>playerdashboardbyyearoveryear</td><td>playerdashptpass</td></tr><tr><td>playerdashptreb</td><td>playerdashptshotdefend</td><td>playerdashptshots</td><td>playerfantasyprofile</td></tr><tr><td>playerfantasyprofilebargraph</td><td>playergamelog</td><td>playergamestreakfinder</td><td>playernextngames</td></tr><tr><td>playerprofilev2</td><td>playersvsplayers</td><td>playervsplayer</td><td>playoffpicture</td></tr><tr><td>scoreboard</td><td>scoreboardv2</td><td>shotchartdetail</td><td>shotchartlineupdetail</td></tr><tr><td>teamdashboardbyclutch</td><td>teamdashboardbygamesplits</td><td>teamdashboardbygeneralsplits</td><td>teamdashboardbylastngames</td></tr><tr><td>teamdashboardbyopponent</td><td>teamdashboardbyshootingsplits</td><td>teamdashboardbyteamperformance</td><td>teamdashboardbyyearoveryear</td></tr><tr><td>teamdashlineups</td><td>teamdashptpass</td><td>teamdashptreb</td><td>teamdashptshots</td></tr><tr><td>teamdetails</td><td>teamgamelog</td><td>teamgamestreakfinder</td><td>teamhistoricalleaders</td></tr><tr><td>teaminfocommon</td><td>teamplayerdashboard</td><td>teamplayeronoffdetails</td><td>teamplayeronoffsummary</td></tr><tr><td>teamvsplayer</td><td>teamyearbyyearstats</td><td>videodetails</td><td>videoevents</td></tr><tr><td>videostatus</td></tr></table>\n",
    "\n",
    "\n",
    "[lien vers documentations des *endpoints*](https://github.com/swar/nba_api/tree/master/docs/nba_api/stats/endpoints)\n",
    "\n",
    "[lien vers documentations des variables et des sorties](https://github.com/swar/nba_api/tree/master/docs/nba_api/stats/library)\n",
    "\n",
    "### Exemple de documentation\n",
    "\n",
    "Prenons la documentation du *endpoint* PlayerGameLog : \n",
    "\n",
    "#### PlayerGameLog\n",
    "##### [nba_api/stats/endpoints/playergamelog.py](https://github.com/swar/nba_api/blob/master/nba_api/stats/endpoints/playergamelog.py)\n",
    "\n",
    "##### Endpoint URL\n",
    ">[https://stats.nba.com/stats/playergamelog](https://stats.nba.com/stats/playergamelog)\n",
    "\n",
    "##### Valid URL\n",
    ">[https://stats.nba.com/stats/playergamelog?DateFrom=&DateTo=&LeagueID=&PlayerID=2544&Season=2019-20&SeasonType=Regular+Season](https://stats.nba.com/stats/playergamelog?DateFrom=&DateTo=&LeagueID=&PlayerID=2544&Season=2019-20&SeasonType=Regular+Season)\n",
    "\n",
    "#### Parameters\n",
    "API Parameter Name | Python Parameter Variable | Pattern | Required | Nullable\n",
    "------------ | ------------ | :-----------: | :---: | :---:\n",
    "[_**PlayerID**_](https://github.com/swar/nba_api/blob/master/docs/nba_api/stats/library/parameters.md#PlayerID) | player_id |  | `Y` |  | \n",
    "[_**Season**_](https://github.com/swar/nba_api/blob/master/docs/nba_api/stats/library/parameters.md#Season) | season |  | `Y` |  | \n",
    "[_**SeasonType**_](https://github.com/swar/nba_api/blob/master/docs/nba_api/stats/library/parameters.md#SeasonType) | season_type_all_star | `^(Regular Season)\\|(Pre Season)\\|(Playoffs)\\|(All-Star)\\|(All Star)$` | `Y` |  | \n",
    "[_**LeagueID**_](https://github.com/swar/nba_api/blob/master/docs/nba_api/stats/library/parameters.md#LeagueID) | league_id_nullable |  |  | `Y` | \n",
    "[_**DateTo**_](https://github.com/swar/nba_api/blob/master/docs/nba_api/stats/library/parameters.md#DateTo) | date_to_nullable |  |  | `Y` | \n",
    "[_**DateFrom**_](https://github.com/swar/nba_api/blob/master/docs/nba_api/stats/library/parameters.md#DateFrom) | date_from_nullable |  |  | `Y` | \n",
    "\n",
    "#### Data Sets\n",
    "##### PlayerGameLog `player_game_log`\n",
    "```text\n",
    "['SEASON_ID', 'Player_ID', 'Game_ID', 'GAME_DATE', 'MATCHUP', 'WL', 'MIN', 'FGM', 'FGA', 'FG_PCT', 'FG3M', 'FG3A', 'FG3_PCT', 'FTM', 'FTA', 'FT_PCT', 'OREB', 'DREB', 'REB', 'AST', 'STL', 'BLK', 'TOV', 'PF', 'PTS', 'PLUS_MINUS', 'VIDEO_AVAILABLE']\n",
    "```"
   ]
  },
  {
   "cell_type": "markdown",
   "metadata": {},
   "source": [
    "## 2 - Premier contact\n",
    "\n",
    "Le but de cette partie est de calculer le score de chaqun des joueurs en se basant sur la formule de TrashTalk"
   ]
  },
  {
   "cell_type": "code",
   "execution_count": 1,
   "metadata": {},
   "outputs": [],
   "source": [
    "#!pip install pandas tqdm datetime matplotlib nba-api"
   ]
  },
  {
   "cell_type": "code",
   "execution_count": 2,
   "metadata": {
    "collapsed": false,
    "jupyter": {
     "outputs_hidden": false
    }
   },
   "outputs": [],
   "source": [
    "import pandas as pd\n",
    "from tqdm import tqdm\n",
    "from nba_api.stats.static import players, teams\n",
    "import nba_api.stats.endpoints as nba\n",
    "from nba_api.stats.library.parameters import SeasonTypeAllStar\n",
    "import time\n",
    "import datetime\n",
    "import matplotlib.pyplot as plt\n",
    "\n",
    "pd.set_option('display.max_columns', None)"
   ]
  },
  {
   "cell_type": "code",
   "execution_count": 3,
   "metadata": {
    "collapsed": false,
    "jupyter": {
     "outputs_hidden": false
    }
   },
   "outputs": [],
   "source": [
    "nba_players = pd.DataFrame(players.get_players()).set_index('id')\n",
    "nba_teams = pd.DataFrame(teams.get_teams()).set_index('id')"
   ]
  },
  {
   "cell_type": "code",
   "execution_count": 4,
   "metadata": {
    "collapsed": false,
    "jupyter": {
     "outputs_hidden": false
    }
   },
   "outputs": [],
   "source": [
    "def player_name2id(name):\n",
    "    return players.find_players_by_full_name(name)[0]['id']"
   ]
  },
  {
   "cell_type": "code",
   "execution_count": 5,
   "metadata": {
    "collapsed": false,
    "jupyter": {
     "outputs_hidden": false
    }
   },
   "outputs": [],
   "source": [
    "def player_id2name(id_player):\n",
    "    return players.find_player_by_id(id_player)['name']"
   ]
  },
  {
   "cell_type": "code",
   "execution_count": 6,
   "metadata": {
    "collapsed": false,
    "jupyter": {
     "outputs_hidden": false
    }
   },
   "outputs": [],
   "source": [
    "def players_id2name(df, name_column='PLAYER_ID'):\n",
    "    players = nba_players['full_name'].to_dict()\n",
    "    \n",
    "    # On place le nom des joueurs juste à droite de l'id\n",
    "    i_name_column = df.columns.get_loc(name_column)\n",
    "    df.insert(i_name_column+1, 'NAME', df[name_column].map(players))\n",
    "    \n",
    "    return(df)"
   ]
  },
  {
   "cell_type": "code",
   "execution_count": 7,
   "metadata": {
    "collapsed": false,
    "jupyter": {
     "outputs_hidden": false
    }
   },
   "outputs": [],
   "source": [
    "def team_abr2id(abr):\n",
    "    return teams.find_team_by_abbreviation(abr)['id']"
   ]
  },
  {
   "cell_type": "code",
   "execution_count": 8,
   "metadata": {
    "collapsed": false,
    "jupyter": {
     "outputs_hidden": false
    }
   },
   "outputs": [],
   "source": [
    "def team_id2name(id_team):\n",
    "    return teams.find_team_name_by_id(id_team)['name']"
   ]
  },
  {
   "cell_type": "code",
   "execution_count": 9,
   "metadata": {
    "collapsed": false,
    "jupyter": {
     "outputs_hidden": false
    }
   },
   "outputs": [],
   "source": [
    "def teams_name2abrv(df, name_column='TeamName'):\n",
    "    abr = nba_teams[['nickname', 'abbreviation']].set_index('nickname') \\\n",
    "                                                    .to_dict()['abbreviation']\n",
    "\n",
    "    df = df.assign(ABBREVIATION=lambda df: df[name_column].map(abr))    \n",
    "    \n",
    "    return df"
   ]
  },
  {
   "cell_type": "code",
   "execution_count": 10,
   "metadata": {
    "collapsed": false,
    "jupyter": {
     "outputs_hidden": false
    }
   },
   "outputs": [],
   "source": [
    "def season_id(season):\n",
    "    return(f'{season}-{int(str(season)[2:])+1}')"
   ]
  },
  {
   "cell_type": "markdown",
   "metadata": {},
   "source": [
    "#### *EndPoint* `PlayerGameLog`\n",
    "\n",
    "Permet de récupérer les statistiques individuelles des joueurs par saison.\n",
    "On l'utilise pour calculer le score de TrashTalk"
   ]
  },
  {
   "cell_type": "code",
   "execution_count": 11,
   "metadata": {
    "collapsed": false,
    "jupyter": {
     "outputs_hidden": false
    }
   },
   "outputs": [],
   "source": [
    "def boxscore_saison(player, season=2019):\n",
    "    playoffs = nba.PlayerGameLog(player, \n",
    "                                 season=season, \n",
    "                                 season_type_all_star=SeasonTypeAllStar.playoffs) \\\n",
    "                                        .get_data_frames()[0]\n",
    "    regular = nba.PlayerGameLog(player, season=season).get_data_frames()[0]\n",
    "    \n",
    "    return(playoffs.append(regular))"
   ]
  },
  {
   "cell_type": "code",
   "execution_count": 12,
   "metadata": {
    "collapsed": false,
    "jupyter": {
     "outputs_hidden": false
    }
   },
   "outputs": [],
   "source": [
    "lebron = player_name2id('LeBron James')"
   ]
  },
  {
   "cell_type": "code",
   "execution_count": 13,
   "metadata": {
    "collapsed": false,
    "jupyter": {
     "outputs_hidden": false
    }
   },
   "outputs": [
    {
     "data": {
      "text/html": [
       "<div>\n",
       "<style scoped>\n",
       "    .dataframe tbody tr th:only-of-type {\n",
       "        vertical-align: middle;\n",
       "    }\n",
       "\n",
       "    .dataframe tbody tr th {\n",
       "        vertical-align: top;\n",
       "    }\n",
       "\n",
       "    .dataframe thead th {\n",
       "        text-align: right;\n",
       "    }\n",
       "</style>\n",
       "<table border=\"1\" class=\"dataframe\">\n",
       "  <thead>\n",
       "    <tr style=\"text-align: right;\">\n",
       "      <th></th>\n",
       "      <th>SEASON_ID</th>\n",
       "      <th>Player_ID</th>\n",
       "      <th>Game_ID</th>\n",
       "      <th>GAME_DATE</th>\n",
       "      <th>MATCHUP</th>\n",
       "      <th>WL</th>\n",
       "      <th>MIN</th>\n",
       "      <th>FGM</th>\n",
       "      <th>FGA</th>\n",
       "      <th>FG_PCT</th>\n",
       "      <th>FG3M</th>\n",
       "      <th>FG3A</th>\n",
       "      <th>FG3_PCT</th>\n",
       "      <th>FTM</th>\n",
       "      <th>FTA</th>\n",
       "      <th>FT_PCT</th>\n",
       "      <th>OREB</th>\n",
       "      <th>DREB</th>\n",
       "      <th>REB</th>\n",
       "      <th>AST</th>\n",
       "      <th>STL</th>\n",
       "      <th>BLK</th>\n",
       "      <th>TOV</th>\n",
       "      <th>PF</th>\n",
       "      <th>PTS</th>\n",
       "      <th>PLUS_MINUS</th>\n",
       "      <th>VIDEO_AVAILABLE</th>\n",
       "    </tr>\n",
       "  </thead>\n",
       "  <tbody>\n",
       "    <tr>\n",
       "      <th>24</th>\n",
       "      <td>22019</td>\n",
       "      <td>2544</td>\n",
       "      <td>0021900667</td>\n",
       "      <td>JAN 23, 2020</td>\n",
       "      <td>LAL @ BKN</td>\n",
       "      <td>W</td>\n",
       "      <td>34</td>\n",
       "      <td>11</td>\n",
       "      <td>19</td>\n",
       "      <td>0.579</td>\n",
       "      <td>3</td>\n",
       "      <td>6</td>\n",
       "      <td>0.500</td>\n",
       "      <td>2</td>\n",
       "      <td>2</td>\n",
       "      <td>1.000</td>\n",
       "      <td>2</td>\n",
       "      <td>9</td>\n",
       "      <td>11</td>\n",
       "      <td>10</td>\n",
       "      <td>1</td>\n",
       "      <td>1</td>\n",
       "      <td>5</td>\n",
       "      <td>0</td>\n",
       "      <td>27</td>\n",
       "      <td>26</td>\n",
       "      <td>1</td>\n",
       "    </tr>\n",
       "    <tr>\n",
       "      <th>10</th>\n",
       "      <td>42019</td>\n",
       "      <td>2544</td>\n",
       "      <td>0041900311</td>\n",
       "      <td>SEP 18, 2020</td>\n",
       "      <td>LAL vs. DEN</td>\n",
       "      <td>W</td>\n",
       "      <td>31</td>\n",
       "      <td>6</td>\n",
       "      <td>11</td>\n",
       "      <td>0.545</td>\n",
       "      <td>0</td>\n",
       "      <td>2</td>\n",
       "      <td>0.000</td>\n",
       "      <td>3</td>\n",
       "      <td>4</td>\n",
       "      <td>0.750</td>\n",
       "      <td>1</td>\n",
       "      <td>5</td>\n",
       "      <td>6</td>\n",
       "      <td>12</td>\n",
       "      <td>0</td>\n",
       "      <td>0</td>\n",
       "      <td>3</td>\n",
       "      <td>2</td>\n",
       "      <td>15</td>\n",
       "      <td>15</td>\n",
       "      <td>1</td>\n",
       "    </tr>\n",
       "    <tr>\n",
       "      <th>50</th>\n",
       "      <td>22019</td>\n",
       "      <td>2544</td>\n",
       "      <td>0021900249</td>\n",
       "      <td>NOV 25, 2019</td>\n",
       "      <td>LAL @ SAS</td>\n",
       "      <td>W</td>\n",
       "      <td>35</td>\n",
       "      <td>13</td>\n",
       "      <td>24</td>\n",
       "      <td>0.542</td>\n",
       "      <td>4</td>\n",
       "      <td>7</td>\n",
       "      <td>0.571</td>\n",
       "      <td>3</td>\n",
       "      <td>8</td>\n",
       "      <td>0.375</td>\n",
       "      <td>1</td>\n",
       "      <td>3</td>\n",
       "      <td>4</td>\n",
       "      <td>14</td>\n",
       "      <td>0</td>\n",
       "      <td>1</td>\n",
       "      <td>3</td>\n",
       "      <td>2</td>\n",
       "      <td>33</td>\n",
       "      <td>6</td>\n",
       "      <td>1</td>\n",
       "    </tr>\n",
       "  </tbody>\n",
       "</table>\n",
       "</div>"
      ],
      "text/plain": [
       "   SEASON_ID  Player_ID     Game_ID     GAME_DATE      MATCHUP WL  MIN  FGM  \\\n",
       "24     22019       2544  0021900667  JAN 23, 2020    LAL @ BKN  W   34   11   \n",
       "10     42019       2544  0041900311  SEP 18, 2020  LAL vs. DEN  W   31    6   \n",
       "50     22019       2544  0021900249  NOV 25, 2019    LAL @ SAS  W   35   13   \n",
       "\n",
       "    FGA  FG_PCT  FG3M  FG3A  FG3_PCT  FTM  FTA  FT_PCT  OREB  DREB  REB  AST  \\\n",
       "24   19   0.579     3     6    0.500    2    2   1.000     2     9   11   10   \n",
       "10   11   0.545     0     2    0.000    3    4   0.750     1     5    6   12   \n",
       "50   24   0.542     4     7    0.571    3    8   0.375     1     3    4   14   \n",
       "\n",
       "    STL  BLK  TOV  PF  PTS  PLUS_MINUS  VIDEO_AVAILABLE  \n",
       "24    1    1    5   0   27          26                1  \n",
       "10    0    0    3   2   15          15                1  \n",
       "50    0    1    3   2   33           6                1  "
      ]
     },
     "execution_count": 13,
     "metadata": {},
     "output_type": "execute_result"
    }
   ],
   "source": [
    "boxscore_saison(lebron).sample(3)"
   ]
  },
  {
   "cell_type": "markdown",
   "metadata": {},
   "source": [
    "#### *EndPoint* `CommonPlayerInfo`\n",
    "\n",
    "On utilise cet *endpoint* pour avoir des informations sur un joueur en particulier, comme sa taille, son poids, sa date de naissance.\n",
    "Un exemple ici est son utilisation pour avoir sa première et sa dernière saision"
   ]
  },
  {
   "cell_type": "code",
   "execution_count": 14,
   "metadata": {
    "collapsed": false,
    "jupyter": {
     "outputs_hidden": false
    }
   },
   "outputs": [
    {
     "data": {
      "text/html": [
       "<div>\n",
       "<style scoped>\n",
       "    .dataframe tbody tr th:only-of-type {\n",
       "        vertical-align: middle;\n",
       "    }\n",
       "\n",
       "    .dataframe tbody tr th {\n",
       "        vertical-align: top;\n",
       "    }\n",
       "\n",
       "    .dataframe thead th {\n",
       "        text-align: right;\n",
       "    }\n",
       "</style>\n",
       "<table border=\"1\" class=\"dataframe\">\n",
       "  <thead>\n",
       "    <tr style=\"text-align: right;\">\n",
       "      <th></th>\n",
       "      <th>PERSON_ID</th>\n",
       "      <th>FIRST_NAME</th>\n",
       "      <th>LAST_NAME</th>\n",
       "      <th>DISPLAY_FIRST_LAST</th>\n",
       "      <th>DISPLAY_LAST_COMMA_FIRST</th>\n",
       "      <th>DISPLAY_FI_LAST</th>\n",
       "      <th>PLAYER_SLUG</th>\n",
       "      <th>BIRTHDATE</th>\n",
       "      <th>SCHOOL</th>\n",
       "      <th>COUNTRY</th>\n",
       "      <th>LAST_AFFILIATION</th>\n",
       "      <th>HEIGHT</th>\n",
       "      <th>WEIGHT</th>\n",
       "      <th>SEASON_EXP</th>\n",
       "      <th>JERSEY</th>\n",
       "      <th>POSITION</th>\n",
       "      <th>ROSTERSTATUS</th>\n",
       "      <th>GAMES_PLAYED_CURRENT_SEASON_FLAG</th>\n",
       "      <th>TEAM_ID</th>\n",
       "      <th>TEAM_NAME</th>\n",
       "      <th>TEAM_ABBREVIATION</th>\n",
       "      <th>TEAM_CODE</th>\n",
       "      <th>TEAM_CITY</th>\n",
       "      <th>PLAYERCODE</th>\n",
       "      <th>FROM_YEAR</th>\n",
       "      <th>TO_YEAR</th>\n",
       "      <th>DLEAGUE_FLAG</th>\n",
       "      <th>NBA_FLAG</th>\n",
       "      <th>GAMES_PLAYED_FLAG</th>\n",
       "      <th>DRAFT_YEAR</th>\n",
       "      <th>DRAFT_ROUND</th>\n",
       "      <th>DRAFT_NUMBER</th>\n",
       "    </tr>\n",
       "  </thead>\n",
       "  <tbody>\n",
       "    <tr>\n",
       "      <th>0</th>\n",
       "      <td>2544</td>\n",
       "      <td>LeBron</td>\n",
       "      <td>James</td>\n",
       "      <td>LeBron James</td>\n",
       "      <td>James, LeBron</td>\n",
       "      <td>L. James</td>\n",
       "      <td>lebron-james</td>\n",
       "      <td>1984-12-30T00:00:00</td>\n",
       "      <td>St. Vincent-St. Mary HS (OH)</td>\n",
       "      <td>USA</td>\n",
       "      <td>St. Vincent-St. Mary HS (OH)/USA</td>\n",
       "      <td>6-9</td>\n",
       "      <td>250</td>\n",
       "      <td>17</td>\n",
       "      <td>23</td>\n",
       "      <td>Forward</td>\n",
       "      <td>Active</td>\n",
       "      <td>N</td>\n",
       "      <td>1610612747</td>\n",
       "      <td>Lakers</td>\n",
       "      <td>LAL</td>\n",
       "      <td>lakers</td>\n",
       "      <td>Los Angeles</td>\n",
       "      <td>lebron_james</td>\n",
       "      <td>2003</td>\n",
       "      <td>2020</td>\n",
       "      <td>N</td>\n",
       "      <td>Y</td>\n",
       "      <td>Y</td>\n",
       "      <td>2003</td>\n",
       "      <td>1</td>\n",
       "      <td>1</td>\n",
       "    </tr>\n",
       "  </tbody>\n",
       "</table>\n",
       "</div>"
      ],
      "text/plain": [
       "   PERSON_ID FIRST_NAME LAST_NAME DISPLAY_FIRST_LAST DISPLAY_LAST_COMMA_FIRST  \\\n",
       "0       2544     LeBron     James       LeBron James            James, LeBron   \n",
       "\n",
       "  DISPLAY_FI_LAST   PLAYER_SLUG            BIRTHDATE  \\\n",
       "0        L. James  lebron-james  1984-12-30T00:00:00   \n",
       "\n",
       "                         SCHOOL COUNTRY                  LAST_AFFILIATION  \\\n",
       "0  St. Vincent-St. Mary HS (OH)     USA  St. Vincent-St. Mary HS (OH)/USA   \n",
       "\n",
       "  HEIGHT WEIGHT  SEASON_EXP JERSEY POSITION ROSTERSTATUS  \\\n",
       "0    6-9    250          17     23  Forward       Active   \n",
       "\n",
       "  GAMES_PLAYED_CURRENT_SEASON_FLAG     TEAM_ID TEAM_NAME TEAM_ABBREVIATION  \\\n",
       "0                                N  1610612747    Lakers               LAL   \n",
       "\n",
       "  TEAM_CODE    TEAM_CITY    PLAYERCODE  FROM_YEAR  TO_YEAR DLEAGUE_FLAG  \\\n",
       "0    lakers  Los Angeles  lebron_james       2003     2020            N   \n",
       "\n",
       "  NBA_FLAG GAMES_PLAYED_FLAG DRAFT_YEAR DRAFT_ROUND DRAFT_NUMBER  \n",
       "0        Y                 Y       2003           1            1  "
      ]
     },
     "execution_count": 14,
     "metadata": {},
     "output_type": "execute_result"
    }
   ],
   "source": [
    "nba.CommonPlayerInfo(lebron).get_data_frames()[0]"
   ]
  },
  {
   "cell_type": "code",
   "execution_count": 15,
   "metadata": {
    "collapsed": false,
    "jupyter": {
     "outputs_hidden": false
    }
   },
   "outputs": [],
   "source": [
    "def first_last_season_player(player_id):\n",
    "    df = nba.CommonPlayerInfo(player_id).get_data_frames()[0]\n",
    "    first = df.FROM_YEAR.values[0]\n",
    "    last = df.TO_YEAR.values[0]\n",
    "    return(first, last)"
   ]
  },
  {
   "cell_type": "code",
   "execution_count": 16,
   "metadata": {
    "collapsed": false,
    "jupyter": {
     "outputs_hidden": false
    }
   },
   "outputs": [
    {
     "data": {
      "text/plain": [
       "(2003, 2020)"
      ]
     },
     "execution_count": 16,
     "metadata": {},
     "output_type": "execute_result"
    }
   ],
   "source": [
    "first_last_season_player(lebron)"
   ]
  },
  {
   "cell_type": "markdown",
   "metadata": {},
   "source": [
    "#### *EndPoint* `CommonTeamRoster`\n",
    "\n",
    "Cet *endpoint* donne des informations sur les 12 de l'équipe qu'on lui demande. /!\\ Il faut spécifier une saison /!\\.\n",
    "Un exemple ici pour récupérer les positions des joueurs pour une équipe et une saison donnée"
   ]
  },
  {
   "cell_type": "code",
   "execution_count": 17,
   "metadata": {
    "collapsed": false,
    "jupyter": {
     "outputs_hidden": false
    }
   },
   "outputs": [
    {
     "data": {
      "text/html": [
       "<div>\n",
       "<style scoped>\n",
       "    .dataframe tbody tr th:only-of-type {\n",
       "        vertical-align: middle;\n",
       "    }\n",
       "\n",
       "    .dataframe tbody tr th {\n",
       "        vertical-align: top;\n",
       "    }\n",
       "\n",
       "    .dataframe thead th {\n",
       "        text-align: right;\n",
       "    }\n",
       "</style>\n",
       "<table border=\"1\" class=\"dataframe\">\n",
       "  <thead>\n",
       "    <tr style=\"text-align: right;\">\n",
       "      <th></th>\n",
       "      <th>TeamID</th>\n",
       "      <th>SEASON</th>\n",
       "      <th>LeagueID</th>\n",
       "      <th>PLAYER</th>\n",
       "      <th>PLAYER_SLUG</th>\n",
       "      <th>NUM</th>\n",
       "      <th>POSITION</th>\n",
       "      <th>HEIGHT</th>\n",
       "      <th>WEIGHT</th>\n",
       "      <th>BIRTH_DATE</th>\n",
       "      <th>AGE</th>\n",
       "      <th>EXP</th>\n",
       "      <th>SCHOOL</th>\n",
       "      <th>PLAYER_ID</th>\n",
       "    </tr>\n",
       "  </thead>\n",
       "  <tbody>\n",
       "    <tr>\n",
       "      <th>1</th>\n",
       "      <td>1610612744</td>\n",
       "      <td>2019</td>\n",
       "      <td>00</td>\n",
       "      <td>Jordan Poole</td>\n",
       "      <td>jordan-poole</td>\n",
       "      <td>3</td>\n",
       "      <td>G</td>\n",
       "      <td>6-4</td>\n",
       "      <td>194</td>\n",
       "      <td>JUN 19, 1999</td>\n",
       "      <td>21.0</td>\n",
       "      <td>R</td>\n",
       "      <td>Michigan</td>\n",
       "      <td>1629673</td>\n",
       "    </tr>\n",
       "    <tr>\n",
       "      <th>7</th>\n",
       "      <td>1610612744</td>\n",
       "      <td>2019</td>\n",
       "      <td>00</td>\n",
       "      <td>Mychal Mulder</td>\n",
       "      <td>mychal-mulder</td>\n",
       "      <td>12</td>\n",
       "      <td>G</td>\n",
       "      <td>6-3</td>\n",
       "      <td>184</td>\n",
       "      <td>JUN 12, 1994</td>\n",
       "      <td>26.0</td>\n",
       "      <td>R</td>\n",
       "      <td>Kentucky</td>\n",
       "      <td>1628539</td>\n",
       "    </tr>\n",
       "    <tr>\n",
       "      <th>6</th>\n",
       "      <td>1610612744</td>\n",
       "      <td>2019</td>\n",
       "      <td>00</td>\n",
       "      <td>Ky Bowman</td>\n",
       "      <td>ky-bowman</td>\n",
       "      <td>12</td>\n",
       "      <td>G</td>\n",
       "      <td>6-1</td>\n",
       "      <td>187</td>\n",
       "      <td>JUN 16, 1997</td>\n",
       "      <td>23.0</td>\n",
       "      <td>R</td>\n",
       "      <td>Boston College</td>\n",
       "      <td>1629065</td>\n",
       "    </tr>\n",
       "  </tbody>\n",
       "</table>\n",
       "</div>"
      ],
      "text/plain": [
       "       TeamID SEASON LeagueID         PLAYER    PLAYER_SLUG NUM POSITION  \\\n",
       "1  1610612744   2019       00   Jordan Poole   jordan-poole   3        G   \n",
       "7  1610612744   2019       00  Mychal Mulder  mychal-mulder  12        G   \n",
       "6  1610612744   2019       00      Ky Bowman      ky-bowman  12        G   \n",
       "\n",
       "  HEIGHT WEIGHT    BIRTH_DATE   AGE EXP          SCHOOL  PLAYER_ID  \n",
       "1    6-4    194  JUN 19, 1999  21.0   R        Michigan    1629673  \n",
       "7    6-3    184  JUN 12, 1994  26.0   R        Kentucky    1628539  \n",
       "6    6-1    187  JUN 16, 1997  23.0   R  Boston College    1629065  "
      ]
     },
     "execution_count": 17,
     "metadata": {},
     "output_type": "execute_result"
    }
   ],
   "source": [
    "warrior = team_abr2id('GSW')\n",
    "nba.CommonTeamRoster(warrior, 2019).get_data_frames()[0].sample(3)"
   ]
  },
  {
   "cell_type": "code",
   "execution_count": 18,
   "metadata": {
    "collapsed": false,
    "jupyter": {
     "outputs_hidden": false
    }
   },
   "outputs": [],
   "source": [
    "def team_players(team_id, saison):\n",
    "    df = nba.CommonTeamRoster(warrior, 2019).get_data_frames()[0]\n",
    "    return(df[['PLAYER_ID', 'PLAYER', 'POSITION']])"
   ]
  },
  {
   "cell_type": "code",
   "execution_count": 19,
   "metadata": {
    "collapsed": false,
    "jupyter": {
     "outputs_hidden": false
    }
   },
   "outputs": [
    {
     "data": {
      "text/html": [
       "<div>\n",
       "<style scoped>\n",
       "    .dataframe tbody tr th:only-of-type {\n",
       "        vertical-align: middle;\n",
       "    }\n",
       "\n",
       "    .dataframe tbody tr th {\n",
       "        vertical-align: top;\n",
       "    }\n",
       "\n",
       "    .dataframe thead th {\n",
       "        text-align: right;\n",
       "    }\n",
       "</style>\n",
       "<table border=\"1\" class=\"dataframe\">\n",
       "  <thead>\n",
       "    <tr style=\"text-align: right;\">\n",
       "      <th></th>\n",
       "      <th>PLAYER_ID</th>\n",
       "      <th>PLAYER</th>\n",
       "      <th>POSITION</th>\n",
       "    </tr>\n",
       "  </thead>\n",
       "  <tbody>\n",
       "    <tr>\n",
       "      <th>9</th>\n",
       "      <td>203110</td>\n",
       "      <td>Draymond Green</td>\n",
       "      <td>F</td>\n",
       "    </tr>\n",
       "    <tr>\n",
       "      <th>4</th>\n",
       "      <td>1629672</td>\n",
       "      <td>Eric Paschall</td>\n",
       "      <td>F</td>\n",
       "    </tr>\n",
       "    <tr>\n",
       "      <th>7</th>\n",
       "      <td>1628539</td>\n",
       "      <td>Mychal Mulder</td>\n",
       "      <td>G</td>\n",
       "    </tr>\n",
       "  </tbody>\n",
       "</table>\n",
       "</div>"
      ],
      "text/plain": [
       "   PLAYER_ID          PLAYER POSITION\n",
       "9     203110  Draymond Green        F\n",
       "4    1629672   Eric Paschall        F\n",
       "7    1628539   Mychal Mulder        G"
      ]
     },
     "execution_count": 19,
     "metadata": {},
     "output_type": "execute_result"
    }
   ],
   "source": [
    "team_players(warrior, 2019).sample(3)"
   ]
  },
  {
   "cell_type": "markdown",
   "metadata": {},
   "source": [
    "#### *EndPoint* `PlayerProfileV2`\n",
    "\n",
    "Ce *endpoint* permet de trouver le prochain match d'un joueur et plein d'autre info qui vont surement pas nous servir. Je comprends pas bien le `Totals` mais je suis pas sur qu'il y ai un impact. De plus, je pense qu'il doit y avoir un autre *endpoint* qui permet d'obtenir cette information.\n",
    "\n",
    "PS: au 27/10 la saison 2020-2021 n'a pas encore démarrer d'où la liste vide"
   ]
  },
  {
   "cell_type": "code",
   "execution_count": 20,
   "metadata": {
    "collapsed": false,
    "jupyter": {
     "outputs_hidden": false
    }
   },
   "outputs": [
    {
     "data": {
      "text/html": [
       "<div>\n",
       "<style scoped>\n",
       "    .dataframe tbody tr th:only-of-type {\n",
       "        vertical-align: middle;\n",
       "    }\n",
       "\n",
       "    .dataframe tbody tr th {\n",
       "        vertical-align: top;\n",
       "    }\n",
       "\n",
       "    .dataframe thead th {\n",
       "        text-align: right;\n",
       "    }\n",
       "</style>\n",
       "<table border=\"1\" class=\"dataframe\">\n",
       "  <thead>\n",
       "    <tr style=\"text-align: right;\">\n",
       "      <th></th>\n",
       "      <th>PLAYER_ID</th>\n",
       "      <th>SEASON_ID</th>\n",
       "      <th>LEAGUE_ID</th>\n",
       "      <th>ORGANIZATION_ID</th>\n",
       "      <th>SCHOOL_NAME</th>\n",
       "      <th>PLAYER_AGE</th>\n",
       "      <th>GP</th>\n",
       "      <th>GS</th>\n",
       "      <th>MIN</th>\n",
       "      <th>FGM</th>\n",
       "      <th>FGA</th>\n",
       "      <th>FG_PCT</th>\n",
       "      <th>FG3M</th>\n",
       "      <th>FG3A</th>\n",
       "      <th>FG3_PCT</th>\n",
       "      <th>FTM</th>\n",
       "      <th>FTA</th>\n",
       "      <th>FT_PCT</th>\n",
       "      <th>OREB</th>\n",
       "      <th>DREB</th>\n",
       "      <th>REB</th>\n",
       "      <th>AST</th>\n",
       "      <th>STL</th>\n",
       "      <th>BLK</th>\n",
       "      <th>TOV</th>\n",
       "      <th>PF</th>\n",
       "      <th>PTS</th>\n",
       "    </tr>\n",
       "  </thead>\n",
       "  <tbody>\n",
       "  </tbody>\n",
       "</table>\n",
       "</div>"
      ],
      "text/plain": [
       "Empty DataFrame\n",
       "Columns: [PLAYER_ID, SEASON_ID, LEAGUE_ID, ORGANIZATION_ID, SCHOOL_NAME, PLAYER_AGE, GP, GS, MIN, FGM, FGA, FG_PCT, FG3M, FG3A, FG3_PCT, FTM, FTA, FT_PCT, OREB, DREB, REB, AST, STL, BLK, TOV, PF, PTS]\n",
       "Index: []"
      ]
     },
     "execution_count": 20,
     "metadata": {},
     "output_type": "execute_result"
    }
   ],
   "source": [
    "nba.PlayerProfileV2(lebron, 'Totals').get_data_frames()[6]"
   ]
  },
  {
   "cell_type": "markdown",
   "metadata": {},
   "source": [
    "#### *EndPoint* `LeagueStandings`\n",
    "\n",
    "Ce *endpoint* permet d'avoir des informations sur les équipes pour une saison particulière. Par exemple, ici nous l'utilisons pour avoir le classement des équipes."
   ]
  },
  {
   "cell_type": "code",
   "execution_count": 21,
   "metadata": {
    "collapsed": false,
    "jupyter": {
     "outputs_hidden": false
    }
   },
   "outputs": [
    {
     "data": {
      "text/html": [
       "<div>\n",
       "<style scoped>\n",
       "    .dataframe tbody tr th:only-of-type {\n",
       "        vertical-align: middle;\n",
       "    }\n",
       "\n",
       "    .dataframe tbody tr th {\n",
       "        vertical-align: top;\n",
       "    }\n",
       "\n",
       "    .dataframe thead th {\n",
       "        text-align: right;\n",
       "    }\n",
       "</style>\n",
       "<table border=\"1\" class=\"dataframe\">\n",
       "  <thead>\n",
       "    <tr style=\"text-align: right;\">\n",
       "      <th></th>\n",
       "      <th>TeamName</th>\n",
       "    </tr>\n",
       "  </thead>\n",
       "  <tbody>\n",
       "    <tr>\n",
       "      <th>0</th>\n",
       "      <td>Lakers</td>\n",
       "    </tr>\n",
       "    <tr>\n",
       "      <th>1</th>\n",
       "      <td>Bucks</td>\n",
       "    </tr>\n",
       "    <tr>\n",
       "      <th>2</th>\n",
       "      <td>Clippers</td>\n",
       "    </tr>\n",
       "  </tbody>\n",
       "</table>\n",
       "</div>"
      ],
      "text/plain": [
       "   TeamName\n",
       "0    Lakers\n",
       "1     Bucks\n",
       "2  Clippers"
      ]
     },
     "execution_count": 21,
     "metadata": {},
     "output_type": "execute_result"
    }
   ],
   "source": [
    "nba.LeagueStandings(season=2019).get_data_frames()[0]['TeamName']  \\\n",
    "                                .to_frame()  \\\n",
    "                                .head(3)"
   ]
  },
  {
   "cell_type": "code",
   "execution_count": 22,
   "metadata": {
    "collapsed": false,
    "jupyter": {
     "outputs_hidden": false
    }
   },
   "outputs": [],
   "source": [
    "def teamsStandings(season):\n",
    "    \"\"\"\n",
    "    Renvoie une liste d'abbréviation rangée dans l'ordre \n",
    "    du classement de la saison [season]\n",
    "    \"\"\"\n",
    "    \n",
    "    # On récupère les info sur les équipes pour la league [season]\n",
    "    teams=nba.LeagueStandings(season=season) \\\n",
    "                .get_data_frames()[0]['TeamName'] \\\n",
    "                .to_frame()\n",
    "    \n",
    "    # On récupère les abbreviations des équipes et on créé un colone\n",
    "    abr = nba_teams[['nickname', 'abbreviation']].set_index('nickname') \\\n",
    "                                                    .to_dict()['abbreviation']\n",
    "    teams = teams.assign(ABBREVIATION=lambda df: df['TeamName'].map(abr))\n",
    "\n",
    "    return teams.ABBREVIATION.values"
   ]
  },
  {
   "cell_type": "code",
   "execution_count": 23,
   "metadata": {
    "collapsed": false,
    "jupyter": {
     "outputs_hidden": false
    }
   },
   "outputs": [
    {
     "data": {
      "text/plain": [
       "array(['LAL', 'MIL', 'LAC', 'TOR', 'BOS', 'DEN', 'HOU', 'IND', 'MIA',\n",
       "       'OKC', 'PHI', 'UTA', 'DAL', 'BKN', 'POR', 'ORL', 'MEM', 'WAS',\n",
       "       'PHX', 'CHA', 'SAS', 'CHI', 'SAC', 'NYK', 'DET', 'NOP', 'MIN',\n",
       "       'ATL', 'CLE', 'GSW'], dtype=object)"
      ]
     },
     "execution_count": 23,
     "metadata": {},
     "output_type": "execute_result"
    }
   ],
   "source": [
    "teamsStandings(2019)"
   ]
  },
  {
   "cell_type": "markdown",
   "metadata": {},
   "source": [
    "## 3 - Fonctions de récupérations de données\n",
    "\n",
    "On retrouve ici les fonctions nécéssaires pour récupérer un base de données propre avec les données qui nous intéresse.\n",
    "La première chose à faire est de connaître les joueurs qui nous intéresse car les appels API sont limités."
   ]
  },
  {
   "cell_type": "code",
   "execution_count": 24,
   "metadata": {
    "collapsed": false,
    "jupyter": {
     "outputs_hidden": false
    }
   },
   "outputs": [],
   "source": [
    "def get_data_teams():\n",
    "    \"\"\"\n",
    "    Récupère les statistiques par années de chacun des joueurs\n",
    "    permet surtout de savoir quelles années ils ont joué et pour qui.\n",
    "    \"\"\"\n",
    "    \n",
    "    df = pd.DataFrame()\n",
    "\n",
    "    lst_index = nba_players.index.values\n",
    "    \n",
    "    time = len(lst_index)*0.7\n",
    "\n",
    "    print(f'Cela va prendre environ : {datetime.timedelta(seconds=time)}')\n",
    "    for i in range(len(lst_index)):\n",
    "        print(f'\\r{i+1}/{len(lst_index)}', end='')\n",
    "        df = df.append(nba.PlayerCareerStats(lst_index[i])\\\n",
    "                            .season_totals_regular_season.get_data_frame())\n",
    "        time.sleep(0.5)\n",
    "    \n",
    "    df.to_csv('../data/players_data.csv', index=False)"
   ]
  },
  {
   "cell_type": "code",
   "execution_count": 25,
   "metadata": {
    "collapsed": false,
    "jupyter": {
     "outputs_hidden": false
    }
   },
   "outputs": [
    {
     "data": {
      "text/html": [
       "<div>\n",
       "<style scoped>\n",
       "    .dataframe tbody tr th:only-of-type {\n",
       "        vertical-align: middle;\n",
       "    }\n",
       "\n",
       "    .dataframe tbody tr th {\n",
       "        vertical-align: top;\n",
       "    }\n",
       "\n",
       "    .dataframe thead th {\n",
       "        text-align: right;\n",
       "    }\n",
       "</style>\n",
       "<table border=\"1\" class=\"dataframe\">\n",
       "  <thead>\n",
       "    <tr style=\"text-align: right;\">\n",
       "      <th></th>\n",
       "      <th>PLAYER_ID</th>\n",
       "      <th>SEASON_ID</th>\n",
       "      <th>LEAGUE_ID</th>\n",
       "      <th>TEAM_ID</th>\n",
       "      <th>TEAM_ABBREVIATION</th>\n",
       "      <th>PLAYER_AGE</th>\n",
       "      <th>GP</th>\n",
       "      <th>GS</th>\n",
       "      <th>MIN</th>\n",
       "      <th>FGM</th>\n",
       "      <th>FGA</th>\n",
       "      <th>FG_PCT</th>\n",
       "      <th>FG3M</th>\n",
       "      <th>FG3A</th>\n",
       "      <th>FG3_PCT</th>\n",
       "      <th>FTM</th>\n",
       "      <th>FTA</th>\n",
       "      <th>FT_PCT</th>\n",
       "      <th>OREB</th>\n",
       "      <th>DREB</th>\n",
       "      <th>REB</th>\n",
       "      <th>AST</th>\n",
       "      <th>STL</th>\n",
       "      <th>BLK</th>\n",
       "      <th>TOV</th>\n",
       "      <th>PF</th>\n",
       "      <th>PTS</th>\n",
       "    </tr>\n",
       "  </thead>\n",
       "  <tbody>\n",
       "    <tr>\n",
       "      <th>13220</th>\n",
       "      <td>1629742</td>\n",
       "      <td>2019-20</td>\n",
       "      <td>0</td>\n",
       "      <td>1610612762</td>\n",
       "      <td>UTA</td>\n",
       "      <td>28.0</td>\n",
       "      <td>4</td>\n",
       "      <td>0.0</td>\n",
       "      <td>15.0</td>\n",
       "      <td>0</td>\n",
       "      <td>3</td>\n",
       "      <td>0.000</td>\n",
       "      <td>0.0</td>\n",
       "      <td>1.0</td>\n",
       "      <td>0.000</td>\n",
       "      <td>0</td>\n",
       "      <td>0</td>\n",
       "      <td>0.000</td>\n",
       "      <td>0.0</td>\n",
       "      <td>3.0</td>\n",
       "      <td>3.0</td>\n",
       "      <td>1</td>\n",
       "      <td>0.0</td>\n",
       "      <td>0.0</td>\n",
       "      <td>2.0</td>\n",
       "      <td>3</td>\n",
       "      <td>0</td>\n",
       "    </tr>\n",
       "    <tr>\n",
       "      <th>2494</th>\n",
       "      <td>76210</td>\n",
       "      <td>1951-52</td>\n",
       "      <td>0</td>\n",
       "      <td>1610612752</td>\n",
       "      <td>NYK</td>\n",
       "      <td>25.0</td>\n",
       "      <td>42</td>\n",
       "      <td>NaN</td>\n",
       "      <td>1440.0</td>\n",
       "      <td>202</td>\n",
       "      <td>522</td>\n",
       "      <td>0.387</td>\n",
       "      <td>NaN</td>\n",
       "      <td>NaN</td>\n",
       "      <td>NaN</td>\n",
       "      <td>96</td>\n",
       "      <td>115</td>\n",
       "      <td>0.835</td>\n",
       "      <td>NaN</td>\n",
       "      <td>NaN</td>\n",
       "      <td>219.0</td>\n",
       "      <td>90</td>\n",
       "      <td>NaN</td>\n",
       "      <td>NaN</td>\n",
       "      <td>NaN</td>\n",
       "      <td>121</td>\n",
       "      <td>500</td>\n",
       "    </tr>\n",
       "    <tr>\n",
       "      <th>8403</th>\n",
       "      <td>200752</td>\n",
       "      <td>2013-14</td>\n",
       "      <td>0</td>\n",
       "      <td>1610612758</td>\n",
       "      <td>SAC</td>\n",
       "      <td>27.0</td>\n",
       "      <td>55</td>\n",
       "      <td>55.0</td>\n",
       "      <td>1892.0</td>\n",
       "      <td>407</td>\n",
       "      <td>844</td>\n",
       "      <td>0.482</td>\n",
       "      <td>43.0</td>\n",
       "      <td>138.0</td>\n",
       "      <td>0.312</td>\n",
       "      <td>250</td>\n",
       "      <td>299</td>\n",
       "      <td>0.836</td>\n",
       "      <td>84.0</td>\n",
       "      <td>220.0</td>\n",
       "      <td>304.0</td>\n",
       "      <td>169</td>\n",
       "      <td>67.0</td>\n",
       "      <td>33.0</td>\n",
       "      <td>165.0</td>\n",
       "      <td>124</td>\n",
       "      <td>1107</td>\n",
       "    </tr>\n",
       "  </tbody>\n",
       "</table>\n",
       "</div>"
      ],
      "text/plain": [
       "       PLAYER_ID SEASON_ID  LEAGUE_ID     TEAM_ID TEAM_ABBREVIATION  \\\n",
       "13220    1629742   2019-20          0  1610612762               UTA   \n",
       "2494       76210   1951-52          0  1610612752               NYK   \n",
       "8403      200752   2013-14          0  1610612758               SAC   \n",
       "\n",
       "       PLAYER_AGE  GP    GS     MIN  FGM  FGA  FG_PCT  FG3M   FG3A  FG3_PCT  \\\n",
       "13220        28.0   4   0.0    15.0    0    3   0.000   0.0    1.0    0.000   \n",
       "2494         25.0  42   NaN  1440.0  202  522   0.387   NaN    NaN      NaN   \n",
       "8403         27.0  55  55.0  1892.0  407  844   0.482  43.0  138.0    0.312   \n",
       "\n",
       "       FTM  FTA  FT_PCT  OREB   DREB    REB  AST   STL   BLK    TOV   PF   PTS  \n",
       "13220    0    0   0.000   0.0    3.0    3.0    1   0.0   0.0    2.0    3     0  \n",
       "2494    96  115   0.835   NaN    NaN  219.0   90   NaN   NaN    NaN  121   500  \n",
       "8403   250  299   0.836  84.0  220.0  304.0  169  67.0  33.0  165.0  124  1107  "
      ]
     },
     "execution_count": 25,
     "metadata": {},
     "output_type": "execute_result"
    }
   ],
   "source": [
    "#get_data_teams()\n",
    "\n",
    "df_teams = pd.read_csv('../data/players_data.csv')\n",
    "df_teams.sample(3)"
   ]
  },
  {
   "cell_type": "code",
   "execution_count": 26,
   "metadata": {
    "collapsed": false,
    "jupyter": {
     "outputs_hidden": false
    }
   },
   "outputs": [
    {
     "name": "stdout",
     "output_type": "stream",
     "text": [
      "4484\n",
      "4501\n"
     ]
    }
   ],
   "source": [
    "print(len(df_teams['PLAYER_ID'].unique()))\n",
    "print(len(nba_players))"
   ]
  },
  {
   "cell_type": "markdown",
   "metadata": {},
   "source": [
    "On remarque que les listes des joueurs de l'API et du module ne sont pas les mêmes."
   ]
  },
  {
   "cell_type": "code",
   "execution_count": 27,
   "metadata": {
    "collapsed": false,
    "jupyter": {
     "outputs_hidden": false
    }
   },
   "outputs": [
    {
     "data": {
      "text/html": [
       "<div>\n",
       "<style scoped>\n",
       "    .dataframe tbody tr th:only-of-type {\n",
       "        vertical-align: middle;\n",
       "    }\n",
       "\n",
       "    .dataframe tbody tr th {\n",
       "        vertical-align: top;\n",
       "    }\n",
       "\n",
       "    .dataframe thead th {\n",
       "        text-align: right;\n",
       "    }\n",
       "</style>\n",
       "<table border=\"1\" class=\"dataframe\">\n",
       "  <thead>\n",
       "    <tr style=\"text-align: right;\">\n",
       "      <th></th>\n",
       "      <th>id</th>\n",
       "      <th>NAME</th>\n",
       "    </tr>\n",
       "  </thead>\n",
       "  <tbody>\n",
       "    <tr>\n",
       "      <th>3170</th>\n",
       "      <td>1629341</td>\n",
       "      <td>Tarik Phillip</td>\n",
       "    </tr>\n",
       "    <tr>\n",
       "      <th>337</th>\n",
       "      <td>202392</td>\n",
       "      <td>Marqus Blakely</td>\n",
       "    </tr>\n",
       "    <tr>\n",
       "      <th>2878</th>\n",
       "      <td>1626122</td>\n",
       "      <td>Makhtar N'diaye</td>\n",
       "    </tr>\n",
       "  </tbody>\n",
       "</table>\n",
       "</div>"
      ],
      "text/plain": [
       "           id             NAME\n",
       "3170  1629341    Tarik Phillip\n",
       "337    202392   Marqus Blakely\n",
       "2878  1626122  Makhtar N'diaye"
      ]
     },
     "execution_count": 27,
     "metadata": {},
     "output_type": "execute_result"
    }
   ],
   "source": [
    "all_player = pd.DataFrame(nba_players.index)\n",
    "missing = players_id2name(all_player[~all_player['id'] \\\n",
    "                                     .isin(df_teams['PLAYER_ID'])], 'id')\n",
    "missing.sample(3)"
   ]
  },
  {
   "cell_type": "markdown",
   "metadata": {},
   "source": [
    "Après une recherche sur internet de certains joueurs on se rends compte que ce sont des joueurs qui n'ont joué aucun match en NBA de leur carrière donc on peut ne pas en tenir compte. À partir de maintenenant on ne concidère que les joueurs de l'API et non du module."
   ]
  },
  {
   "cell_type": "code",
   "execution_count": 28,
   "metadata": {
    "collapsed": false,
    "jupyter": {
     "outputs_hidden": false
    }
   },
   "outputs": [],
   "source": [
    "def all_season_data():\n",
    "    \n",
    "    df_teams = pd.read_csv('../data/players_data.csv')\n",
    "    \n",
    "    #On enlève les lignes TOT qui contabilise les statistiques \n",
    "    # lorsqu'un joueur a jouer dans plusieurs équipe une même année\n",
    "    df_teams = df_teams[~(df_teams['TEAM_ABBREVIATION'] == 'TOT')]\n",
    "    \n",
    "    df = pd.get_dummies(df_teams[['PLAYER_ID', 'SEASON_ID']], \n",
    "                        columns=['SEASON_ID'], prefix='', prefix_sep='')\n",
    "    \n",
    "    df_active=df.groupby('PLAYER_ID').sum()\n",
    "    \n",
    "    return(df_active.reset_index())"
   ]
  },
  {
   "cell_type": "code",
   "execution_count": 29,
   "metadata": {
    "collapsed": false,
    "jupyter": {
     "outputs_hidden": false
    }
   },
   "outputs": [
    {
     "data": {
      "text/html": [
       "<div>\n",
       "<style scoped>\n",
       "    .dataframe tbody tr th:only-of-type {\n",
       "        vertical-align: middle;\n",
       "    }\n",
       "\n",
       "    .dataframe tbody tr th {\n",
       "        vertical-align: top;\n",
       "    }\n",
       "\n",
       "    .dataframe thead th {\n",
       "        text-align: right;\n",
       "    }\n",
       "</style>\n",
       "<table border=\"1\" class=\"dataframe\">\n",
       "  <thead>\n",
       "    <tr style=\"text-align: right;\">\n",
       "      <th></th>\n",
       "      <th>PLAYER_ID</th>\n",
       "      <th>1946-47</th>\n",
       "      <th>1947-48</th>\n",
       "      <th>1948-49</th>\n",
       "      <th>1949-50</th>\n",
       "      <th>1950-51</th>\n",
       "      <th>1951-52</th>\n",
       "      <th>1952-53</th>\n",
       "      <th>1953-54</th>\n",
       "      <th>1954-55</th>\n",
       "      <th>1955-56</th>\n",
       "      <th>1956-57</th>\n",
       "      <th>1957-58</th>\n",
       "      <th>1958-59</th>\n",
       "      <th>1959-60</th>\n",
       "      <th>1960-61</th>\n",
       "      <th>1961-62</th>\n",
       "      <th>1962-63</th>\n",
       "      <th>1963-64</th>\n",
       "      <th>1964-65</th>\n",
       "      <th>1965-66</th>\n",
       "      <th>1966-67</th>\n",
       "      <th>1967-68</th>\n",
       "      <th>1968-69</th>\n",
       "      <th>1969-70</th>\n",
       "      <th>1970-71</th>\n",
       "      <th>1971-72</th>\n",
       "      <th>1972-73</th>\n",
       "      <th>1973-74</th>\n",
       "      <th>1974-75</th>\n",
       "      <th>1975-76</th>\n",
       "      <th>1976-77</th>\n",
       "      <th>1977-78</th>\n",
       "      <th>1978-79</th>\n",
       "      <th>1979-80</th>\n",
       "      <th>1980-81</th>\n",
       "      <th>1981-82</th>\n",
       "      <th>1982-83</th>\n",
       "      <th>1983-84</th>\n",
       "      <th>1984-85</th>\n",
       "      <th>1985-86</th>\n",
       "      <th>1986-87</th>\n",
       "      <th>1987-88</th>\n",
       "      <th>1988-89</th>\n",
       "      <th>1989-90</th>\n",
       "      <th>1990-91</th>\n",
       "      <th>1991-92</th>\n",
       "      <th>1992-93</th>\n",
       "      <th>1993-94</th>\n",
       "      <th>1994-95</th>\n",
       "      <th>1995-96</th>\n",
       "      <th>1996-97</th>\n",
       "      <th>1997-98</th>\n",
       "      <th>1998-99</th>\n",
       "      <th>1999-00</th>\n",
       "      <th>2000-01</th>\n",
       "      <th>2001-02</th>\n",
       "      <th>2002-03</th>\n",
       "      <th>2003-04</th>\n",
       "      <th>2004-05</th>\n",
       "      <th>2005-06</th>\n",
       "      <th>2006-07</th>\n",
       "      <th>2007-08</th>\n",
       "      <th>2008-09</th>\n",
       "      <th>2009-10</th>\n",
       "      <th>2010-11</th>\n",
       "      <th>2011-12</th>\n",
       "      <th>2012-13</th>\n",
       "      <th>2013-14</th>\n",
       "      <th>2014-15</th>\n",
       "      <th>2015-16</th>\n",
       "      <th>2016-17</th>\n",
       "      <th>2017-18</th>\n",
       "      <th>2018-19</th>\n",
       "      <th>2019-20</th>\n",
       "    </tr>\n",
       "  </thead>\n",
       "  <tbody>\n",
       "    <tr>\n",
       "      <th>3364</th>\n",
       "      <td>200762</td>\n",
       "      <td>0</td>\n",
       "      <td>0</td>\n",
       "      <td>0</td>\n",
       "      <td>0</td>\n",
       "      <td>0</td>\n",
       "      <td>0</td>\n",
       "      <td>0</td>\n",
       "      <td>0</td>\n",
       "      <td>0</td>\n",
       "      <td>0</td>\n",
       "      <td>0</td>\n",
       "      <td>0</td>\n",
       "      <td>0</td>\n",
       "      <td>0</td>\n",
       "      <td>0</td>\n",
       "      <td>0</td>\n",
       "      <td>0</td>\n",
       "      <td>0</td>\n",
       "      <td>0</td>\n",
       "      <td>0</td>\n",
       "      <td>0</td>\n",
       "      <td>0</td>\n",
       "      <td>0</td>\n",
       "      <td>0</td>\n",
       "      <td>0</td>\n",
       "      <td>0</td>\n",
       "      <td>0</td>\n",
       "      <td>0</td>\n",
       "      <td>0</td>\n",
       "      <td>0</td>\n",
       "      <td>0</td>\n",
       "      <td>0</td>\n",
       "      <td>0</td>\n",
       "      <td>0</td>\n",
       "      <td>0</td>\n",
       "      <td>0</td>\n",
       "      <td>0</td>\n",
       "      <td>0</td>\n",
       "      <td>0</td>\n",
       "      <td>0</td>\n",
       "      <td>0</td>\n",
       "      <td>0</td>\n",
       "      <td>0</td>\n",
       "      <td>0</td>\n",
       "      <td>0</td>\n",
       "      <td>0</td>\n",
       "      <td>0</td>\n",
       "      <td>0</td>\n",
       "      <td>0</td>\n",
       "      <td>0</td>\n",
       "      <td>0</td>\n",
       "      <td>0</td>\n",
       "      <td>0</td>\n",
       "      <td>0</td>\n",
       "      <td>0</td>\n",
       "      <td>0</td>\n",
       "      <td>0</td>\n",
       "      <td>0</td>\n",
       "      <td>0</td>\n",
       "      <td>0</td>\n",
       "      <td>0</td>\n",
       "      <td>1</td>\n",
       "      <td>1</td>\n",
       "      <td>1</td>\n",
       "      <td>0</td>\n",
       "      <td>0</td>\n",
       "      <td>0</td>\n",
       "      <td>0</td>\n",
       "      <td>0</td>\n",
       "      <td>0</td>\n",
       "      <td>0</td>\n",
       "      <td>0</td>\n",
       "      <td>0</td>\n",
       "      <td>0</td>\n",
       "    </tr>\n",
       "    <tr>\n",
       "      <th>3256</th>\n",
       "      <td>101106</td>\n",
       "      <td>0</td>\n",
       "      <td>0</td>\n",
       "      <td>0</td>\n",
       "      <td>0</td>\n",
       "      <td>0</td>\n",
       "      <td>0</td>\n",
       "      <td>0</td>\n",
       "      <td>0</td>\n",
       "      <td>0</td>\n",
       "      <td>0</td>\n",
       "      <td>0</td>\n",
       "      <td>0</td>\n",
       "      <td>0</td>\n",
       "      <td>0</td>\n",
       "      <td>0</td>\n",
       "      <td>0</td>\n",
       "      <td>0</td>\n",
       "      <td>0</td>\n",
       "      <td>0</td>\n",
       "      <td>0</td>\n",
       "      <td>0</td>\n",
       "      <td>0</td>\n",
       "      <td>0</td>\n",
       "      <td>0</td>\n",
       "      <td>0</td>\n",
       "      <td>0</td>\n",
       "      <td>0</td>\n",
       "      <td>0</td>\n",
       "      <td>0</td>\n",
       "      <td>0</td>\n",
       "      <td>0</td>\n",
       "      <td>0</td>\n",
       "      <td>0</td>\n",
       "      <td>0</td>\n",
       "      <td>0</td>\n",
       "      <td>0</td>\n",
       "      <td>0</td>\n",
       "      <td>0</td>\n",
       "      <td>0</td>\n",
       "      <td>0</td>\n",
       "      <td>0</td>\n",
       "      <td>0</td>\n",
       "      <td>0</td>\n",
       "      <td>0</td>\n",
       "      <td>0</td>\n",
       "      <td>0</td>\n",
       "      <td>0</td>\n",
       "      <td>0</td>\n",
       "      <td>0</td>\n",
       "      <td>0</td>\n",
       "      <td>0</td>\n",
       "      <td>0</td>\n",
       "      <td>0</td>\n",
       "      <td>0</td>\n",
       "      <td>0</td>\n",
       "      <td>0</td>\n",
       "      <td>0</td>\n",
       "      <td>0</td>\n",
       "      <td>0</td>\n",
       "      <td>1</td>\n",
       "      <td>1</td>\n",
       "      <td>1</td>\n",
       "      <td>1</td>\n",
       "      <td>1</td>\n",
       "      <td>1</td>\n",
       "      <td>1</td>\n",
       "      <td>1</td>\n",
       "      <td>1</td>\n",
       "      <td>1</td>\n",
       "      <td>1</td>\n",
       "      <td>2</td>\n",
       "      <td>1</td>\n",
       "      <td>1</td>\n",
       "      <td>0</td>\n",
       "    </tr>\n",
       "    <tr>\n",
       "      <th>519</th>\n",
       "      <td>1120</td>\n",
       "      <td>0</td>\n",
       "      <td>0</td>\n",
       "      <td>0</td>\n",
       "      <td>0</td>\n",
       "      <td>0</td>\n",
       "      <td>0</td>\n",
       "      <td>0</td>\n",
       "      <td>0</td>\n",
       "      <td>0</td>\n",
       "      <td>0</td>\n",
       "      <td>0</td>\n",
       "      <td>0</td>\n",
       "      <td>0</td>\n",
       "      <td>0</td>\n",
       "      <td>0</td>\n",
       "      <td>0</td>\n",
       "      <td>0</td>\n",
       "      <td>0</td>\n",
       "      <td>0</td>\n",
       "      <td>0</td>\n",
       "      <td>0</td>\n",
       "      <td>0</td>\n",
       "      <td>0</td>\n",
       "      <td>0</td>\n",
       "      <td>0</td>\n",
       "      <td>0</td>\n",
       "      <td>0</td>\n",
       "      <td>0</td>\n",
       "      <td>0</td>\n",
       "      <td>0</td>\n",
       "      <td>0</td>\n",
       "      <td>0</td>\n",
       "      <td>0</td>\n",
       "      <td>0</td>\n",
       "      <td>0</td>\n",
       "      <td>0</td>\n",
       "      <td>0</td>\n",
       "      <td>0</td>\n",
       "      <td>0</td>\n",
       "      <td>0</td>\n",
       "      <td>0</td>\n",
       "      <td>0</td>\n",
       "      <td>0</td>\n",
       "      <td>0</td>\n",
       "      <td>0</td>\n",
       "      <td>0</td>\n",
       "      <td>0</td>\n",
       "      <td>0</td>\n",
       "      <td>1</td>\n",
       "      <td>1</td>\n",
       "      <td>2</td>\n",
       "      <td>0</td>\n",
       "      <td>0</td>\n",
       "      <td>0</td>\n",
       "      <td>0</td>\n",
       "      <td>0</td>\n",
       "      <td>0</td>\n",
       "      <td>0</td>\n",
       "      <td>0</td>\n",
       "      <td>0</td>\n",
       "      <td>0</td>\n",
       "      <td>0</td>\n",
       "      <td>0</td>\n",
       "      <td>0</td>\n",
       "      <td>0</td>\n",
       "      <td>0</td>\n",
       "      <td>0</td>\n",
       "      <td>0</td>\n",
       "      <td>0</td>\n",
       "      <td>0</td>\n",
       "      <td>0</td>\n",
       "      <td>0</td>\n",
       "      <td>0</td>\n",
       "      <td>0</td>\n",
       "    </tr>\n",
       "  </tbody>\n",
       "</table>\n",
       "</div>"
      ],
      "text/plain": [
       "      PLAYER_ID  1946-47  1947-48  1948-49  1949-50  1950-51  1951-52  \\\n",
       "3364     200762        0        0        0        0        0        0   \n",
       "3256     101106        0        0        0        0        0        0   \n",
       "519        1120        0        0        0        0        0        0   \n",
       "\n",
       "      1952-53  1953-54  1954-55  1955-56  1956-57  1957-58  1958-59  1959-60  \\\n",
       "3364        0        0        0        0        0        0        0        0   \n",
       "3256        0        0        0        0        0        0        0        0   \n",
       "519         0        0        0        0        0        0        0        0   \n",
       "\n",
       "      1960-61  1961-62  1962-63  1963-64  1964-65  1965-66  1966-67  1967-68  \\\n",
       "3364        0        0        0        0        0        0        0        0   \n",
       "3256        0        0        0        0        0        0        0        0   \n",
       "519         0        0        0        0        0        0        0        0   \n",
       "\n",
       "      1968-69  1969-70  1970-71  1971-72  1972-73  1973-74  1974-75  1975-76  \\\n",
       "3364        0        0        0        0        0        0        0        0   \n",
       "3256        0        0        0        0        0        0        0        0   \n",
       "519         0        0        0        0        0        0        0        0   \n",
       "\n",
       "      1976-77  1977-78  1978-79  1979-80  1980-81  1981-82  1982-83  1983-84  \\\n",
       "3364        0        0        0        0        0        0        0        0   \n",
       "3256        0        0        0        0        0        0        0        0   \n",
       "519         0        0        0        0        0        0        0        0   \n",
       "\n",
       "      1984-85  1985-86  1986-87  1987-88  1988-89  1989-90  1990-91  1991-92  \\\n",
       "3364        0        0        0        0        0        0        0        0   \n",
       "3256        0        0        0        0        0        0        0        0   \n",
       "519         0        0        0        0        0        0        0        0   \n",
       "\n",
       "      1992-93  1993-94  1994-95  1995-96  1996-97  1997-98  1998-99  1999-00  \\\n",
       "3364        0        0        0        0        0        0        0        0   \n",
       "3256        0        0        0        0        0        0        0        0   \n",
       "519         0        0        1        1        2        0        0        0   \n",
       "\n",
       "      2000-01  2001-02  2002-03  2003-04  2004-05  2005-06  2006-07  2007-08  \\\n",
       "3364        0        0        0        0        0        0        0        1   \n",
       "3256        0        0        0        0        0        1        1        1   \n",
       "519         0        0        0        0        0        0        0        0   \n",
       "\n",
       "      2008-09  2009-10  2010-11  2011-12  2012-13  2013-14  2014-15  2015-16  \\\n",
       "3364        1        1        0        0        0        0        0        0   \n",
       "3256        1        1        1        1        1        1        1        1   \n",
       "519         0        0        0        0        0        0        0        0   \n",
       "\n",
       "      2016-17  2017-18  2018-19  2019-20  \n",
       "3364        0        0        0        0  \n",
       "3256        2        1        1        0  \n",
       "519         0        0        0        0  "
      ]
     },
     "execution_count": 29,
     "metadata": {},
     "output_type": "execute_result"
    }
   ],
   "source": [
    "# Cette 'matrice' est ce que l'on appelle 'spase' ou creuse donc pour la garder en mémoire on peut utiliser un type d'encodage mais ici on ne s'embète pas.\n",
    "all_season_data().sample(3)"
   ]
  },
  {
   "cell_type": "code",
   "execution_count": 30,
   "metadata": {
    "collapsed": false,
    "jupyter": {
     "outputs_hidden": false
    }
   },
   "outputs": [],
   "source": [
    "def active_players(season):\n",
    "    '''\n",
    "    Retourne une liste des PLAYER_ID des joueurs qui ont joué \n",
    "    durant la saison [season]-[season+1]\n",
    "    '''\n",
    "    \n",
    "    df_season = all_season_data()\n",
    "    return(df_season[df_season[season_id(season)] > 0].PLAYER_ID.values)"
   ]
  },
  {
   "cell_type": "code",
   "execution_count": 31,
   "metadata": {
    "collapsed": false,
    "jupyter": {
     "outputs_hidden": false
    }
   },
   "outputs": [
    {
     "data": {
      "text/plain": [
       "array([1713, 2037, 2199])"
      ]
     },
     "execution_count": 31,
     "metadata": {},
     "output_type": "execute_result"
    }
   ],
   "source": [
    "active_players(2019)[:3]"
   ]
  },
  {
   "cell_type": "markdown",
   "metadata": {},
   "source": [
    "Maintenant que l'on a les joueurs qui ont joué on va récupéré toutes les informations sur leurs stats. "
   ]
  },
  {
   "cell_type": "code",
   "execution_count": 32,
   "metadata": {
    "collapsed": false,
    "jupyter": {
     "outputs_hidden": false
    }
   },
   "outputs": [],
   "source": [
    "def score_df(stats):\n",
    "    '''\n",
    "    Mets en forme et calcul le score de la base de donnée que l'on récupère \n",
    "    par le endpoint PlayerGameLog\n",
    "    '''\n",
    "    \n",
    "    stats = stats.assign(GAME_DATE=pd.to_datetime(stats['GAME_DATE']),\n",
    "                         TEAM=lambda df: df['MATCHUP'].str[:3],\n",
    "                         ADV=lambda df: df['MATCHUP'].str[-3:],\n",
    "                         HOME=lambda df: ~df['MATCHUP'].str.contains('@'),\n",
    "                         FGF=lambda df: df['FGA'] - df['FGM'],\n",
    "                         FG3F=lambda df: df['FG3A'] - df['FG3M'],\n",
    "                         FTF=lambda df: df['FTA'] - df['FTM'])\n",
    "    \n",
    "    bonus = ['PTS', 'REB', 'AST', 'STL', 'BLK', 'FGM', 'FTM', 'FG3M']\n",
    "    malus = ['TOV', 'FGF', 'FG3F', 'FTF']\n",
    "\n",
    "    cols = stats.columns.tolist()\n",
    "    stats = stats[cols[:4] + cols[-6:-3] + bonus + malus]\n",
    "    \n",
    "    stats = stats.assign(BONUS=lambda df: df[bonus].sum(axis=1).astype('int'),\n",
    "                         MALUS=lambda df: df[malus].sum(axis=1).astype('int'),\n",
    "                         SCORE=lambda df: df['BONUS'] - df['MALUS'])\n",
    "    \n",
    "    #Cohérence des noms de colones\n",
    "    stats.rename(columns={'Player_ID': 'PLAYER_ID', 'Game_ID': 'GAME_ID'}, \n",
    "                 inplace=True)\n",
    "\n",
    "    return(stats)"
   ]
  },
  {
   "cell_type": "code",
   "execution_count": 33,
   "metadata": {
    "collapsed": false,
    "jupyter": {
     "outputs_hidden": false
    }
   },
   "outputs": [],
   "source": [
    "def get_data_box(season):\n",
    "    '''\n",
    "    Récupère les box score de tous les matchs de tous les joueurs\n",
    "    qui ont joué pendant la saison\n",
    "    ''' \n",
    "    \n",
    "    df = pd.DataFrame()\n",
    "    id_actives = active_players(season)\n",
    "\n",
    "    time = len(id_actives)*0.7\n",
    "    print(f'Cela va prendre environ : {datetime.timedelta(seconds=time)}')\n",
    "    for i in range(len(id_actives)):\n",
    "        print(f'\\r{i+1}/{len(id_actives)}', end='')\n",
    "        \n",
    "        df = df.append(boxscore_saison(id_actives[i], season))\n",
    "        time.sleep(0.5)\n",
    "        \n",
    "    df.to_csv(f'../data/boxscore_{season}.csv', index=False)"
   ]
  },
  {
   "cell_type": "code",
   "execution_count": 34,
   "metadata": {
    "collapsed": false,
    "jupyter": {
     "outputs_hidden": false
    }
   },
   "outputs": [],
   "source": [
    "#get_data_box(2019)"
   ]
  },
  {
   "cell_type": "code",
   "execution_count": 35,
   "metadata": {
    "collapsed": false,
    "jupyter": {
     "outputs_hidden": false
    }
   },
   "outputs": [
    {
     "data": {
      "text/html": [
       "<div>\n",
       "<style scoped>\n",
       "    .dataframe tbody tr th:only-of-type {\n",
       "        vertical-align: middle;\n",
       "    }\n",
       "\n",
       "    .dataframe tbody tr th {\n",
       "        vertical-align: top;\n",
       "    }\n",
       "\n",
       "    .dataframe thead th {\n",
       "        text-align: right;\n",
       "    }\n",
       "</style>\n",
       "<table border=\"1\" class=\"dataframe\">\n",
       "  <thead>\n",
       "    <tr style=\"text-align: right;\">\n",
       "      <th></th>\n",
       "      <th>SEASON_ID</th>\n",
       "      <th>PLAYER_ID</th>\n",
       "      <th>GAME_ID</th>\n",
       "      <th>GAME_DATE</th>\n",
       "      <th>TEAM</th>\n",
       "      <th>ADV</th>\n",
       "      <th>HOME</th>\n",
       "      <th>PTS</th>\n",
       "      <th>REB</th>\n",
       "      <th>AST</th>\n",
       "      <th>STL</th>\n",
       "      <th>BLK</th>\n",
       "      <th>FGM</th>\n",
       "      <th>FTM</th>\n",
       "      <th>FG3M</th>\n",
       "      <th>TOV</th>\n",
       "      <th>FGF</th>\n",
       "      <th>FG3F</th>\n",
       "      <th>FTF</th>\n",
       "      <th>BONUS</th>\n",
       "      <th>MALUS</th>\n",
       "      <th>SCORE</th>\n",
       "    </tr>\n",
       "  </thead>\n",
       "  <tbody>\n",
       "    <tr>\n",
       "      <th>17248</th>\n",
       "      <td>22019</td>\n",
       "      <td>1628410</td>\n",
       "      <td>21900030</td>\n",
       "      <td>2019-10-26</td>\n",
       "      <td>IND</td>\n",
       "      <td>CLE</td>\n",
       "      <td>False</td>\n",
       "      <td>10</td>\n",
       "      <td>1</td>\n",
       "      <td>1</td>\n",
       "      <td>0</td>\n",
       "      <td>0</td>\n",
       "      <td>4</td>\n",
       "      <td>2</td>\n",
       "      <td>0</td>\n",
       "      <td>0</td>\n",
       "      <td>1</td>\n",
       "      <td>1</td>\n",
       "      <td>1</td>\n",
       "      <td>18</td>\n",
       "      <td>3</td>\n",
       "      <td>15</td>\n",
       "    </tr>\n",
       "    <tr>\n",
       "      <th>20311</th>\n",
       "      <td>22019</td>\n",
       "      <td>1629022</td>\n",
       "      <td>21900767</td>\n",
       "      <td>2020-02-06</td>\n",
       "      <td>SAS</td>\n",
       "      <td>POR</td>\n",
       "      <td>False</td>\n",
       "      <td>2</td>\n",
       "      <td>1</td>\n",
       "      <td>0</td>\n",
       "      <td>0</td>\n",
       "      <td>1</td>\n",
       "      <td>1</td>\n",
       "      <td>0</td>\n",
       "      <td>0</td>\n",
       "      <td>0</td>\n",
       "      <td>2</td>\n",
       "      <td>1</td>\n",
       "      <td>0</td>\n",
       "      <td>5</td>\n",
       "      <td>3</td>\n",
       "      <td>2</td>\n",
       "    </tr>\n",
       "    <tr>\n",
       "      <th>14986</th>\n",
       "      <td>22019</td>\n",
       "      <td>1627853</td>\n",
       "      <td>21900647</td>\n",
       "      <td>2020-01-20</td>\n",
       "      <td>CHI</td>\n",
       "      <td>MIL</td>\n",
       "      <td>False</td>\n",
       "      <td>4</td>\n",
       "      <td>0</td>\n",
       "      <td>1</td>\n",
       "      <td>1</td>\n",
       "      <td>0</td>\n",
       "      <td>2</td>\n",
       "      <td>0</td>\n",
       "      <td>0</td>\n",
       "      <td>1</td>\n",
       "      <td>3</td>\n",
       "      <td>3</td>\n",
       "      <td>0</td>\n",
       "      <td>8</td>\n",
       "      <td>7</td>\n",
       "      <td>1</td>\n",
       "    </tr>\n",
       "  </tbody>\n",
       "</table>\n",
       "</div>"
      ],
      "text/plain": [
       "       SEASON_ID  PLAYER_ID   GAME_ID  GAME_DATE TEAM  ADV   HOME  PTS  REB  \\\n",
       "17248      22019    1628410  21900030 2019-10-26  IND  CLE  False   10    1   \n",
       "20311      22019    1629022  21900767 2020-02-06  SAS  POR  False    2    1   \n",
       "14986      22019    1627853  21900647 2020-01-20  CHI  MIL  False    4    0   \n",
       "\n",
       "       AST  STL  BLK  FGM  FTM  FG3M  TOV  FGF  FG3F  FTF  BONUS  MALUS  SCORE  \n",
       "17248    1    0    0    4    2     0    0    1     1    1     18      3     15  \n",
       "20311    0    0    1    1    0     0    0    2     1    0      5      3      2  \n",
       "14986    1    1    0    2    0     0    1    3     3    0      8      7      1  "
      ]
     },
     "execution_count": 35,
     "metadata": {},
     "output_type": "execute_result"
    }
   ],
   "source": [
    "score_df(pd.read_csv('../data/boxscore_2019.csv')).sample(3)"
   ]
  },
  {
   "cell_type": "markdown",
   "metadata": {},
   "source": [
    "## 4 - Analyses Statistiques\n",
    "\n",
    "Maintenant que nous avons toutes les données que nous voulons, nous allons explorer les différentes variables pour comprendre certaines relations simple. Mettons nous dans la peau d'un joueur de TTFL sans la restriction des trentes jours et pouvant parier sur tous les joueurs."
   ]
  },
  {
   "cell_type": "code",
   "execution_count": 36,
   "metadata": {
    "collapsed": false,
    "jupyter": {
     "outputs_hidden": false
    }
   },
   "outputs": [],
   "source": [
    "SEASON=2019"
   ]
  },
  {
   "cell_type": "code",
   "execution_count": 37,
   "metadata": {
    "collapsed": false,
    "jupyter": {
     "outputs_hidden": false
    }
   },
   "outputs": [],
   "source": [
    "df = players_id2name(score_df(pd.read_csv(f'../data/boxscore_{SEASON}.csv')))"
   ]
  },
  {
   "cell_type": "markdown",
   "metadata": {},
   "source": [
    "#### Moyenne des points sur la saison"
   ]
  },
  {
   "cell_type": "code",
   "execution_count": 38,
   "metadata": {
    "collapsed": false,
    "jupyter": {
     "outputs_hidden": false
    }
   },
   "outputs": [
    {
     "data": {
      "text/html": [
       "<div>\n",
       "<style scoped>\n",
       "    .dataframe tbody tr th:only-of-type {\n",
       "        vertical-align: middle;\n",
       "    }\n",
       "\n",
       "    .dataframe tbody tr th {\n",
       "        vertical-align: top;\n",
       "    }\n",
       "\n",
       "    .dataframe thead th {\n",
       "        text-align: right;\n",
       "    }\n",
       "</style>\n",
       "<table border=\"1\" class=\"dataframe\">\n",
       "  <thead>\n",
       "    <tr style=\"text-align: right;\">\n",
       "      <th></th>\n",
       "      <th>NAME</th>\n",
       "      <th>SCORE</th>\n",
       "    </tr>\n",
       "  </thead>\n",
       "  <tbody>\n",
       "    <tr>\n",
       "      <th>0</th>\n",
       "      <td>Giannis Antetokounmpo</td>\n",
       "      <td>49.513889</td>\n",
       "    </tr>\n",
       "    <tr>\n",
       "      <th>1</th>\n",
       "      <td>James Harden</td>\n",
       "      <td>48.337500</td>\n",
       "    </tr>\n",
       "    <tr>\n",
       "      <th>2</th>\n",
       "      <td>Anthony Davis</td>\n",
       "      <td>45.638554</td>\n",
       "    </tr>\n",
       "    <tr>\n",
       "      <th>3</th>\n",
       "      <td>Luka Doncic</td>\n",
       "      <td>44.298507</td>\n",
       "    </tr>\n",
       "  </tbody>\n",
       "</table>\n",
       "</div>"
      ],
      "text/plain": [
       "                    NAME      SCORE\n",
       "0  Giannis Antetokounmpo  49.513889\n",
       "1           James Harden  48.337500\n",
       "2          Anthony Davis  45.638554\n",
       "3            Luka Doncic  44.298507"
      ]
     },
     "execution_count": 38,
     "metadata": {},
     "output_type": "execute_result"
    }
   ],
   "source": [
    "top_score = df.groupby('NAME')['SCORE'].mean() \\\n",
    "                                        .sort_values(ascending=False) \\\n",
    "                                        .to_frame().reset_index().head(4)\n",
    "top_score"
   ]
  },
  {
   "cell_type": "markdown",
   "metadata": {},
   "source": [
    "Pour ces cinq joueurs regardons si l'équipe contre qui le joueur joue influence son score. "
   ]
  },
  {
   "cell_type": "code",
   "execution_count": 39,
   "metadata": {
    "collapsed": false,
    "jupyter": {
     "outputs_hidden": false
    }
   },
   "outputs": [
    {
     "data": {
      "text/html": [
       "<div>\n",
       "<style scoped>\n",
       "    .dataframe tbody tr th:only-of-type {\n",
       "        vertical-align: middle;\n",
       "    }\n",
       "\n",
       "    .dataframe tbody tr th {\n",
       "        vertical-align: top;\n",
       "    }\n",
       "\n",
       "    .dataframe thead tr th {\n",
       "        text-align: left;\n",
       "    }\n",
       "\n",
       "    .dataframe thead tr:last-of-type th {\n",
       "        text-align: right;\n",
       "    }\n",
       "</style>\n",
       "<table border=\"1\" class=\"dataframe\">\n",
       "  <thead>\n",
       "    <tr>\n",
       "      <th></th>\n",
       "      <th colspan=\"4\" halign=\"left\">SCORE</th>\n",
       "    </tr>\n",
       "    <tr>\n",
       "      <th>NAME</th>\n",
       "      <th>Anthony Davis</th>\n",
       "      <th>Giannis Antetokounmpo</th>\n",
       "      <th>James Harden</th>\n",
       "      <th>Luka Doncic</th>\n",
       "    </tr>\n",
       "    <tr>\n",
       "      <th>ADV</th>\n",
       "      <th></th>\n",
       "      <th></th>\n",
       "      <th></th>\n",
       "      <th></th>\n",
       "    </tr>\n",
       "  </thead>\n",
       "  <tbody>\n",
       "    <tr>\n",
       "      <th>ATL</th>\n",
       "      <td>27.5</td>\n",
       "      <td>45.0</td>\n",
       "      <td>71.000000</td>\n",
       "      <td>NaN</td>\n",
       "    </tr>\n",
       "    <tr>\n",
       "      <th>LAC</th>\n",
       "      <td>43.0</td>\n",
       "      <td>57.0</td>\n",
       "      <td>47.000000</td>\n",
       "      <td>43.888889</td>\n",
       "    </tr>\n",
       "    <tr>\n",
       "      <th>SAC</th>\n",
       "      <td>34.0</td>\n",
       "      <td>25.0</td>\n",
       "      <td>45.333333</td>\n",
       "      <td>51.000000</td>\n",
       "    </tr>\n",
       "  </tbody>\n",
       "</table>\n",
       "</div>"
      ],
      "text/plain": [
       "             SCORE                                               \n",
       "NAME Anthony Davis Giannis Antetokounmpo James Harden Luka Doncic\n",
       "ADV                                                              \n",
       "ATL           27.5                  45.0    71.000000         NaN\n",
       "LAC           43.0                  57.0    47.000000   43.888889\n",
       "SAC           34.0                  25.0    45.333333   51.000000"
      ]
     },
     "execution_count": 39,
     "metadata": {},
     "output_type": "execute_result"
    }
   ],
   "source": [
    "top_score_vs_teams = df[df.NAME.isin(top_score.NAME)] \\\n",
    "                        .groupby(['ADV', 'NAME'])['SCORE'] \\\n",
    "                        .mean().to_frame().unstack()\n",
    "top_score_vs_teams.sample(3)"
   ]
  },
  {
   "cell_type": "code",
   "execution_count": 40,
   "metadata": {
    "collapsed": false,
    "jupyter": {
     "outputs_hidden": false
    }
   },
   "outputs": [
    {
     "data": {
      "image/png": "[encoded data removed]",
      "text/plain": [
       "<Figure size 1440x360 with 4 Axes>"
      ]
     },
     "metadata": {
      "needs_background": "light"
     },
     "output_type": "display_data"
    }
   ],
   "source": [
    "top_score_vs_teams.plot(kind='bar', subplots=True, figsize=(20,5), \n",
    "                        sharex=False, layout=(2,2), legend=False)\n",
    "\n",
    "plt.subplots_adjust(hspace=0.8)\n",
    "plt.show()"
   ]
  },
  {
   "cell_type": "markdown",
   "metadata": {},
   "source": [
    "On remarque une vraie variation du score en fonction de l'adversaire qui plus au moins prononcée en fonction du joueur. Par exemple, Giannis est un joueur plutôt stable sauf contre des équipes comme Sacramento ou Broklyn. Alors que Anthony lui a clairement une équipe contre qui il excèle, Milwaukee. Juste pour un peu mieux comprendre classons les équipes par leur position dans la ligue."
   ]
  },
  {
   "cell_type": "code",
   "execution_count": 41,
   "metadata": {
    "collapsed": false,
    "jupyter": {
     "outputs_hidden": false
    }
   },
   "outputs": [],
   "source": [
    "sorter = teamsStandings(SEASON)\n",
    "top_score_vs_teams = top_score_vs_teams.reindex(list(reversed(sorter)))"
   ]
  },
  {
   "cell_type": "code",
   "execution_count": 42,
   "metadata": {
    "collapsed": false,
    "jupyter": {
     "outputs_hidden": false
    }
   },
   "outputs": [
    {
     "data": {
      "image/png": "[encoded data removed]",
      "text/plain": [
       "<Figure size 1440x360 with 4 Axes>"
      ]
     },
     "metadata": {
      "needs_background": "light"
     },
     "output_type": "display_data"
    }
   ],
   "source": [
    "top_score_vs_teams.plot(kind='bar', subplots=True, figsize=(20,5), \n",
    "                        sharex=False, layout=(2,2), legend=False)\n",
    "\n",
    "plt.subplots_adjust(hspace=0.8)\n",
    "plt.show()"
   ]
  },
  {
   "cell_type": "markdown",
   "metadata": {},
   "source": [
    "On voit ici que le classement de l'équipe contre qui un joueur joue n'infulence pas le score moyen contre cette équipe. Pour en être sûr faisons un test d'indépendance entre le classement de l'équipe et le score du joueur. Pour la suite nous ne prendrons que les 90 meilleurs joueurs en terme de moyenne de score pour ne pas avoir tous les remplacants qui faussent les données avec un grand nombre de NaN. \n",
    "\n",
    "**/!\\ JE NE VOIS PAS COMMENT FAIRE /!\\**"
   ]
  },
  {
   "cell_type": "markdown",
   "metadata": {
    "jupyter": {
     "outputs_hidden": false
    }
   },
   "source": [
    "## Inventaire des données\n",
    "\n",
    "Après la réunion avec Selim, il nous a donné une marche à suivre très précise qui est détaillé dans le fichier [Rapport](../rapports/Rapport_2411.md). La première étape est de faire un inventaire des variables et de créer une base de donnée les contenants tous. Il faut bien garder en tête que les différents modèles ne verront que ligne par ligne.\n",
    "\n",
    "\n",
    "### Variables qualitatives\n",
    "\n",
    "   Nom de la variable    | Abréviation\n",
    "   ----------------------|:-----------:\n",
    "   Identifiant du joueur |  PLAYER_ID\n",
    "   Équipe du joueur      |    TEAM\n",
    "   Équipe adverse        |     ADV\n",
    "   Domicile / Exterieur  |    HOME\n",
    "   Adversaire directe    |   ADV_ID\n",
    " \n",
    "### Variables quantitiatives\n",
    "\n",
    "#### Variables scores positives\n",
    "\n",
    "   Nom de la variable               | Abréviation \n",
    "   ---------------------------------|:-----------:\n",
    "   Nombre de points                 |     PTS    \n",
    "   Nombre de rebonds                |     REB\n",
    "   Nombre de passes décisives       |     AST\n",
    "   Nombre de récupération de balle  |     STL\n",
    "   Nombre de block                  |     BLK\n",
    "   Nombre de shoot réussi           |     FGM\n",
    "   Nombre de lancer franc réussi    |     FTM\n",
    "   Nombre de tire à 3 points réussi |     FG3M\n",
    "\n",
    "#### Variables scores négatives\n",
    "\n",
    "   Nom de la variable                | Abréviation \n",
    "   ----------------------------------|:-----------:\n",
    "   Nombre de perte de balle          |     TOV\n",
    "   Nombre de tire raté               |     FGF\n",
    "   Nombre de lancer franc raté       |     FTF\n",
    "   Nombre de tire à 3 points de raté |     FG3F\n",
    "\n",
    "#### Variables de scores globales\n",
    "\n",
    "   Nom de la variable            | Abréviation\n",
    "   ------------------------------|:-----------:\n",
    "   Somme des variables positives |    BONUS\n",
    "   Somme des variables négatives |    MALUS\n",
    "   Score du joueur               |    SCORE   \n",
    "   \n",
    "#### Variables utilisables   \n",
    "   \n",
    "Toutes les variables ci-dessus ne sont pas accécible pour le temps $t$ donc nous utilisons ces variables :\n",
    "   \n",
    "   Nom de la variable                                  |      Abréviation\n",
    "   ----------------------------------------------------|:--------------------:\n",
    "   Moyenne des n derniers matchs                       |   AVG_[ABREVIATION]\n",
    "   Moyenne des n derniers matchs contre l'équipe [ADV] | AVG_ADV_[ABREVIATION]\n",
    "     \n",
    "### Variables temporelles\n",
    "\n",
    "   Nom de la variable | Abréviation\n",
    "   -------------------|:-----------:\n",
    "   Date du match      |  GAME_DATE\n",
    "   \n",
    "## Hyperparamètres\n",
    "\n",
    "   Nom du paramètre                                      | Abréviation\n",
    "   ------------------------------------------------------|:-----------:\n",
    "   Le nombre de match que l'on retient pour les moyennes |      n\n",
    " \n"
   ]
  },
  {
   "cell_type": "code",
   "execution_count": 50,
   "metadata": {},
   "outputs": [],
   "source": [
    "# La liste des variables dont on va récupperer les moyennes\n",
    "list_var_avrg = ['PTS', 'REB', 'AST', 'STL', 'BLK', 'FGM', 'FTM', 'FG3M',\n",
    "                 'TOV', 'FGF', 'FG3F', 'FTF',\n",
    "                 'BONUS', 'MALUS', 'SCORE']\n",
    "\n",
    "def avg_n_games(df):\n",
    "    average = pd.Series(dtype='float64')\n",
    "    print(average)"
   ]
  },
  {
   "cell_type": "code",
   "execution_count": 51,
   "metadata": {},
   "outputs": [
    {
     "name": "stdout",
     "output_type": "stream",
     "text": [
      "Series([], dtype: float64)\n"
     ]
    }
   ],
   "source": [
    "avg_n_games(1)"
   ]
  },
  {
   "cell_type": "code",
   "execution_count": null,
   "metadata": {},
   "outputs": [],
   "source": []
  }
 ],
 "metadata": {
  "kernelspec": {
   "display_name": "Python 3",
   "language": "python",
   "name": "python3"
  },
  "language_info": {
   "codemirror_mode": {
    "name": "ipython",
    "version": 3
   },
   "file_extension": ".py",
   "mimetype": "text/x-python",
   "name": "python",
   "nbconvert_exporter": "python",
   "pygments_lexer": "ipython3",
   "version": "3.9.0"
  },
  "name": "BaseDonnees.ipynb"
 },
 "nbformat": 4,
 "nbformat_minor": 4
}
