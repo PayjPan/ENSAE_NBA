{
 "cells": [
  {
   "cell_type": "markdown",
   "metadata": {},
   "source": [
    "# Exploration des données\n",
    "\n",
    "Une première approche pour comprendre les données que l'on a."
   ]
  },
  {
   "cell_type": "markdown",
   "metadata": {},
   "source": [
    "## 1 - Documentation\n",
    "\n",
    "L'API `nba_api` a une très bonne documentation sur les différents *endpoints* et sur les variables que l'on peut utilisé.\n",
    "\n",
    "### Tous les *endpoints*\n",
    "\n",
    "<table><tr></tr><tr><td>boxscoreadvancedv2</td><td>boxscorefourfactorsv2</td><td>boxscoremiscv2</td><td>boxscoreplayertrackv2</td></tr><tr><td>boxscorescoringv2</td><td>boxscoresummaryv2</td><td>boxscoretraditionalv2</td><td>boxscoreusagev2</td></tr><tr><td>commonallplayers</td><td>commonplayerinfo</td><td>commonplayoffseries</td><td>commonteamroster</td></tr><tr><td>commonteamyears</td><td>defensehub</td><td>draftcombinedrillresults</td><td>draftcombinenonstationaryshooting</td></tr><tr><td>draftcombineplayeranthro</td><td>draftcombinespotshooting</td><td>draftcombinestats</td><td>drafthistory</td></tr><tr><td>franchisehistory</td><td>homepageleaders</td><td>homepagev2</td><td>infographicfanduelplayer</td></tr><tr><td>leaderstiles</td><td>leaguedashlineups</td><td>leaguedashplayerbiostats</td><td>leaguedashplayerclutch</td></tr><tr><td>leaguedashplayerptshot</td><td>leaguedashplayershotlocations</td><td>leaguedashplayerstats</td><td>leaguedashptdefend</td></tr><tr><td>leaguedashptstats</td><td>leaguedashptteamdefend</td><td>leaguedashteamclutch</td><td>leaguedashteamptshot</td></tr><tr><td>leaguedashteamshotlocations</td><td>leaguedashteamstats</td><td>leaguegamefinder</td><td>leaguegamelog</td></tr><tr><td>leagueleaders</td><td>leaguestandings</td><td>playbyplay</td><td>playbyplayv2</td></tr><tr><td>playerawards</td><td>playercareerstats</td><td>playercompare</td><td>playerdashboardbyclutch</td></tr><tr><td>playerdashboardbygamesplits</td><td>playerdashboardbygeneralsplits</td><td>playerdashboardbylastngames</td><td>playerdashboardbyopponent</td></tr><tr><td>playerdashboardbyshootingsplits</td><td>playerdashboardbyteamperformance</td><td>playerdashboardbyyearoveryear</td><td>playerdashptpass</td></tr><tr><td>playerdashptreb</td><td>playerdashptshotdefend</td><td>playerdashptshots</td><td>playerfantasyprofile</td></tr><tr><td>playerfantasyprofilebargraph</td><td>playergamelog</td><td>playergamestreakfinder</td><td>playernextngames</td></tr><tr><td>playerprofilev2</td><td>playersvsplayers</td><td>playervsplayer</td><td>playoffpicture</td></tr><tr><td>scoreboard</td><td>scoreboardv2</td><td>shotchartdetail</td><td>shotchartlineupdetail</td></tr><tr><td>teamdashboardbyclutch</td><td>teamdashboardbygamesplits</td><td>teamdashboardbygeneralsplits</td><td>teamdashboardbylastngames</td></tr><tr><td>teamdashboardbyopponent</td><td>teamdashboardbyshootingsplits</td><td>teamdashboardbyteamperformance</td><td>teamdashboardbyyearoveryear</td></tr><tr><td>teamdashlineups</td><td>teamdashptpass</td><td>teamdashptreb</td><td>teamdashptshots</td></tr><tr><td>teamdetails</td><td>teamgamelog</td><td>teamgamestreakfinder</td><td>teamhistoricalleaders</td></tr><tr><td>teaminfocommon</td><td>teamplayerdashboard</td><td>teamplayeronoffdetails</td><td>teamplayeronoffsummary</td></tr><tr><td>teamvsplayer</td><td>teamyearbyyearstats</td><td>videodetails</td><td>videoevents</td></tr><tr><td>videostatus</td></tr></table>\n",
    "\n",
    "\n",
    "[lien vers documentations des *endpoints*](https://github.com/swar/nba_api/tree/master/docs/nba_api/stats/endpoints)\n",
    "\n",
    "[lien vers documentations des variables et des sorties](https://github.com/swar/nba_api/tree/master/docs/nba_api/stats/library)\n",
    "\n",
    "### Exemple de documentation\n",
    "\n",
    "Prenons la documentation du *endpoint* PlayerGameLog : \n",
    "\n",
    "#### PlayerGameLog\n",
    "##### [nba_api/stats/endpoints/playergamelog.py](https://github.com/swar/nba_api/blob/master/nba_api/stats/endpoints/playergamelog.py)\n",
    "\n",
    "##### Endpoint URL\n",
    ">[https://stats.nba.com/stats/playergamelog](https://stats.nba.com/stats/playergamelog)\n",
    "\n",
    "##### Valid URL\n",
    ">[https://stats.nba.com/stats/playergamelog?DateFrom=&DateTo=&LeagueID=&PlayerID=2544&Season=2019-20&SeasonType=Regular+Season](https://stats.nba.com/stats/playergamelog?DateFrom=&DateTo=&LeagueID=&PlayerID=2544&Season=2019-20&SeasonType=Regular+Season)\n",
    "\n",
    "#### Parameters\n",
    "API Parameter Name | Python Parameter Variable | Pattern | Required | Nullable\n",
    "------------ | ------------ | :-----------: | :---: | :---:\n",
    "[_**PlayerID**_](https://github.com/swar/nba_api/blob/master/docs/nba_api/stats/library/parameters.md#PlayerID) | player_id |  | `Y` |  | \n",
    "[_**Season**_](https://github.com/swar/nba_api/blob/master/docs/nba_api/stats/library/parameters.md#Season) | season |  | `Y` |  | \n",
    "[_**SeasonType**_](https://github.com/swar/nba_api/blob/master/docs/nba_api/stats/library/parameters.md#SeasonType) | season_type_all_star | `^(Regular Season)\\|(Pre Season)\\|(Playoffs)\\|(All-Star)\\|(All Star)$` | `Y` |  | \n",
    "[_**LeagueID**_](https://github.com/swar/nba_api/blob/master/docs/nba_api/stats/library/parameters.md#LeagueID) | league_id_nullable |  |  | `Y` | \n",
    "[_**DateTo**_](https://github.com/swar/nba_api/blob/master/docs/nba_api/stats/library/parameters.md#DateTo) | date_to_nullable |  |  | `Y` | \n",
    "[_**DateFrom**_](https://github.com/swar/nba_api/blob/master/docs/nba_api/stats/library/parameters.md#DateFrom) | date_from_nullable |  |  | `Y` | \n",
    "\n",
    "#### Data Sets\n",
    "##### PlayerGameLog `player_game_log`\n",
    "```text\n",
    "['SEASON_ID', 'Player_ID', 'Game_ID', 'GAME_DATE', 'MATCHUP', 'WL', 'MIN', 'FGM', 'FGA', 'FG_PCT', 'FG3M', 'FG3A', 'FG3_PCT', 'FTM', 'FTA', 'FT_PCT', 'OREB', 'DREB', 'REB', 'AST', 'STL', 'BLK', 'TOV', 'PF', 'PTS', 'PLUS_MINUS', 'VIDEO_AVAILABLE']\n",
    "```"
   ]
  },
  {
   "cell_type": "markdown",
   "metadata": {},
   "source": [
    "## 2 - Premier contact\n",
    "\n",
    "Le but de cette partie est de comprendre les différents `endpoints` de l'API pour savoir quels types de données on peut récupérer."
   ]
  },
  {
   "cell_type": "code",
   "execution_count": 17,
   "metadata": {},
   "outputs": [],
   "source": [
    "#!pip install pandas tqdm datetime matplotlib nba-api"
   ]
  },
  {
   "cell_type": "code",
   "execution_count": 18,
   "metadata": {},
   "outputs": [],
   "source": [
    "import pandas as pd\n",
    "from tqdm import tqdm\n",
    "from nba_api.stats.static import players, teams\n",
    "import nba_api.stats.endpoints as nba\n",
    "from nba_api.stats.library.parameters import SeasonTypeAllStar\n",
    "import time\n",
    "import datetime\n",
    "import matplotlib.pyplot as plt\n",
    "\n",
    "pd.set_option('display.max_columns', None)"
   ]
  },
  {
   "cell_type": "markdown",
   "metadata": {},
   "source": [
    "La librarie `nba_api` nous donne accès directement sans nous connecter à une liste de joueurs et des équipes de la saison 2019. "
   ]
  },
  {
   "cell_type": "code",
   "execution_count": 19,
   "metadata": {
    "collapsed": false,
    "jupyter": {
     "outputs_hidden": false
    }
   },
   "outputs": [],
   "source": [
    "nba_players = pd.DataFrame(players.get_players()).set_index('id')\n",
    "nba_teams = pd.DataFrame(teams.get_teams()).set_index('id')"
   ]
  },
  {
   "cell_type": "markdown",
   "metadata": {},
   "source": [
    "Pour la suite on va avoir besoin de transformer des id en nom et vis-versa."
   ]
  },
  {
   "cell_type": "code",
   "execution_count": 20,
   "metadata": {
    "collapsed": false,
    "jupyter": {
     "outputs_hidden": false
    }
   },
   "outputs": [],
   "source": [
    "def player_name2id(name):\n",
    "    '''Transforme le nom en id pour le joueur'''\n",
    "    return players.find_players_by_full_name(name)[0]['id']"
   ]
  },
  {
   "cell_type": "code",
   "execution_count": 21,
   "metadata": {
    "collapsed": false,
    "jupyter": {
     "outputs_hidden": false
    }
   },
   "outputs": [],
   "source": [
    "def player_id2name(id_player):\n",
    "    '''Transforme le id en nom pour le joueur'''\n",
    "    return players.find_player_by_id(id_player)['name']"
   ]
  },
  {
   "cell_type": "code",
   "execution_count": 22,
   "metadata": {
    "collapsed": false,
    "jupyter": {
     "outputs_hidden": false
    }
   },
   "outputs": [],
   "source": [
    "def players_id2name(df, name_column='PLAYER_ID'):\n",
    "    '''Transforme une dataframe avec une colonne avec les id des joueurs\n",
    "    \n",
    "    Args :\n",
    "        df : une base de données avec une colonne avec les id des joueurs\n",
    "        name_column : le nom de la colonne avec les id des joueurs\n",
    "    \n",
    "    Return :\n",
    "        une dataframe avec une nouvelle colonne avec les noms des joueurs\n",
    "        à droite de la colonne des id.\n",
    "    '''\n",
    "    \n",
    "    players = nba_players['full_name'].to_dict()\n",
    "    \n",
    "    # On place le nom des joueurs juste à droite de l'id\n",
    "    i_name_column = df.columns.get_loc(name_column)\n",
    "    df.insert(i_name_column+1, 'NAME', df[name_column].map(players))\n",
    "    \n",
    "    return(df)"
   ]
  },
  {
   "cell_type": "code",
   "execution_count": 23,
   "metadata": {
    "collapsed": false,
    "jupyter": {
     "outputs_hidden": false
    }
   },
   "outputs": [],
   "source": [
    "def team_abr2id(abr):\n",
    "    '''Transforme l'abreviation d'une équipe en id'''\n",
    "    return teams.find_team_by_abbreviation(abr)['id']"
   ]
  },
  {
   "cell_type": "code",
   "execution_count": 11,
   "metadata": {
    "collapsed": false,
    "jupyter": {
     "outputs_hidden": false
    }
   },
   "outputs": [],
   "source": [
    "def team_id2name(id_team):\n",
    "        '''Transforme l'abreviation d'une équipe en id'''\n",
    "\n",
    "    return teams.find_team_name_by_id(id_team)['name']"
   ]
  },
  {
   "cell_type": "code",
   "execution_count": 24,
   "metadata": {
    "collapsed": false,
    "jupyter": {
     "outputs_hidden": false
    }
   },
   "outputs": [],
   "source": [
    "def teams_name2abrv(df, name_column='TeamName'):\n",
    "    '''Transforme une dataframe avec une colonne avec les noms des équipes\n",
    "    \n",
    "    Args :\n",
    "        df : une base de données avec une colonne avec les noms des équipes\n",
    "        name_column : le nom de la colonne avec les noms des équipes\n",
    "    \n",
    "    Return :\n",
    "        une dataframe avec une nouvelle colonne avec les abréviations des équipes\n",
    "    '''\n",
    "    \n",
    "    abr = nba_teams[['nickname', 'abbreviation']].set_index('nickname') \\\n",
    "                                                    .to_dict()['abbreviation']   \n",
    "    \n",
    "    return df.assign(ABBREVIATION=lambda df: df[name_column].map(abr))"
   ]
  },
  {
   "cell_type": "code",
   "execution_count": 13,
   "metadata": {
    "collapsed": false,
    "jupyter": {
     "outputs_hidden": false
    }
   },
   "outputs": [],
   "source": [
    "def season_id(season):\n",
    "    '''Transforme une année en le bon format de saison'''\n",
    "    return(f'{season}-{int(str(season)[2:])+1}')"
   ]
  },
  {
   "cell_type": "markdown",
   "metadata": {},
   "source": [
    "### *EndPoint* `PlayerGameLog`\n",
    "\n",
    "Permet de récupérer les statistiques individuelles des joueurs par saison.\n",
    "On l'utilise pour calculer le score de TrashTalk."
   ]
  },
  {
   "cell_type": "code",
   "execution_count": 14,
   "metadata": {
    "collapsed": false,
    "jupyter": {
     "outputs_hidden": false
    }
   },
   "outputs": [],
   "source": [
    "def boxscore_saison(player, season=2019):\n",
    "    playoffs = nba.PlayerGameLog(player, \n",
    "                                 season=season, \n",
    "                                 season_type_all_star=SeasonTypeAllStar.playoffs) \\\n",
    "                                        .get_data_frames()[0]\n",
    "    regular = nba.PlayerGameLog(player, season=season).get_data_frames()[0]\n",
    "    \n",
    "    return(playoffs.append(regular))"
   ]
  },
  {
   "cell_type": "code",
   "execution_count": 15,
   "metadata": {},
   "outputs": [],
   "source": [
    "lebron = player_name2id('LeBron James')"
   ]
  },
  {
   "cell_type": "code",
   "execution_count": 16,
   "metadata": {
    "collapsed": false,
    "jupyter": {
     "outputs_hidden": false
    }
   },
   "outputs": [
    {
     "data": {
      "text/html": [
       "<div>\n",
       "<style scoped>\n",
       "    .dataframe tbody tr th:only-of-type {\n",
       "        vertical-align: middle;\n",
       "    }\n",
       "\n",
       "    .dataframe tbody tr th {\n",
       "        vertical-align: top;\n",
       "    }\n",
       "\n",
       "    .dataframe thead th {\n",
       "        text-align: right;\n",
       "    }\n",
       "</style>\n",
       "<table border=\"1\" class=\"dataframe\">\n",
       "  <thead>\n",
       "    <tr style=\"text-align: right;\">\n",
       "      <th></th>\n",
       "      <th>SEASON_ID</th>\n",
       "      <th>Player_ID</th>\n",
       "      <th>Game_ID</th>\n",
       "      <th>GAME_DATE</th>\n",
       "      <th>MATCHUP</th>\n",
       "      <th>WL</th>\n",
       "      <th>MIN</th>\n",
       "      <th>FGM</th>\n",
       "      <th>FGA</th>\n",
       "      <th>FG_PCT</th>\n",
       "      <th>FG3M</th>\n",
       "      <th>FG3A</th>\n",
       "      <th>FG3_PCT</th>\n",
       "      <th>FTM</th>\n",
       "      <th>FTA</th>\n",
       "      <th>FT_PCT</th>\n",
       "      <th>OREB</th>\n",
       "      <th>DREB</th>\n",
       "      <th>REB</th>\n",
       "      <th>AST</th>\n",
       "      <th>STL</th>\n",
       "      <th>BLK</th>\n",
       "      <th>TOV</th>\n",
       "      <th>PF</th>\n",
       "      <th>PTS</th>\n",
       "      <th>PLUS_MINUS</th>\n",
       "      <th>VIDEO_AVAILABLE</th>\n",
       "    </tr>\n",
       "  </thead>\n",
       "  <tbody>\n",
       "    <tr>\n",
       "      <th>5</th>\n",
       "      <td>42019</td>\n",
       "      <td>2544</td>\n",
       "      <td>0041900401</td>\n",
       "      <td>SEP 30, 2020</td>\n",
       "      <td>LAL vs. MIA</td>\n",
       "      <td>W</td>\n",
       "      <td>36</td>\n",
       "      <td>9</td>\n",
       "      <td>17</td>\n",
       "      <td>0.529</td>\n",
       "      <td>2</td>\n",
       "      <td>4</td>\n",
       "      <td>0.5</td>\n",
       "      <td>5</td>\n",
       "      <td>6</td>\n",
       "      <td>0.833</td>\n",
       "      <td>1</td>\n",
       "      <td>12</td>\n",
       "      <td>13</td>\n",
       "      <td>9</td>\n",
       "      <td>1</td>\n",
       "      <td>0</td>\n",
       "      <td>2</td>\n",
       "      <td>3</td>\n",
       "      <td>25</td>\n",
       "      <td>10</td>\n",
       "      <td>1</td>\n",
       "    </tr>\n",
       "    <tr>\n",
       "      <th>17</th>\n",
       "      <td>22019</td>\n",
       "      <td>2544</td>\n",
       "      <td>0021900801</td>\n",
       "      <td>FEB 10, 2020</td>\n",
       "      <td>LAL vs. PHX</td>\n",
       "      <td>W</td>\n",
       "      <td>30</td>\n",
       "      <td>6</td>\n",
       "      <td>16</td>\n",
       "      <td>0.375</td>\n",
       "      <td>3</td>\n",
       "      <td>6</td>\n",
       "      <td>0.5</td>\n",
       "      <td>2</td>\n",
       "      <td>4</td>\n",
       "      <td>0.500</td>\n",
       "      <td>0</td>\n",
       "      <td>8</td>\n",
       "      <td>8</td>\n",
       "      <td>9</td>\n",
       "      <td>1</td>\n",
       "      <td>0</td>\n",
       "      <td>8</td>\n",
       "      <td>2</td>\n",
       "      <td>17</td>\n",
       "      <td>16</td>\n",
       "      <td>1</td>\n",
       "    </tr>\n",
       "    <tr>\n",
       "      <th>30</th>\n",
       "      <td>22019</td>\n",
       "      <td>2544</td>\n",
       "      <td>0021900572</td>\n",
       "      <td>JAN 10, 2020</td>\n",
       "      <td>LAL @ DAL</td>\n",
       "      <td>W</td>\n",
       "      <td>32</td>\n",
       "      <td>14</td>\n",
       "      <td>25</td>\n",
       "      <td>0.560</td>\n",
       "      <td>3</td>\n",
       "      <td>6</td>\n",
       "      <td>0.5</td>\n",
       "      <td>4</td>\n",
       "      <td>5</td>\n",
       "      <td>0.800</td>\n",
       "      <td>2</td>\n",
       "      <td>14</td>\n",
       "      <td>16</td>\n",
       "      <td>7</td>\n",
       "      <td>1</td>\n",
       "      <td>0</td>\n",
       "      <td>3</td>\n",
       "      <td>0</td>\n",
       "      <td>35</td>\n",
       "      <td>13</td>\n",
       "      <td>1</td>\n",
       "    </tr>\n",
       "  </tbody>\n",
       "</table>\n",
       "</div>"
      ],
      "text/plain": [
       "   SEASON_ID  Player_ID     Game_ID     GAME_DATE      MATCHUP WL  MIN  FGM  \\\n",
       "5      42019       2544  0041900401  SEP 30, 2020  LAL vs. MIA  W   36    9   \n",
       "17     22019       2544  0021900801  FEB 10, 2020  LAL vs. PHX  W   30    6   \n",
       "30     22019       2544  0021900572  JAN 10, 2020    LAL @ DAL  W   32   14   \n",
       "\n",
       "    FGA  FG_PCT  FG3M  FG3A  FG3_PCT  FTM  FTA  FT_PCT  OREB  DREB  REB  AST  \\\n",
       "5    17   0.529     2     4      0.5    5    6   0.833     1    12   13    9   \n",
       "17   16   0.375     3     6      0.5    2    4   0.500     0     8    8    9   \n",
       "30   25   0.560     3     6      0.5    4    5   0.800     2    14   16    7   \n",
       "\n",
       "    STL  BLK  TOV  PF  PTS  PLUS_MINUS  VIDEO_AVAILABLE  \n",
       "5     1    0    2   3   25          10                1  \n",
       "17    1    0    8   2   17          16                1  \n",
       "30    1    0    3   0   35          13                1  "
      ]
     },
     "execution_count": 16,
     "metadata": {},
     "output_type": "execute_result"
    }
   ],
   "source": [
    "boxscore_saison(lebron).sample(3)"
   ]
  },
  {
   "cell_type": "markdown",
   "metadata": {},
   "source": [
    "### *EndPoint* `CommonPlayerInfo`\n",
    "\n",
    "On utilise cet *endpoint* pour avoir des informations sur un joueur en particulier, comme sa taille, son poids, sa date de naissance.\n",
    "Un exemple ici est son utilisation pour avoir sa première et sa dernière saision"
   ]
  },
  {
   "cell_type": "code",
   "execution_count": 14,
   "metadata": {
    "collapsed": false,
    "jupyter": {
     "outputs_hidden": false
    }
   },
   "outputs": [
    {
     "data": {
      "text/html": [
       "<div>\n",
       "<style scoped>\n",
       "    .dataframe tbody tr th:only-of-type {\n",
       "        vertical-align: middle;\n",
       "    }\n",
       "\n",
       "    .dataframe tbody tr th {\n",
       "        vertical-align: top;\n",
       "    }\n",
       "\n",
       "    .dataframe thead th {\n",
       "        text-align: right;\n",
       "    }\n",
       "</style>\n",
       "<table border=\"1\" class=\"dataframe\">\n",
       "  <thead>\n",
       "    <tr style=\"text-align: right;\">\n",
       "      <th></th>\n",
       "      <th>PERSON_ID</th>\n",
       "      <th>FIRST_NAME</th>\n",
       "      <th>LAST_NAME</th>\n",
       "      <th>DISPLAY_FIRST_LAST</th>\n",
       "      <th>DISPLAY_LAST_COMMA_FIRST</th>\n",
       "      <th>DISPLAY_FI_LAST</th>\n",
       "      <th>PLAYER_SLUG</th>\n",
       "      <th>BIRTHDATE</th>\n",
       "      <th>SCHOOL</th>\n",
       "      <th>COUNTRY</th>\n",
       "      <th>LAST_AFFILIATION</th>\n",
       "      <th>HEIGHT</th>\n",
       "      <th>WEIGHT</th>\n",
       "      <th>SEASON_EXP</th>\n",
       "      <th>JERSEY</th>\n",
       "      <th>POSITION</th>\n",
       "      <th>ROSTERSTATUS</th>\n",
       "      <th>GAMES_PLAYED_CURRENT_SEASON_FLAG</th>\n",
       "      <th>TEAM_ID</th>\n",
       "      <th>TEAM_NAME</th>\n",
       "      <th>TEAM_ABBREVIATION</th>\n",
       "      <th>TEAM_CODE</th>\n",
       "      <th>TEAM_CITY</th>\n",
       "      <th>PLAYERCODE</th>\n",
       "      <th>FROM_YEAR</th>\n",
       "      <th>TO_YEAR</th>\n",
       "      <th>DLEAGUE_FLAG</th>\n",
       "      <th>NBA_FLAG</th>\n",
       "      <th>GAMES_PLAYED_FLAG</th>\n",
       "      <th>DRAFT_YEAR</th>\n",
       "      <th>DRAFT_ROUND</th>\n",
       "      <th>DRAFT_NUMBER</th>\n",
       "    </tr>\n",
       "  </thead>\n",
       "  <tbody>\n",
       "    <tr>\n",
       "      <th>0</th>\n",
       "      <td>2544</td>\n",
       "      <td>LeBron</td>\n",
       "      <td>James</td>\n",
       "      <td>LeBron James</td>\n",
       "      <td>James, LeBron</td>\n",
       "      <td>L. James</td>\n",
       "      <td>lebron-james</td>\n",
       "      <td>1984-12-30T00:00:00</td>\n",
       "      <td>St. Vincent-St. Mary HS (OH)</td>\n",
       "      <td>USA</td>\n",
       "      <td>St. Vincent-St. Mary HS (OH)/USA</td>\n",
       "      <td>6-9</td>\n",
       "      <td>250</td>\n",
       "      <td>17</td>\n",
       "      <td>23</td>\n",
       "      <td>Forward</td>\n",
       "      <td>Active</td>\n",
       "      <td>N</td>\n",
       "      <td>1610612747</td>\n",
       "      <td>Lakers</td>\n",
       "      <td>LAL</td>\n",
       "      <td>lakers</td>\n",
       "      <td>Los Angeles</td>\n",
       "      <td>lebron_james</td>\n",
       "      <td>2003</td>\n",
       "      <td>2020</td>\n",
       "      <td>N</td>\n",
       "      <td>Y</td>\n",
       "      <td>Y</td>\n",
       "      <td>2003</td>\n",
       "      <td>1</td>\n",
       "      <td>1</td>\n",
       "    </tr>\n",
       "  </tbody>\n",
       "</table>\n",
       "</div>"
      ],
      "text/plain": [
       "   PERSON_ID FIRST_NAME LAST_NAME DISPLAY_FIRST_LAST DISPLAY_LAST_COMMA_FIRST  \\\n",
       "0       2544     LeBron     James       LeBron James            James, LeBron   \n",
       "\n",
       "  DISPLAY_FI_LAST   PLAYER_SLUG            BIRTHDATE  \\\n",
       "0        L. James  lebron-james  1984-12-30T00:00:00   \n",
       "\n",
       "                         SCHOOL COUNTRY                  LAST_AFFILIATION  \\\n",
       "0  St. Vincent-St. Mary HS (OH)     USA  St. Vincent-St. Mary HS (OH)/USA   \n",
       "\n",
       "  HEIGHT WEIGHT  SEASON_EXP JERSEY POSITION ROSTERSTATUS  \\\n",
       "0    6-9    250          17     23  Forward       Active   \n",
       "\n",
       "  GAMES_PLAYED_CURRENT_SEASON_FLAG     TEAM_ID TEAM_NAME TEAM_ABBREVIATION  \\\n",
       "0                                N  1610612747    Lakers               LAL   \n",
       "\n",
       "  TEAM_CODE    TEAM_CITY    PLAYERCODE  FROM_YEAR  TO_YEAR DLEAGUE_FLAG  \\\n",
       "0    lakers  Los Angeles  lebron_james       2003     2020            N   \n",
       "\n",
       "  NBA_FLAG GAMES_PLAYED_FLAG DRAFT_YEAR DRAFT_ROUND DRAFT_NUMBER  \n",
       "0        Y                 Y       2003           1            1  "
      ]
     },
     "execution_count": 14,
     "metadata": {},
     "output_type": "execute_result"
    }
   ],
   "source": [
    "nba.CommonPlayerInfo(lebron).get_data_frames()[0]"
   ]
  },
  {
   "cell_type": "code",
   "execution_count": 15,
   "metadata": {
    "collapsed": false,
    "jupyter": {
     "outputs_hidden": false
    }
   },
   "outputs": [],
   "source": [
    "def first_last_season_player(player_id):\n",
    "    df = nba.CommonPlayerInfo(player_id).get_data_frames()[0]\n",
    "    first = df.FROM_YEAR.values[0]\n",
    "    last = df.TO_YEAR.values[0]\n",
    "    return(first, last)"
   ]
  },
  {
   "cell_type": "code",
   "execution_count": 16,
   "metadata": {
    "collapsed": false,
    "jupyter": {
     "outputs_hidden": false
    }
   },
   "outputs": [
    {
     "data": {
      "text/plain": [
       "(2003, 2020)"
      ]
     },
     "execution_count": 16,
     "metadata": {},
     "output_type": "execute_result"
    }
   ],
   "source": [
    "first_last_season_player(lebron)"
   ]
  },
  {
   "cell_type": "markdown",
   "metadata": {},
   "source": [
    "#### *EndPoint* `CommonTeamRoster`\n",
    "\n",
    "Cet *endpoint* donne des informations sur les 12 de l'équipe qu'on lui demande. /!\\ Il faut spécifier une saison /!\\.\n",
    "Un exemple ici pour récupérer les positions des joueurs pour une équipe et une saison donnée"
   ]
  },
  {
   "cell_type": "code",
   "execution_count": 17,
   "metadata": {
    "collapsed": false,
    "jupyter": {
     "outputs_hidden": false
    }
   },
   "outputs": [
    {
     "data": {
      "text/html": [
       "<div>\n",
       "<style scoped>\n",
       "    .dataframe tbody tr th:only-of-type {\n",
       "        vertical-align: middle;\n",
       "    }\n",
       "\n",
       "    .dataframe tbody tr th {\n",
       "        vertical-align: top;\n",
       "    }\n",
       "\n",
       "    .dataframe thead th {\n",
       "        text-align: right;\n",
       "    }\n",
       "</style>\n",
       "<table border=\"1\" class=\"dataframe\">\n",
       "  <thead>\n",
       "    <tr style=\"text-align: right;\">\n",
       "      <th></th>\n",
       "      <th>TeamID</th>\n",
       "      <th>SEASON</th>\n",
       "      <th>LeagueID</th>\n",
       "      <th>PLAYER</th>\n",
       "      <th>PLAYER_SLUG</th>\n",
       "      <th>NUM</th>\n",
       "      <th>POSITION</th>\n",
       "      <th>HEIGHT</th>\n",
       "      <th>WEIGHT</th>\n",
       "      <th>BIRTH_DATE</th>\n",
       "      <th>AGE</th>\n",
       "      <th>EXP</th>\n",
       "      <th>SCHOOL</th>\n",
       "      <th>PLAYER_ID</th>\n",
       "    </tr>\n",
       "  </thead>\n",
       "  <tbody>\n",
       "    <tr>\n",
       "      <th>10</th>\n",
       "      <td>1610612744</td>\n",
       "      <td>2019</td>\n",
       "      <td>00</td>\n",
       "      <td>Stephen Curry</td>\n",
       "      <td>stephen-curry</td>\n",
       "      <td>30</td>\n",
       "      <td>G</td>\n",
       "      <td>6-3</td>\n",
       "      <td>185</td>\n",
       "      <td>MAR 14, 1988</td>\n",
       "      <td>32.0</td>\n",
       "      <td>10</td>\n",
       "      <td>Davidson</td>\n",
       "      <td>201939</td>\n",
       "    </tr>\n",
       "    <tr>\n",
       "      <th>6</th>\n",
       "      <td>1610612744</td>\n",
       "      <td>2019</td>\n",
       "      <td>00</td>\n",
       "      <td>Ky Bowman</td>\n",
       "      <td>ky-bowman</td>\n",
       "      <td>12</td>\n",
       "      <td>G</td>\n",
       "      <td>6-1</td>\n",
       "      <td>187</td>\n",
       "      <td>JUN 16, 1997</td>\n",
       "      <td>23.0</td>\n",
       "      <td>R</td>\n",
       "      <td>Boston College</td>\n",
       "      <td>1629065</td>\n",
       "    </tr>\n",
       "    <tr>\n",
       "      <th>9</th>\n",
       "      <td>1610612744</td>\n",
       "      <td>2019</td>\n",
       "      <td>00</td>\n",
       "      <td>Draymond Green</td>\n",
       "      <td>draymond-green</td>\n",
       "      <td>23</td>\n",
       "      <td>F</td>\n",
       "      <td>6-6</td>\n",
       "      <td>230</td>\n",
       "      <td>MAR 04, 1990</td>\n",
       "      <td>30.0</td>\n",
       "      <td>7</td>\n",
       "      <td>Michigan State</td>\n",
       "      <td>203110</td>\n",
       "    </tr>\n",
       "  </tbody>\n",
       "</table>\n",
       "</div>"
      ],
      "text/plain": [
       "        TeamID SEASON LeagueID          PLAYER     PLAYER_SLUG NUM POSITION  \\\n",
       "10  1610612744   2019       00   Stephen Curry   stephen-curry  30        G   \n",
       "6   1610612744   2019       00       Ky Bowman       ky-bowman  12        G   \n",
       "9   1610612744   2019       00  Draymond Green  draymond-green  23        F   \n",
       "\n",
       "   HEIGHT WEIGHT    BIRTH_DATE   AGE EXP          SCHOOL  PLAYER_ID  \n",
       "10    6-3    185  MAR 14, 1988  32.0  10        Davidson     201939  \n",
       "6     6-1    187  JUN 16, 1997  23.0   R  Boston College    1629065  \n",
       "9     6-6    230  MAR 04, 1990  30.0   7  Michigan State     203110  "
      ]
     },
     "execution_count": 17,
     "metadata": {},
     "output_type": "execute_result"
    }
   ],
   "source": [
    "warrior = team_abr2id('GSW')\n",
    "nba.CommonTeamRoster(warrior, 2019).get_data_frames()[0].sample(3)"
   ]
  },
  {
   "cell_type": "code",
   "execution_count": 18,
   "metadata": {
    "collapsed": false,
    "jupyter": {
     "outputs_hidden": false
    }
   },
   "outputs": [],
   "source": [
    "def team_players(team_id, saison):\n",
    "    df = nba.CommonTeamRoster(warrior, 2019).get_data_frames()[0]\n",
    "    return(df[['PLAYER_ID', 'PLAYER', 'POSITION']])"
   ]
  },
  {
   "cell_type": "code",
   "execution_count": 19,
   "metadata": {
    "collapsed": false,
    "jupyter": {
     "outputs_hidden": false
    }
   },
   "outputs": [
    {
     "data": {
      "text/html": [
       "<div>\n",
       "<style scoped>\n",
       "    .dataframe tbody tr th:only-of-type {\n",
       "        vertical-align: middle;\n",
       "    }\n",
       "\n",
       "    .dataframe tbody tr th {\n",
       "        vertical-align: top;\n",
       "    }\n",
       "\n",
       "    .dataframe thead th {\n",
       "        text-align: right;\n",
       "    }\n",
       "</style>\n",
       "<table border=\"1\" class=\"dataframe\">\n",
       "  <thead>\n",
       "    <tr style=\"text-align: right;\">\n",
       "      <th></th>\n",
       "      <th>PLAYER_ID</th>\n",
       "      <th>PLAYER</th>\n",
       "      <th>POSITION</th>\n",
       "    </tr>\n",
       "  </thead>\n",
       "  <tbody>\n",
       "    <tr>\n",
       "      <th>8</th>\n",
       "      <td>203952</td>\n",
       "      <td>Andrew Wiggins</td>\n",
       "      <td>F</td>\n",
       "    </tr>\n",
       "    <tr>\n",
       "      <th>3</th>\n",
       "      <td>1629346</td>\n",
       "      <td>Alen Smailagic</td>\n",
       "      <td>F</td>\n",
       "    </tr>\n",
       "    <tr>\n",
       "      <th>0</th>\n",
       "      <td>1627814</td>\n",
       "      <td>Damion Lee</td>\n",
       "      <td>G-F</td>\n",
       "    </tr>\n",
       "  </tbody>\n",
       "</table>\n",
       "</div>"
      ],
      "text/plain": [
       "   PLAYER_ID          PLAYER POSITION\n",
       "8     203952  Andrew Wiggins        F\n",
       "3    1629346  Alen Smailagic        F\n",
       "0    1627814      Damion Lee      G-F"
      ]
     },
     "execution_count": 19,
     "metadata": {},
     "output_type": "execute_result"
    }
   ],
   "source": [
    "team_players(warrior, 2019).sample(3)"
   ]
  },
  {
   "cell_type": "markdown",
   "metadata": {},
   "source": [
    "#### *EndPoint* `PlayerProfileV2`\n",
    "\n",
    "Ce *endpoint* permet de trouver le prochain match d'un joueur et plein d'autre info qui vont surement pas nous servir. Je comprends pas bien le `Totals` mais je suis pas sur qu'il y ai un impact. De plus, je pense qu'il doit y avoir un autre *endpoint* qui permet d'obtenir cette information.\n",
    "\n",
    "PS: au 27/10 la saison 2020-2021 n'a pas encore démarrer d'où la liste vide"
   ]
  },
  {
   "cell_type": "code",
   "execution_count": 20,
   "metadata": {
    "collapsed": false,
    "jupyter": {
     "outputs_hidden": false
    }
   },
   "outputs": [
    {
     "data": {
      "text/html": [
       "<div>\n",
       "<style scoped>\n",
       "    .dataframe tbody tr th:only-of-type {\n",
       "        vertical-align: middle;\n",
       "    }\n",
       "\n",
       "    .dataframe tbody tr th {\n",
       "        vertical-align: top;\n",
       "    }\n",
       "\n",
       "    .dataframe thead th {\n",
       "        text-align: right;\n",
       "    }\n",
       "</style>\n",
       "<table border=\"1\" class=\"dataframe\">\n",
       "  <thead>\n",
       "    <tr style=\"text-align: right;\">\n",
       "      <th></th>\n",
       "      <th>PLAYER_ID</th>\n",
       "      <th>SEASON_ID</th>\n",
       "      <th>LEAGUE_ID</th>\n",
       "      <th>ORGANIZATION_ID</th>\n",
       "      <th>SCHOOL_NAME</th>\n",
       "      <th>PLAYER_AGE</th>\n",
       "      <th>GP</th>\n",
       "      <th>GS</th>\n",
       "      <th>MIN</th>\n",
       "      <th>FGM</th>\n",
       "      <th>FGA</th>\n",
       "      <th>FG_PCT</th>\n",
       "      <th>FG3M</th>\n",
       "      <th>FG3A</th>\n",
       "      <th>FG3_PCT</th>\n",
       "      <th>FTM</th>\n",
       "      <th>FTA</th>\n",
       "      <th>FT_PCT</th>\n",
       "      <th>OREB</th>\n",
       "      <th>DREB</th>\n",
       "      <th>REB</th>\n",
       "      <th>AST</th>\n",
       "      <th>STL</th>\n",
       "      <th>BLK</th>\n",
       "      <th>TOV</th>\n",
       "      <th>PF</th>\n",
       "      <th>PTS</th>\n",
       "    </tr>\n",
       "  </thead>\n",
       "  <tbody>\n",
       "  </tbody>\n",
       "</table>\n",
       "</div>"
      ],
      "text/plain": [
       "Empty DataFrame\n",
       "Columns: [PLAYER_ID, SEASON_ID, LEAGUE_ID, ORGANIZATION_ID, SCHOOL_NAME, PLAYER_AGE, GP, GS, MIN, FGM, FGA, FG_PCT, FG3M, FG3A, FG3_PCT, FTM, FTA, FT_PCT, OREB, DREB, REB, AST, STL, BLK, TOV, PF, PTS]\n",
       "Index: []"
      ]
     },
     "execution_count": 20,
     "metadata": {},
     "output_type": "execute_result"
    }
   ],
   "source": [
    "nba.PlayerProfileV2(lebron, 'Totals').get_data_frames()[6]"
   ]
  },
  {
   "cell_type": "markdown",
   "metadata": {},
   "source": [
    "#### *EndPoint* `LeagueStandings`\n",
    "\n",
    "Ce *endpoint* permet d'avoir des informations sur les équipes pour une saison particulière. Par exemple, ici nous l'utilisons pour avoir le classement des équipes."
   ]
  },
  {
   "cell_type": "code",
   "execution_count": 21,
   "metadata": {
    "collapsed": false,
    "jupyter": {
     "outputs_hidden": false
    }
   },
   "outputs": [
    {
     "data": {
      "text/html": [
       "<div>\n",
       "<style scoped>\n",
       "    .dataframe tbody tr th:only-of-type {\n",
       "        vertical-align: middle;\n",
       "    }\n",
       "\n",
       "    .dataframe tbody tr th {\n",
       "        vertical-align: top;\n",
       "    }\n",
       "\n",
       "    .dataframe thead th {\n",
       "        text-align: right;\n",
       "    }\n",
       "</style>\n",
       "<table border=\"1\" class=\"dataframe\">\n",
       "  <thead>\n",
       "    <tr style=\"text-align: right;\">\n",
       "      <th></th>\n",
       "      <th>TeamName</th>\n",
       "    </tr>\n",
       "  </thead>\n",
       "  <tbody>\n",
       "    <tr>\n",
       "      <th>0</th>\n",
       "      <td>Lakers</td>\n",
       "    </tr>\n",
       "    <tr>\n",
       "      <th>1</th>\n",
       "      <td>Bucks</td>\n",
       "    </tr>\n",
       "    <tr>\n",
       "      <th>2</th>\n",
       "      <td>Clippers</td>\n",
       "    </tr>\n",
       "  </tbody>\n",
       "</table>\n",
       "</div>"
      ],
      "text/plain": [
       "   TeamName\n",
       "0    Lakers\n",
       "1     Bucks\n",
       "2  Clippers"
      ]
     },
     "execution_count": 21,
     "metadata": {},
     "output_type": "execute_result"
    }
   ],
   "source": [
    "nba.LeagueStandings(season=2019).get_data_frames()[0]['TeamName']  \\\n",
    "                                .to_frame()  \\\n",
    "                                .head(3)"
   ]
  },
  {
   "cell_type": "code",
   "execution_count": 22,
   "metadata": {
    "collapsed": false,
    "jupyter": {
     "outputs_hidden": false
    }
   },
   "outputs": [],
   "source": [
    "def teamsStandings(season):\n",
    "    \"\"\"\n",
    "    Renvoie une liste d'abbréviation rangée dans l'ordre \n",
    "    du classement de la saison [season]\n",
    "    \"\"\"\n",
    "    \n",
    "    # On récupère les info sur les équipes pour la league [season]\n",
    "    teams=nba.LeagueStandings(season=season) \\\n",
    "                .get_data_frames()[0]['TeamName'] \\\n",
    "                .to_frame()\n",
    "    \n",
    "    # On récupère les abbreviations des équipes et on créé un colone\n",
    "    abr = nba_teams[['nickname', 'abbreviation']].set_index('nickname') \\\n",
    "                                                    .to_dict()['abbreviation']\n",
    "    teams = teams.assign(ABBREVIATION=lambda df: df['TeamName'].map(abr))\n",
    "\n",
    "    return teams.ABBREVIATION.values"
   ]
  },
  {
   "cell_type": "code",
   "execution_count": 2,
   "metadata": {
    "collapsed": false,
    "jupyter": {
     "outputs_hidden": false
    }
   },
   "outputs": [
    {
     "ename": "NameError",
     "evalue": "name 'teamsStandings' is not defined",
     "output_type": "error",
     "traceback": [
      "\u001b[0;31m---------------------------------------------------------------------------\u001b[0m",
      "\u001b[0;31mNameError\u001b[0m                                 Traceback (most recent call last)",
      "\u001b[0;32m<ipython-input-2-f05fd48dbd76>\u001b[0m in \u001b[0;36m<module>\u001b[0;34m\u001b[0m\n\u001b[0;32m----> 1\u001b[0;31m \u001b[0mteamsStandings\u001b[0m\u001b[0;34m(\u001b[0m\u001b[0;36m2019\u001b[0m\u001b[0;34m)\u001b[0m\u001b[0;34m\u001b[0m\u001b[0;34m\u001b[0m\u001b[0m\n\u001b[0m",
      "\u001b[0;31mNameError\u001b[0m: name 'teamsStandings' is not defined"
     ]
    }
   ],
   "source": [
    "teamsStandings(2019)"
   ]
  },
  {
   "cell_type": "code",
   "execution_count": null,
   "metadata": {},
   "outputs": [],
   "source": []
  }
 ],
 "metadata": {
  "kernelspec": {
   "display_name": "Python 3",
   "language": "python",
   "name": "python3"
  },
  "language_info": {
   "codemirror_mode": {
    "name": "ipython",
    "version": 3
   },
   "file_extension": ".py",
   "mimetype": "text/x-python",
   "name": "python",
   "nbconvert_exporter": "python",
   "pygments_lexer": "ipython3",
   "version": "3.9.0"
  }
 },
 "nbformat": 4,
 "nbformat_minor": 4
}
