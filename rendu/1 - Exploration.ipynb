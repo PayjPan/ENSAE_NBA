{
 "cells": [
  {
   "cell_type": "markdown",
   "metadata": {},
   "source": [
    "# Exploration des données\n",
    "\n",
    "Une première approche pour comprendre les données que l'on a."
   ]
  },
  {
   "cell_type": "markdown",
   "metadata": {},
   "source": [
    "## 1 - Documentation\n",
    "\n",
    "L'API `nba_api` a une très bonne documentation sur les différents *endpoints* et sur les variables que l'on peut utilisé.\n",
    "\n",
    "### Tous les *endpoints*\n",
    "\n",
    "<table><tr></tr><tr><td>boxscoreadvancedv2</td><td>boxscorefourfactorsv2</td><td>boxscoremiscv2</td><td>boxscoreplayertrackv2</td></tr><tr><td>boxscorescoringv2</td><td>boxscoresummaryv2</td><td>boxscoretraditionalv2</td><td>boxscoreusagev2</td></tr><tr><td>commonallplayers</td><td>commonplayerinfo</td><td>commonplayoffseries</td><td>commonteamroster</td></tr><tr><td>commonteamyears</td><td>defensehub</td><td>draftcombinedrillresults</td><td>draftcombinenonstationaryshooting</td></tr><tr><td>draftcombineplayeranthro</td><td>draftcombinespotshooting</td><td>draftcombinestats</td><td>drafthistory</td></tr><tr><td>franchisehistory</td><td>homepageleaders</td><td>homepagev2</td><td>infographicfanduelplayer</td></tr><tr><td>leaderstiles</td><td>leaguedashlineups</td><td>leaguedashplayerbiostats</td><td>leaguedashplayerclutch</td></tr><tr><td>leaguedashplayerptshot</td><td>leaguedashplayershotlocations</td><td>leaguedashplayerstats</td><td>leaguedashptdefend</td></tr><tr><td>leaguedashptstats</td><td>leaguedashptteamdefend</td><td>leaguedashteamclutch</td><td>leaguedashteamptshot</td></tr><tr><td>leaguedashteamshotlocations</td><td>leaguedashteamstats</td><td>leaguegamefinder</td><td>leaguegamelog</td></tr><tr><td>leagueleaders</td><td>leaguestandings</td><td>playbyplay</td><td>playbyplayv2</td></tr><tr><td>playerawards</td><td>playercareerstats</td><td>playercompare</td><td>playerdashboardbyclutch</td></tr><tr><td>playerdashboardbygamesplits</td><td>playerdashboardbygeneralsplits</td><td>playerdashboardbylastngames</td><td>playerdashboardbyopponent</td></tr><tr><td>playerdashboardbyshootingsplits</td><td>playerdashboardbyteamperformance</td><td>playerdashboardbyyearoveryear</td><td>playerdashptpass</td></tr><tr><td>playerdashptreb</td><td>playerdashptshotdefend</td><td>playerdashptshots</td><td>playerfantasyprofile</td></tr><tr><td>playerfantasyprofilebargraph</td><td>playergamelog</td><td>playergamestreakfinder</td><td>playernextngames</td></tr><tr><td>playerprofilev2</td><td>playersvsplayers</td><td>playervsplayer</td><td>playoffpicture</td></tr><tr><td>scoreboard</td><td>scoreboardv2</td><td>shotchartdetail</td><td>shotchartlineupdetail</td></tr><tr><td>teamdashboardbyclutch</td><td>teamdashboardbygamesplits</td><td>teamdashboardbygeneralsplits</td><td>teamdashboardbylastngames</td></tr><tr><td>teamdashboardbyopponent</td><td>teamdashboardbyshootingsplits</td><td>teamdashboardbyteamperformance</td><td>teamdashboardbyyearoveryear</td></tr><tr><td>teamdashlineups</td><td>teamdashptpass</td><td>teamdashptreb</td><td>teamdashptshots</td></tr><tr><td>teamdetails</td><td>teamgamelog</td><td>teamgamestreakfinder</td><td>teamhistoricalleaders</td></tr><tr><td>teaminfocommon</td><td>teamplayerdashboard</td><td>teamplayeronoffdetails</td><td>teamplayeronoffsummary</td></tr><tr><td>teamvsplayer</td><td>teamyearbyyearstats</td><td>videodetails</td><td>videoevents</td></tr><tr><td>videostatus</td></tr></table>\n",
    "\n",
    "\n",
    "[lien vers documentations des *endpoints*](https://github.com/swar/nba_api/tree/master/docs/nba_api/stats/endpoints)\n",
    "\n",
    "[lien vers documentations des variables et des sorties](https://github.com/swar/nba_api/tree/master/docs/nba_api/stats/library)\n",
    "\n",
    "### Exemple de documentation\n",
    "\n",
    "Prenons la documentation du *endpoint* PlayerGameLog : \n",
    "\n",
    "#### PlayerGameLog\n",
    "##### [nba_api/stats/endpoints/playergamelog.py](https://github.com/swar/nba_api/blob/master/nba_api/stats/endpoints/playergamelog.py)\n",
    "\n",
    "##### Endpoint URL\n",
    ">[https://stats.nba.com/stats/playergamelog](https://stats.nba.com/stats/playergamelog)\n",
    "\n",
    "##### Valid URL\n",
    ">[https://stats.nba.com/stats/playergamelog?DateFrom=&DateTo=&LeagueID=&PlayerID=2544&Season=2019-20&SeasonType=Regular+Season](https://stats.nba.com/stats/playergamelog?DateFrom=&DateTo=&LeagueID=&PlayerID=2544&Season=2019-20&SeasonType=Regular+Season)\n",
    "\n",
    "#### Parameters\n",
    "API Parameter Name | Python Parameter Variable | Pattern | Required | Nullable\n",
    "------------ | ------------ | :-----------: | :---: | :---:\n",
    "[_**PlayerID**_](https://github.com/swar/nba_api/blob/master/docs/nba_api/stats/library/parameters.md#PlayerID) | player_id |  | `Y` |  | \n",
    "[_**Season**_](https://github.com/swar/nba_api/blob/master/docs/nba_api/stats/library/parameters.md#Season) | season |  | `Y` |  | \n",
    "[_**SeasonType**_](https://github.com/swar/nba_api/blob/master/docs/nba_api/stats/library/parameters.md#SeasonType) | season_type_all_star | `^(Regular Season)\\|(Pre Season)\\|(Playoffs)\\|(All-Star)\\|(All Star)$` | `Y` |  | \n",
    "[_**LeagueID**_](https://github.com/swar/nba_api/blob/master/docs/nba_api/stats/library/parameters.md#LeagueID) | league_id_nullable |  |  | `Y` | \n",
    "[_**DateTo**_](https://github.com/swar/nba_api/blob/master/docs/nba_api/stats/library/parameters.md#DateTo) | date_to_nullable |  |  | `Y` | \n",
    "[_**DateFrom**_](https://github.com/swar/nba_api/blob/master/docs/nba_api/stats/library/parameters.md#DateFrom) | date_from_nullable |  |  | `Y` | \n",
    "\n",
    "#### Data Sets\n",
    "##### PlayerGameLog `player_game_log`\n",
    "```text\n",
    "['SEASON_ID', 'Player_ID', 'Game_ID', 'GAME_DATE', 'MATCHUP', 'WL', 'MIN', 'FGM', 'FGA', 'FG_PCT', 'FG3M', 'FG3A', 'FG3_PCT', 'FTM', 'FTA', 'FT_PCT', 'OREB', 'DREB', 'REB', 'AST', 'STL', 'BLK', 'TOV', 'PF', 'PTS', 'PLUS_MINUS', 'VIDEO_AVAILABLE']\n",
    "```"
   ]
  },
  {
   "cell_type": "markdown",
   "metadata": {},
   "source": [
    "## 2 - Premier contact\n",
    "\n",
    "Le but de cette partie est de comprendre les différents `endpoints` de l'API pour savoir quels types de données on peut récupérer."
   ]
  },
  {
   "cell_type": "code",
   "execution_count": 1,
   "metadata": {},
   "outputs": [],
   "source": [
    "import pandas as pd\n",
    "import nba_api.stats.endpoints as nba\n",
    "\n",
    "from nba_api.stats.static import players, teams\n",
    "from nba_api.stats.library.parameters import SeasonTypeAllStar\n",
    "\n",
    "pd.set_option('display.max_columns', None)"
   ]
  },
  {
   "cell_type": "markdown",
   "metadata": {},
   "source": [
    "La librarie `nba_api` nous donne accès directement sans nous connecter à une liste de joueurs et des équipes de la saison 2019. "
   ]
  },
  {
   "cell_type": "code",
   "execution_count": 2,
   "metadata": {},
   "outputs": [],
   "source": [
    "nba_players = pd.DataFrame(players.get_players()).set_index('id')\n",
    "nba_teams = pd.DataFrame(teams.get_teams()).set_index('id')"
   ]
  },
  {
   "cell_type": "markdown",
   "metadata": {},
   "source": [
    "Pour la suite on va avoir besoin de transformer des id en nom et vis-versa."
   ]
  },
  {
   "cell_type": "code",
   "execution_count": 3,
   "metadata": {
    "collapsed": false,
    "jupyter": {
     "outputs_hidden": false
    }
   },
   "outputs": [],
   "source": [
    "def player_name2id(name):\n",
    "    '''Transforme le nom en id pour le joueur'''\n",
    "    return players.find_players_by_full_name(name)[0]['id']"
   ]
  },
  {
   "cell_type": "code",
   "execution_count": 4,
   "metadata": {
    "collapsed": false,
    "jupyter": {
     "outputs_hidden": false
    }
   },
   "outputs": [],
   "source": [
    "def player_id2name(id_player):\n",
    "    '''Transforme le id en nom pour le joueur'''\n",
    "    return players.find_player_by_id(id_player)['name']"
   ]
  },
  {
   "cell_type": "code",
   "execution_count": 5,
   "metadata": {
    "collapsed": false,
    "jupyter": {
     "outputs_hidden": false
    }
   },
   "outputs": [],
   "source": [
    "def players_id2name(df, name_column='PLAYER_ID'):\n",
    "    '''Transforme une dataframe avec une colonne avec les id des joueurs\n",
    "    \n",
    "    Args :\n",
    "        df : une base de données avec une colonne avec les id des joueurs\n",
    "        name_column : le nom de la colonne avec les id des joueurs\n",
    "    \n",
    "    Return :\n",
    "        une dataframe avec une nouvelle colonne avec les noms des joueurs\n",
    "        à droite de la colonne des id.\n",
    "    '''\n",
    "    \n",
    "    players = nba_players['full_name'].to_dict()\n",
    "    \n",
    "    # On place le nom des joueurs juste à droite de l'id\n",
    "    i_name_column = df.columns.get_loc(name_column)\n",
    "    df.insert(i_name_column+1, 'NAME', df[name_column].map(players))\n",
    "    \n",
    "    return(df)"
   ]
  },
  {
   "cell_type": "code",
   "execution_count": 6,
   "metadata": {
    "collapsed": false,
    "jupyter": {
     "outputs_hidden": false
    }
   },
   "outputs": [],
   "source": [
    "def team_abr2id(abr):\n",
    "    '''Transforme l'abreviation d'une équipe en id'''\n",
    "    return teams.find_team_by_abbreviation(abr)['id']"
   ]
  },
  {
   "cell_type": "code",
   "execution_count": 7,
   "metadata": {
    "collapsed": false,
    "jupyter": {
     "outputs_hidden": false
    }
   },
   "outputs": [],
   "source": [
    "def team_id2name(id_team):\n",
    "    '''Transforme l'abreviation d'une équipe en id'''\n",
    "\n",
    "    return teams.find_team_name_by_id(id_team)['name']"
   ]
  },
  {
   "cell_type": "code",
   "execution_count": 8,
   "metadata": {
    "collapsed": false,
    "jupyter": {
     "outputs_hidden": false
    }
   },
   "outputs": [],
   "source": [
    "def teams_name2abrv(df, name_column='TeamName'):\n",
    "    '''Transforme une dataframe avec une colonne avec les noms des équipes\n",
    "    \n",
    "    Args :\n",
    "        df : une base de données avec une colonne avec les noms des équipes\n",
    "        name_column : le nom de la colonne avec les noms des équipes\n",
    "    \n",
    "    Return :\n",
    "        une dataframe avec une nouvelle colonne avec les abréviations des équipes\n",
    "    '''\n",
    "    \n",
    "    abr = nba_teams[['nickname', 'abbreviation']].set_index('nickname') \\\n",
    "                                                    .to_dict()['abbreviation']   \n",
    "    \n",
    "    return df.assign(ABBREVIATION=lambda df: df[name_column].map(abr))"
   ]
  },
  {
   "cell_type": "code",
   "execution_count": 9,
   "metadata": {
    "collapsed": false,
    "jupyter": {
     "outputs_hidden": false
    }
   },
   "outputs": [],
   "source": [
    "def season_id(season):\n",
    "    '''Transforme une année en le bon format de saison'''\n",
    "    return f'{season}-{int(str(season)[2:])+1}'"
   ]
  },
  {
   "cell_type": "markdown",
   "metadata": {},
   "source": [
    "### *EndPoint* `PlayerGameLog`\n",
    "\n",
    "Permet de récupérer les statistiques individuelles des joueurs par saison."
   ]
  },
  {
   "cell_type": "code",
   "execution_count": 10,
   "metadata": {
    "collapsed": false,
    "jupyter": {
     "outputs_hidden": false
    }
   },
   "outputs": [],
   "source": [
    "def boxscore_saison(player, season=2019):\n",
    "    '''Dataframe contenant les informations d'un joueur sur une saison\n",
    "    \n",
    "    Args :\n",
    "        player : l'id du player\n",
    "        season : l'année que l'on veut séléctionner\n",
    "        \n",
    "    Return : \n",
    "        une dataframe contenant toutes les informations d'un joueur sur une\n",
    "        saison\n",
    "    '''\n",
    "    \n",
    "    playoffs = nba.PlayerGameLog(player, \n",
    "                                 season=season, \n",
    "                                 season_type_all_star=SeasonTypeAllStar.playoffs) \\\n",
    "                                        .get_data_frames()[0]\n",
    "    regular = nba.PlayerGameLog(player, season=season).get_data_frames()[0]\n",
    "    \n",
    "    return playoffs.append(regular)"
   ]
  },
  {
   "cell_type": "code",
   "execution_count": 11,
   "metadata": {
    "collapsed": false,
    "jupyter": {
     "outputs_hidden": false
    }
   },
   "outputs": [
    {
     "data": {
      "text/html": [
       "<div>\n",
       "<style scoped>\n",
       "    .dataframe tbody tr th:only-of-type {\n",
       "        vertical-align: middle;\n",
       "    }\n",
       "\n",
       "    .dataframe tbody tr th {\n",
       "        vertical-align: top;\n",
       "    }\n",
       "\n",
       "    .dataframe thead th {\n",
       "        text-align: right;\n",
       "    }\n",
       "</style>\n",
       "<table border=\"1\" class=\"dataframe\">\n",
       "  <thead>\n",
       "    <tr style=\"text-align: right;\">\n",
       "      <th></th>\n",
       "      <th>SEASON_ID</th>\n",
       "      <th>Player_ID</th>\n",
       "      <th>Game_ID</th>\n",
       "      <th>GAME_DATE</th>\n",
       "      <th>MATCHUP</th>\n",
       "      <th>WL</th>\n",
       "      <th>MIN</th>\n",
       "      <th>FGM</th>\n",
       "      <th>FGA</th>\n",
       "      <th>FG_PCT</th>\n",
       "      <th>FG3M</th>\n",
       "      <th>FG3A</th>\n",
       "      <th>FG3_PCT</th>\n",
       "      <th>FTM</th>\n",
       "      <th>FTA</th>\n",
       "      <th>FT_PCT</th>\n",
       "      <th>OREB</th>\n",
       "      <th>DREB</th>\n",
       "      <th>REB</th>\n",
       "      <th>AST</th>\n",
       "      <th>STL</th>\n",
       "      <th>BLK</th>\n",
       "      <th>TOV</th>\n",
       "      <th>PF</th>\n",
       "      <th>PTS</th>\n",
       "      <th>PLUS_MINUS</th>\n",
       "      <th>VIDEO_AVAILABLE</th>\n",
       "    </tr>\n",
       "  </thead>\n",
       "  <tbody>\n",
       "    <tr>\n",
       "      <th>11</th>\n",
       "      <td>22019</td>\n",
       "      <td>2544</td>\n",
       "      <td>0021900900</td>\n",
       "      <td>MAR 01, 2020</td>\n",
       "      <td>LAL @ NOP</td>\n",
       "      <td>W</td>\n",
       "      <td>36</td>\n",
       "      <td>14</td>\n",
       "      <td>21</td>\n",
       "      <td>0.667</td>\n",
       "      <td>3</td>\n",
       "      <td>5</td>\n",
       "      <td>0.600</td>\n",
       "      <td>3</td>\n",
       "      <td>3</td>\n",
       "      <td>1.0</td>\n",
       "      <td>0</td>\n",
       "      <td>12</td>\n",
       "      <td>12</td>\n",
       "      <td>13</td>\n",
       "      <td>2</td>\n",
       "      <td>0</td>\n",
       "      <td>6</td>\n",
       "      <td>2</td>\n",
       "      <td>34</td>\n",
       "      <td>23</td>\n",
       "      <td>1</td>\n",
       "    </tr>\n",
       "    <tr>\n",
       "      <th>61</th>\n",
       "      <td>22019</td>\n",
       "      <td>2544</td>\n",
       "      <td>0021900088</td>\n",
       "      <td>NOV 03, 2019</td>\n",
       "      <td>LAL @ SAS</td>\n",
       "      <td>W</td>\n",
       "      <td>37</td>\n",
       "      <td>8</td>\n",
       "      <td>23</td>\n",
       "      <td>0.348</td>\n",
       "      <td>0</td>\n",
       "      <td>6</td>\n",
       "      <td>0.000</td>\n",
       "      <td>5</td>\n",
       "      <td>10</td>\n",
       "      <td>0.5</td>\n",
       "      <td>1</td>\n",
       "      <td>10</td>\n",
       "      <td>11</td>\n",
       "      <td>13</td>\n",
       "      <td>2</td>\n",
       "      <td>1</td>\n",
       "      <td>5</td>\n",
       "      <td>2</td>\n",
       "      <td>21</td>\n",
       "      <td>15</td>\n",
       "      <td>1</td>\n",
       "    </tr>\n",
       "    <tr>\n",
       "      <th>4</th>\n",
       "      <td>42019</td>\n",
       "      <td>2544</td>\n",
       "      <td>0041900402</td>\n",
       "      <td>OCT 02, 2020</td>\n",
       "      <td>LAL vs. MIA</td>\n",
       "      <td>W</td>\n",
       "      <td>39</td>\n",
       "      <td>14</td>\n",
       "      <td>25</td>\n",
       "      <td>0.560</td>\n",
       "      <td>3</td>\n",
       "      <td>8</td>\n",
       "      <td>0.375</td>\n",
       "      <td>2</td>\n",
       "      <td>5</td>\n",
       "      <td>0.4</td>\n",
       "      <td>2</td>\n",
       "      <td>7</td>\n",
       "      <td>9</td>\n",
       "      <td>9</td>\n",
       "      <td>1</td>\n",
       "      <td>1</td>\n",
       "      <td>0</td>\n",
       "      <td>2</td>\n",
       "      <td>33</td>\n",
       "      <td>7</td>\n",
       "      <td>1</td>\n",
       "    </tr>\n",
       "  </tbody>\n",
       "</table>\n",
       "</div>"
      ],
      "text/plain": [
       "   SEASON_ID  Player_ID     Game_ID     GAME_DATE      MATCHUP WL  MIN  FGM  \\\n",
       "11     22019       2544  0021900900  MAR 01, 2020    LAL @ NOP  W   36   14   \n",
       "61     22019       2544  0021900088  NOV 03, 2019    LAL @ SAS  W   37    8   \n",
       "4      42019       2544  0041900402  OCT 02, 2020  LAL vs. MIA  W   39   14   \n",
       "\n",
       "    FGA  FG_PCT  FG3M  FG3A  FG3_PCT  FTM  FTA  FT_PCT  OREB  DREB  REB  AST  \\\n",
       "11   21   0.667     3     5    0.600    3    3     1.0     0    12   12   13   \n",
       "61   23   0.348     0     6    0.000    5   10     0.5     1    10   11   13   \n",
       "4    25   0.560     3     8    0.375    2    5     0.4     2     7    9    9   \n",
       "\n",
       "    STL  BLK  TOV  PF  PTS  PLUS_MINUS  VIDEO_AVAILABLE  \n",
       "11    2    0    6   2   34          23                1  \n",
       "61    2    1    5   2   21          15                1  \n",
       "4     1    1    0   2   33           7                1  "
      ]
     },
     "execution_count": 11,
     "metadata": {},
     "output_type": "execute_result"
    }
   ],
   "source": [
    "boxscore_saison(player_name2id('LeBron James')).sample(3)"
   ]
  },
  {
   "cell_type": "markdown",
   "metadata": {},
   "source": [
    "### *EndPoint* `CommonPlayerInfo`\n",
    "\n",
    "On utilise cet *endpoint* pour avoir des informations sur un joueur en particulier, comme sa taille, son poids, sa date de naissance.\n",
    "\n",
    "Un exemple ici est son utilisation pour avoir sa première et sa dernière saison."
   ]
  },
  {
   "cell_type": "code",
   "execution_count": 12,
   "metadata": {
    "collapsed": false,
    "jupyter": {
     "outputs_hidden": false
    }
   },
   "outputs": [
    {
     "data": {
      "text/html": [
       "<div>\n",
       "<style scoped>\n",
       "    .dataframe tbody tr th:only-of-type {\n",
       "        vertical-align: middle;\n",
       "    }\n",
       "\n",
       "    .dataframe tbody tr th {\n",
       "        vertical-align: top;\n",
       "    }\n",
       "\n",
       "    .dataframe thead th {\n",
       "        text-align: right;\n",
       "    }\n",
       "</style>\n",
       "<table border=\"1\" class=\"dataframe\">\n",
       "  <thead>\n",
       "    <tr style=\"text-align: right;\">\n",
       "      <th></th>\n",
       "      <th>PERSON_ID</th>\n",
       "      <th>FIRST_NAME</th>\n",
       "      <th>LAST_NAME</th>\n",
       "      <th>DISPLAY_FIRST_LAST</th>\n",
       "      <th>DISPLAY_LAST_COMMA_FIRST</th>\n",
       "      <th>DISPLAY_FI_LAST</th>\n",
       "      <th>PLAYER_SLUG</th>\n",
       "      <th>BIRTHDATE</th>\n",
       "      <th>SCHOOL</th>\n",
       "      <th>COUNTRY</th>\n",
       "      <th>LAST_AFFILIATION</th>\n",
       "      <th>HEIGHT</th>\n",
       "      <th>WEIGHT</th>\n",
       "      <th>SEASON_EXP</th>\n",
       "      <th>JERSEY</th>\n",
       "      <th>POSITION</th>\n",
       "      <th>ROSTERSTATUS</th>\n",
       "      <th>GAMES_PLAYED_CURRENT_SEASON_FLAG</th>\n",
       "      <th>TEAM_ID</th>\n",
       "      <th>TEAM_NAME</th>\n",
       "      <th>TEAM_ABBREVIATION</th>\n",
       "      <th>TEAM_CODE</th>\n",
       "      <th>TEAM_CITY</th>\n",
       "      <th>PLAYERCODE</th>\n",
       "      <th>FROM_YEAR</th>\n",
       "      <th>TO_YEAR</th>\n",
       "      <th>DLEAGUE_FLAG</th>\n",
       "      <th>NBA_FLAG</th>\n",
       "      <th>GAMES_PLAYED_FLAG</th>\n",
       "      <th>DRAFT_YEAR</th>\n",
       "      <th>DRAFT_ROUND</th>\n",
       "      <th>DRAFT_NUMBER</th>\n",
       "    </tr>\n",
       "  </thead>\n",
       "  <tbody>\n",
       "    <tr>\n",
       "      <th>0</th>\n",
       "      <td>2544</td>\n",
       "      <td>LeBron</td>\n",
       "      <td>James</td>\n",
       "      <td>LeBron James</td>\n",
       "      <td>James, LeBron</td>\n",
       "      <td>L. James</td>\n",
       "      <td>lebron-james</td>\n",
       "      <td>1984-12-30T00:00:00</td>\n",
       "      <td>St. Vincent-St. Mary HS (OH)</td>\n",
       "      <td>USA</td>\n",
       "      <td>St. Vincent-St. Mary HS (OH)/USA</td>\n",
       "      <td>6-9</td>\n",
       "      <td>250</td>\n",
       "      <td>17</td>\n",
       "      <td>23</td>\n",
       "      <td>Forward</td>\n",
       "      <td>Active</td>\n",
       "      <td>N</td>\n",
       "      <td>1610612747</td>\n",
       "      <td>Lakers</td>\n",
       "      <td>LAL</td>\n",
       "      <td>lakers</td>\n",
       "      <td>Los Angeles</td>\n",
       "      <td>lebron_james</td>\n",
       "      <td>2003</td>\n",
       "      <td>2020</td>\n",
       "      <td>N</td>\n",
       "      <td>Y</td>\n",
       "      <td>Y</td>\n",
       "      <td>2003</td>\n",
       "      <td>1</td>\n",
       "      <td>1</td>\n",
       "    </tr>\n",
       "  </tbody>\n",
       "</table>\n",
       "</div>"
      ],
      "text/plain": [
       "   PERSON_ID FIRST_NAME LAST_NAME DISPLAY_FIRST_LAST DISPLAY_LAST_COMMA_FIRST  \\\n",
       "0       2544     LeBron     James       LeBron James            James, LeBron   \n",
       "\n",
       "  DISPLAY_FI_LAST   PLAYER_SLUG            BIRTHDATE  \\\n",
       "0        L. James  lebron-james  1984-12-30T00:00:00   \n",
       "\n",
       "                         SCHOOL COUNTRY                  LAST_AFFILIATION  \\\n",
       "0  St. Vincent-St. Mary HS (OH)     USA  St. Vincent-St. Mary HS (OH)/USA   \n",
       "\n",
       "  HEIGHT WEIGHT  SEASON_EXP JERSEY POSITION ROSTERSTATUS  \\\n",
       "0    6-9    250          17     23  Forward       Active   \n",
       "\n",
       "  GAMES_PLAYED_CURRENT_SEASON_FLAG     TEAM_ID TEAM_NAME TEAM_ABBREVIATION  \\\n",
       "0                                N  1610612747    Lakers               LAL   \n",
       "\n",
       "  TEAM_CODE    TEAM_CITY    PLAYERCODE  FROM_YEAR  TO_YEAR DLEAGUE_FLAG  \\\n",
       "0    lakers  Los Angeles  lebron_james       2003     2020            N   \n",
       "\n",
       "  NBA_FLAG GAMES_PLAYED_FLAG DRAFT_YEAR DRAFT_ROUND DRAFT_NUMBER  \n",
       "0        Y                 Y       2003           1            1  "
      ]
     },
     "execution_count": 12,
     "metadata": {},
     "output_type": "execute_result"
    }
   ],
   "source": [
    "nba.CommonPlayerInfo(player_name2id('LeBron James')).get_data_frames()[0]"
   ]
  },
  {
   "cell_type": "code",
   "execution_count": 13,
   "metadata": {
    "collapsed": false,
    "jupyter": {
     "outputs_hidden": false
    }
   },
   "outputs": [],
   "source": [
    "def first_last_season_player(player_id):\n",
    "    '''Récupère la première année et la dernière année où un joueur à jouer'''\n",
    "    \n",
    "    df = nba.CommonPlayerInfo(player_id).get_data_frames()[0]\n",
    "    first = df.FROM_YEAR.values[0]\n",
    "    last = df.TO_YEAR.values[0]\n",
    "    return first, last"
   ]
  },
  {
   "cell_type": "code",
   "execution_count": 14,
   "metadata": {
    "collapsed": false,
    "jupyter": {
     "outputs_hidden": false
    }
   },
   "outputs": [
    {
     "data": {
      "text/plain": [
       "(2003, 2020)"
      ]
     },
     "execution_count": 14,
     "metadata": {},
     "output_type": "execute_result"
    }
   ],
   "source": [
    "first_last_season_player(player_name2id('LeBron James'))"
   ]
  },
  {
   "cell_type": "markdown",
   "metadata": {},
   "source": [
    "### *EndPoint* `CommonTeamRoster`\n",
    "\n",
    "Cet *endpoint* donne des informations sur les 12 de l'équipe qu'on lui demande. /!\\ Il faut spécifier une saison /!\\ . \n",
    "\n",
    "Un exemple ici pour récupérer les positions des joueurs pour une équipe et une saison donnée."
   ]
  },
  {
   "cell_type": "code",
   "execution_count": 15,
   "metadata": {
    "collapsed": false,
    "jupyter": {
     "outputs_hidden": false
    }
   },
   "outputs": [
    {
     "data": {
      "text/html": [
       "<div>\n",
       "<style scoped>\n",
       "    .dataframe tbody tr th:only-of-type {\n",
       "        vertical-align: middle;\n",
       "    }\n",
       "\n",
       "    .dataframe tbody tr th {\n",
       "        vertical-align: top;\n",
       "    }\n",
       "\n",
       "    .dataframe thead th {\n",
       "        text-align: right;\n",
       "    }\n",
       "</style>\n",
       "<table border=\"1\" class=\"dataframe\">\n",
       "  <thead>\n",
       "    <tr style=\"text-align: right;\">\n",
       "      <th></th>\n",
       "      <th>TeamID</th>\n",
       "      <th>SEASON</th>\n",
       "      <th>LeagueID</th>\n",
       "      <th>PLAYER</th>\n",
       "      <th>PLAYER_SLUG</th>\n",
       "      <th>NUM</th>\n",
       "      <th>POSITION</th>\n",
       "      <th>HEIGHT</th>\n",
       "      <th>WEIGHT</th>\n",
       "      <th>BIRTH_DATE</th>\n",
       "      <th>AGE</th>\n",
       "      <th>EXP</th>\n",
       "      <th>SCHOOL</th>\n",
       "      <th>PLAYER_ID</th>\n",
       "    </tr>\n",
       "  </thead>\n",
       "  <tbody>\n",
       "    <tr>\n",
       "      <th>4</th>\n",
       "      <td>1610612744</td>\n",
       "      <td>2019</td>\n",
       "      <td>00</td>\n",
       "      <td>Eric Paschall</td>\n",
       "      <td>eric-paschall</td>\n",
       "      <td>7</td>\n",
       "      <td>F</td>\n",
       "      <td>6-6</td>\n",
       "      <td>255</td>\n",
       "      <td>NOV 04, 1996</td>\n",
       "      <td>23.0</td>\n",
       "      <td>R</td>\n",
       "      <td>Villanova</td>\n",
       "      <td>1629672</td>\n",
       "    </tr>\n",
       "    <tr>\n",
       "      <th>12</th>\n",
       "      <td>1610612744</td>\n",
       "      <td>2019</td>\n",
       "      <td>00</td>\n",
       "      <td>Juan Toscano-Anderson</td>\n",
       "      <td>juan-toscano-anderson</td>\n",
       "      <td>95</td>\n",
       "      <td>F</td>\n",
       "      <td>6-6</td>\n",
       "      <td>209</td>\n",
       "      <td>APR 10, 1993</td>\n",
       "      <td>27.0</td>\n",
       "      <td>R</td>\n",
       "      <td>Marquette</td>\n",
       "      <td>1629308</td>\n",
       "    </tr>\n",
       "    <tr>\n",
       "      <th>7</th>\n",
       "      <td>1610612744</td>\n",
       "      <td>2019</td>\n",
       "      <td>00</td>\n",
       "      <td>Mychal Mulder</td>\n",
       "      <td>mychal-mulder</td>\n",
       "      <td>12</td>\n",
       "      <td>G</td>\n",
       "      <td>6-3</td>\n",
       "      <td>184</td>\n",
       "      <td>JUN 12, 1994</td>\n",
       "      <td>26.0</td>\n",
       "      <td>R</td>\n",
       "      <td>Kentucky</td>\n",
       "      <td>1628539</td>\n",
       "    </tr>\n",
       "  </tbody>\n",
       "</table>\n",
       "</div>"
      ],
      "text/plain": [
       "        TeamID SEASON LeagueID                 PLAYER            PLAYER_SLUG  \\\n",
       "4   1610612744   2019       00          Eric Paschall          eric-paschall   \n",
       "12  1610612744   2019       00  Juan Toscano-Anderson  juan-toscano-anderson   \n",
       "7   1610612744   2019       00          Mychal Mulder          mychal-mulder   \n",
       "\n",
       "   NUM POSITION HEIGHT WEIGHT    BIRTH_DATE   AGE EXP     SCHOOL  PLAYER_ID  \n",
       "4    7        F    6-6    255  NOV 04, 1996  23.0   R  Villanova    1629672  \n",
       "12  95        F    6-6    209  APR 10, 1993  27.0   R  Marquette    1629308  \n",
       "7   12        G    6-3    184  JUN 12, 1994  26.0   R   Kentucky    1628539  "
      ]
     },
     "execution_count": 15,
     "metadata": {},
     "output_type": "execute_result"
    }
   ],
   "source": [
    "nba.CommonTeamRoster(team_abr2id('GSW'), 2019).get_data_frames()[0].sample(3)"
   ]
  },
  {
   "cell_type": "code",
   "execution_count": 16,
   "metadata": {
    "collapsed": false,
    "jupyter": {
     "outputs_hidden": false
    }
   },
   "outputs": [],
   "source": [
    "def team_players(team_id, saison=2019):\n",
    "    '''Récupère le nom et le poste des 12 de l'équipe pour une saison'''\n",
    "    \n",
    "    df = nba.CommonTeamRoster(team_id, saison).get_data_frames()[0]\n",
    "    return df[['PLAYER_ID', 'PLAYER', 'POSITION']]"
   ]
  },
  {
   "cell_type": "code",
   "execution_count": 17,
   "metadata": {
    "collapsed": false,
    "jupyter": {
     "outputs_hidden": false
    }
   },
   "outputs": [
    {
     "data": {
      "text/html": [
       "<div>\n",
       "<style scoped>\n",
       "    .dataframe tbody tr th:only-of-type {\n",
       "        vertical-align: middle;\n",
       "    }\n",
       "\n",
       "    .dataframe tbody tr th {\n",
       "        vertical-align: top;\n",
       "    }\n",
       "\n",
       "    .dataframe thead th {\n",
       "        text-align: right;\n",
       "    }\n",
       "</style>\n",
       "<table border=\"1\" class=\"dataframe\">\n",
       "  <thead>\n",
       "    <tr style=\"text-align: right;\">\n",
       "      <th></th>\n",
       "      <th>PLAYER_ID</th>\n",
       "      <th>PLAYER</th>\n",
       "      <th>POSITION</th>\n",
       "    </tr>\n",
       "  </thead>\n",
       "  <tbody>\n",
       "    <tr>\n",
       "      <th>12</th>\n",
       "      <td>1629308</td>\n",
       "      <td>Juan Toscano-Anderson</td>\n",
       "      <td>F</td>\n",
       "    </tr>\n",
       "    <tr>\n",
       "      <th>1</th>\n",
       "      <td>1629673</td>\n",
       "      <td>Jordan Poole</td>\n",
       "      <td>G</td>\n",
       "    </tr>\n",
       "    <tr>\n",
       "      <th>2</th>\n",
       "      <td>1626172</td>\n",
       "      <td>Kevon Looney</td>\n",
       "      <td>F</td>\n",
       "    </tr>\n",
       "  </tbody>\n",
       "</table>\n",
       "</div>"
      ],
      "text/plain": [
       "    PLAYER_ID                 PLAYER POSITION\n",
       "12    1629308  Juan Toscano-Anderson        F\n",
       "1     1629673           Jordan Poole        G\n",
       "2     1626172           Kevon Looney        F"
      ]
     },
     "execution_count": 17,
     "metadata": {},
     "output_type": "execute_result"
    }
   ],
   "source": [
    "team_players(team_abr2id('GSW'), 2019).sample(3)"
   ]
  },
  {
   "cell_type": "markdown",
   "metadata": {},
   "source": [
    "#### *EndPoint* `LeagueStandings`\n",
    "\n",
    "Ce *endpoint* permet d'avoir des informations sur les équipes pour une saison particulière. Par exemple, ici nous l'utilisons pour avoir le classement des équipes."
   ]
  },
  {
   "cell_type": "code",
   "execution_count": 18,
   "metadata": {
    "collapsed": false,
    "jupyter": {
     "outputs_hidden": false
    }
   },
   "outputs": [
    {
     "data": {
      "text/html": [
       "<div>\n",
       "<style scoped>\n",
       "    .dataframe tbody tr th:only-of-type {\n",
       "        vertical-align: middle;\n",
       "    }\n",
       "\n",
       "    .dataframe tbody tr th {\n",
       "        vertical-align: top;\n",
       "    }\n",
       "\n",
       "    .dataframe thead th {\n",
       "        text-align: right;\n",
       "    }\n",
       "</style>\n",
       "<table border=\"1\" class=\"dataframe\">\n",
       "  <thead>\n",
       "    <tr style=\"text-align: right;\">\n",
       "      <th></th>\n",
       "      <th>TeamName</th>\n",
       "    </tr>\n",
       "  </thead>\n",
       "  <tbody>\n",
       "    <tr>\n",
       "      <th>0</th>\n",
       "      <td>Lakers</td>\n",
       "    </tr>\n",
       "    <tr>\n",
       "      <th>1</th>\n",
       "      <td>Bucks</td>\n",
       "    </tr>\n",
       "    <tr>\n",
       "      <th>2</th>\n",
       "      <td>Clippers</td>\n",
       "    </tr>\n",
       "  </tbody>\n",
       "</table>\n",
       "</div>"
      ],
      "text/plain": [
       "   TeamName\n",
       "0    Lakers\n",
       "1     Bucks\n",
       "2  Clippers"
      ]
     },
     "execution_count": 18,
     "metadata": {},
     "output_type": "execute_result"
    }
   ],
   "source": [
    "nba.LeagueStandings(season=2019).get_data_frames()[0]['TeamName']  \\\n",
    "                                .to_frame()  \\\n",
    "                                .head(3)"
   ]
  },
  {
   "cell_type": "code",
   "execution_count": 19,
   "metadata": {
    "collapsed": false,
    "jupyter": {
     "outputs_hidden": false
    }
   },
   "outputs": [],
   "source": [
    "def teamsStandings(saison):\n",
    "    '''Récupère le classement des équipes pour une saison'''\n",
    "    \n",
    "    # On récupère les info sur les équipes pour la league\n",
    "    teams=nba.LeagueStandings(season=saison) \\\n",
    "                .get_data_frames()[0]['TeamName'] \\\n",
    "                .to_frame()\n",
    "    \n",
    "    # On récupère les abbreviations des équipes et on créé un colone\n",
    "    abr = nba_teams[['nickname', 'abbreviation']].set_index('nickname') \\\n",
    "                                                    .to_dict()['abbreviation']\n",
    "    \n",
    "    teams = teams.assign(ABBREVIATION=lambda df: df['TeamName'].map(abr))\n",
    "\n",
    "    return teams.ABBREVIATION.values"
   ]
  },
  {
   "cell_type": "code",
   "execution_count": 20,
   "metadata": {
    "collapsed": false,
    "jupyter": {
     "outputs_hidden": false
    }
   },
   "outputs": [
    {
     "data": {
      "text/plain": [
       "array(['LAL', 'MIL', 'LAC', 'TOR', 'BOS', 'DEN', 'HOU', 'IND', 'MIA',\n",
       "       'OKC', 'PHI', 'UTA', 'DAL', 'BKN', 'POR', 'ORL', 'MEM', 'WAS',\n",
       "       'PHX', 'CHA', 'SAS', 'CHI', 'SAC', 'NYK', 'DET', 'NOP', 'MIN',\n",
       "       'ATL', 'CLE', 'GSW'], dtype=object)"
      ]
     },
     "execution_count": 20,
     "metadata": {},
     "output_type": "execute_result"
    }
   ],
   "source": [
    "teamsStandings(2019)"
   ]
  }
 ],
 "metadata": {
  "kernelspec": {
   "display_name": "Python 3",
   "language": "python",
   "name": "python3"
  },
  "language_info": {
   "codemirror_mode": {
    "name": "ipython",
    "version": 3
   },
   "file_extension": ".py",
   "mimetype": "text/x-python",
   "name": "python",
   "nbconvert_exporter": "python",
   "pygments_lexer": "ipython3",
   "version": "3.9.0"
  }
 },
 "nbformat": 4,
 "nbformat_minor": 4
}
