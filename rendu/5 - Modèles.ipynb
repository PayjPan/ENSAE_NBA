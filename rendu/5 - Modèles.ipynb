{
 "cells": [
  {
   "cell_type": "markdown",
   "metadata": {},
   "source": [
    "# Modèles "
   ]
  },
  {
   "cell_type": "code",
   "execution_count": 182,
   "metadata": {},
   "outputs": [],
   "source": [
    "import pandas as pd\n",
    "import numpy as np\n",
    "\n",
    "from statistics import mean "
   ]
  },
  {
   "cell_type": "markdown",
   "metadata": {},
   "source": [
    "Dans cette partie on va essayer d'utiliser des modèles d'apprentissage machine pour prédire les scores des joueurs. On commence par récupérer le dataset et le mettre en forme pour l'apprentissage.\n",
    "\n",
    "Les choix que l'on fait sont les suivants :\n",
    "  - On ne garde pas les variables qui dépendent du match :\n",
    "      - list_var_avg + WIN\n",
    "  - On ne garde pas les variables qui nous donne aucune information : \n",
    "      - SEASON_ID, GAME_ID\n",
    "  - On modifie le type de la variable PLAYER_ID pour pas qu'elle soit considérée comme un nombre\n",
    "  - On ne garde pas les variables agrégées sur les équipes car elles sont trop souvent `Nan` car les équipes ne se jouent pas souvent (4 fois max)"
   ]
  },
  {
   "cell_type": "code",
   "execution_count": 183,
   "metadata": {},
   "outputs": [],
   "source": [
    "# La liste des variables dont on va récupérer les moyennes\n",
    "list_var_avg = ['PTS', 'REB', 'AST', 'STL', 'BLK', 'FGM', 'FTM', 'FG3M',\n",
    "                 'TOV', 'FGF', 'FG3F', 'FTF', 'BONUS', 'MALUS', 'SCORE']"
   ]
  },
  {
   "cell_type": "code",
   "execution_count": 184,
   "metadata": {},
   "outputs": [],
   "source": [
    "# Récupere le dataset\n",
    "df = pd.read_csv('../data/boxscore_2019_final.csv')\n",
    "\n",
    "df = df.drop(list_var_avg[:-1]+['WIN', 'SEASON_ID', 'GAME_ID'], axis=1)\n",
    "df = df[~df.AVG_SCORE.isna()]\n",
    "\n",
    "df.PLAYER_ID = df.PLAYER_ID.astype(object)\n",
    "\n",
    "# Pour l'instant on retire aussi les variables de moyenne par équipe car elles \n",
    "# sont trop souvant vide\n",
    "df = df.drop(['AVG_ADD_'+x for x in list_var_avg]+['AVG_BONUS', 'AVG_MALUS', 'AVG_SCORE'], axis=1)"
   ]
  },
  {
   "cell_type": "code",
   "execution_count": 185,
   "metadata": {},
   "outputs": [
    {
     "data": {
      "text/html": [
       "<div>\n",
       "<style scoped>\n",
       "    .dataframe tbody tr th:only-of-type {\n",
       "        vertical-align: middle;\n",
       "    }\n",
       "\n",
       "    .dataframe tbody tr th {\n",
       "        vertical-align: top;\n",
       "    }\n",
       "\n",
       "    .dataframe thead th {\n",
       "        text-align: right;\n",
       "    }\n",
       "</style>\n",
       "<table border=\"1\" class=\"dataframe\">\n",
       "  <thead>\n",
       "    <tr style=\"text-align: right;\">\n",
       "      <th></th>\n",
       "      <th>PLAYER_ID</th>\n",
       "      <th>GAME_DATE</th>\n",
       "      <th>TEAM</th>\n",
       "      <th>ADV</th>\n",
       "      <th>HOME</th>\n",
       "      <th>SCORE</th>\n",
       "      <th>AVG_PTS</th>\n",
       "      <th>AVG_REB</th>\n",
       "      <th>AVG_AST</th>\n",
       "      <th>AVG_STL</th>\n",
       "      <th>AVG_BLK</th>\n",
       "      <th>AVG_FGM</th>\n",
       "      <th>AVG_FTM</th>\n",
       "      <th>AVG_FG3M</th>\n",
       "      <th>AVG_TOV</th>\n",
       "      <th>AVG_FGF</th>\n",
       "      <th>AVG_FG3F</th>\n",
       "      <th>AVG_FTF</th>\n",
       "      <th>NB_VIC</th>\n",
       "      <th>NB_VIC_ADD</th>\n",
       "    </tr>\n",
       "  </thead>\n",
       "  <tbody>\n",
       "    <tr>\n",
       "      <th>18580</th>\n",
       "      <td>1628973</td>\n",
       "      <td>2020-02-01</td>\n",
       "      <td>DAL</td>\n",
       "      <td>ATL</td>\n",
       "      <td>True</td>\n",
       "      <td>41</td>\n",
       "      <td>10.333333</td>\n",
       "      <td>2.000000</td>\n",
       "      <td>2.666667</td>\n",
       "      <td>0.333333</td>\n",
       "      <td>0.333333</td>\n",
       "      <td>4.000000</td>\n",
       "      <td>2.000000</td>\n",
       "      <td>0.333333</td>\n",
       "      <td>2.000000</td>\n",
       "      <td>4.0</td>\n",
       "      <td>0.666667</td>\n",
       "      <td>0.333333</td>\n",
       "      <td>0</td>\n",
       "      <td>0</td>\n",
       "    </tr>\n",
       "    <tr>\n",
       "      <th>4048</th>\n",
       "      <td>202340</td>\n",
       "      <td>2019-12-29</td>\n",
       "      <td>LAL</td>\n",
       "      <td>DAL</td>\n",
       "      <td>True</td>\n",
       "      <td>2</td>\n",
       "      <td>5.333333</td>\n",
       "      <td>2.000000</td>\n",
       "      <td>0.666667</td>\n",
       "      <td>0.000000</td>\n",
       "      <td>0.000000</td>\n",
       "      <td>2.333333</td>\n",
       "      <td>0.000000</td>\n",
       "      <td>0.666667</td>\n",
       "      <td>1.000000</td>\n",
       "      <td>5.0</td>\n",
       "      <td>2.666667</td>\n",
       "      <td>0.000000</td>\n",
       "      <td>1</td>\n",
       "      <td>1</td>\n",
       "    </tr>\n",
       "    <tr>\n",
       "      <th>5524</th>\n",
       "      <td>202738</td>\n",
       "      <td>2020-01-23</td>\n",
       "      <td>WAS</td>\n",
       "      <td>CLE</td>\n",
       "      <td>False</td>\n",
       "      <td>15</td>\n",
       "      <td>9.000000</td>\n",
       "      <td>1.333333</td>\n",
       "      <td>2.000000</td>\n",
       "      <td>0.333333</td>\n",
       "      <td>0.000000</td>\n",
       "      <td>3.333333</td>\n",
       "      <td>0.333333</td>\n",
       "      <td>2.000000</td>\n",
       "      <td>2.333333</td>\n",
       "      <td>3.0</td>\n",
       "      <td>1.666667</td>\n",
       "      <td>0.333333</td>\n",
       "      <td>0</td>\n",
       "      <td>0</td>\n",
       "    </tr>\n",
       "  </tbody>\n",
       "</table>\n",
       "</div>"
      ],
      "text/plain": [
       "      PLAYER_ID   GAME_DATE TEAM  ADV   HOME  SCORE    AVG_PTS   AVG_REB  \\\n",
       "18580   1628973  2020-02-01  DAL  ATL   True     41  10.333333  2.000000   \n",
       "4048     202340  2019-12-29  LAL  DAL   True      2   5.333333  2.000000   \n",
       "5524     202738  2020-01-23  WAS  CLE  False     15   9.000000  1.333333   \n",
       "\n",
       "        AVG_AST   AVG_STL   AVG_BLK   AVG_FGM   AVG_FTM  AVG_FG3M   AVG_TOV  \\\n",
       "18580  2.666667  0.333333  0.333333  4.000000  2.000000  0.333333  2.000000   \n",
       "4048   0.666667  0.000000  0.000000  2.333333  0.000000  0.666667  1.000000   \n",
       "5524   2.000000  0.333333  0.000000  3.333333  0.333333  2.000000  2.333333   \n",
       "\n",
       "       AVG_FGF  AVG_FG3F   AVG_FTF  NB_VIC  NB_VIC_ADD  \n",
       "18580      4.0  0.666667  0.333333       0           0  \n",
       "4048       5.0  2.666667  0.000000       1           1  \n",
       "5524       3.0  1.666667  0.333333       0           0  "
      ]
     },
     "execution_count": 185,
     "metadata": {},
     "output_type": "execute_result"
    }
   ],
   "source": [
    "df.sample(3)"
   ]
  },
  {
   "cell_type": "markdown",
   "metadata": {},
   "source": [
    "## 1 - Modèles linéaires"
   ]
  },
  {
   "cell_type": "code",
   "execution_count": 97,
   "metadata": {},
   "outputs": [],
   "source": [
    "from sklearn.ensemble import RandomForestRegressor\n",
    "from sklearn.linear_model import Ridge, Lasso, ElasticNet\n",
    "from sklearn.metrics import mean_absolute_error\n",
    "\n",
    "import matplotlib.pyplot as plt\n",
    "import seaborn as sns\n",
    "\n",
    "sns.set()"
   ]
  },
  {
   "cell_type": "code",
   "execution_count": 143,
   "metadata": {},
   "outputs": [],
   "source": [
    "def afficher_model(model, X, y):\n",
    "    plt.figure(figsize=(8,8))\n",
    "\n",
    "    plt.scatter(y, model.predict(X))\n",
    "    plt.plot([0,100], [0,100], color='red', label='bissectrice')\n",
    "\n",
    "    plt.title('Le score pour chaque match et chaque joueur comparé à notre prédiction',\n",
    "              fontsize=15)\n",
    "    plt.xlabel('Score réel', fontsize=15)\n",
    "    plt.ylabel('Score prédit', fontsize=15)\n",
    "\n",
    "    plt.legend()\n",
    "    plt.show()"
   ]
  },
  {
   "cell_type": "code",
   "execution_count": 144,
   "metadata": {},
   "outputs": [],
   "source": [
    "# On sépare notre base en les variables explicatives et la variable expliquée.\n",
    "X = df.drop(['SCORE', 'GAME_DATE'], axis=1)\n",
    "y = df.SCORE\n",
    "\n",
    "# On choisi un hyperparamètre aléatoirement\n",
    "alpha=0.2"
   ]
  },
  {
   "cell_type": "markdown",
   "metadata": {},
   "source": [
    "### Ridge"
   ]
  },
  {
   "cell_type": "code",
   "execution_count": 145,
   "metadata": {},
   "outputs": [
    {
     "name": "stdout",
     "output_type": "stream",
     "text": [
      "R^2 = 0.459, MSE = 8.23\n"
     ]
    }
   ],
   "source": [
    "model = Ridge(alpha=alpha)\n",
    "model.fit(X,y)\n",
    "\n",
    "R = model.score(X, y)\n",
    "MSE = mean_absolute_error(model.predict(X), y)\n",
    "print(f'R^2 = {R:.3}, MSE = {MSE:.3}')"
   ]
  },
  {
   "cell_type": "code",
   "execution_count": 146,
   "metadata": {},
   "outputs": [
    {
     "data": {
      "image/png": "[encoded data removed]",
      "text/plain": [
       "<Figure size 576x576 with 1 Axes>"
      ]
     },
     "metadata": {},
     "output_type": "display_data"
    }
   ],
   "source": [
    "afficher_model(model, X, y)"
   ]
  },
  {
   "cell_type": "markdown",
   "metadata": {},
   "source": [
    "### Lasso"
   ]
  },
  {
   "cell_type": "code",
   "execution_count": 149,
   "metadata": {},
   "outputs": [
    {
     "name": "stdout",
     "output_type": "stream",
     "text": [
      "R^2 = 0.392, MSE = 8.75\n"
     ]
    }
   ],
   "source": [
    "model = Lasso(alpha=alpha)\n",
    "model.fit(X,y)\n",
    "\n",
    "R = model.score(X, y)\n",
    "MSE = mean_absolute_error(model.predict(X), y)\n",
    "print(f'R^2 = {R:.3}, MSE = {MSE:.3}')"
   ]
  },
  {
   "cell_type": "code",
   "execution_count": 150,
   "metadata": {},
   "outputs": [
    {
     "data": {
      "image/png": "[encoded data removed]",
      "text/plain": [
       "<Figure size 576x576 with 1 Axes>"
      ]
     },
     "metadata": {},
     "output_type": "display_data"
    }
   ],
   "source": [
    "afficher_model(model, X, y)"
   ]
  },
  {
   "cell_type": "markdown",
   "metadata": {},
   "source": [
    "## 2 - Séparation de la base\n",
    "\n",
    "Pour pouvoir évaluer les différents modèles que nous allons utiliser Sélim nous a conseiller de faire une *K-fold cross validation* qui très grossièrement consiste à tester son modèles sur différentes partie du data set pour mesurer sa robustesse.\n",
    "\n",
    "Dans le cas de données temporelles on ne peut pas simplement prendre des parties aléatoires car on risquerait d'avoir des données du futur dans notre base d'entrainement et des données du passé dans celle de test. On se base sur cet [article](https://medium.com/@soumyachess1496/cross-validation-in-time-series-566ae4981ce4) pour les différentes méthodes de *cross-validation* dans des séries temporelles.\n",
    "\n",
    "Les deux méthodes simples que l'on retient sont :\n",
    "  - *Time Series Split Cross-Validation*\n",
    "  - *Blocked Cross-Validation*\n",
    "\n",
    "IMAGE 1 // IMAGE 2\n",
    "\n",
    "La deuxième est utilisé lorsque l'on suspecte que connaitre des données futurs peut permetre de prédire plus précisément des données passées. Comme nous partons du principe que la probabilité de faire un bon score ne dépend que du passé et jamais du futur nous avons décidé d'implémenter la méthode *Time Serie Split Cross-Validation*"
   ]
  },
  {
   "cell_type": "code",
   "execution_count": 186,
   "metadata": {},
   "outputs": [],
   "source": [
    "# Le nombre de cross validation+1 que l'on veut\n",
    "K=6"
   ]
  },
  {
   "cell_type": "code",
   "execution_count": 188,
   "metadata": {},
   "outputs": [
    {
     "data": {
      "text/html": [
       "<div>\n",
       "<style scoped>\n",
       "    .dataframe tbody tr th:only-of-type {\n",
       "        vertical-align: middle;\n",
       "    }\n",
       "\n",
       "    .dataframe tbody tr th {\n",
       "        vertical-align: top;\n",
       "    }\n",
       "\n",
       "    .dataframe thead th {\n",
       "        text-align: right;\n",
       "    }\n",
       "</style>\n",
       "<table border=\"1\" class=\"dataframe\">\n",
       "  <thead>\n",
       "    <tr style=\"text-align: right;\">\n",
       "      <th></th>\n",
       "      <th>SIZE</th>\n",
       "    </tr>\n",
       "    <tr>\n",
       "      <th>SPLIT</th>\n",
       "      <th></th>\n",
       "    </tr>\n",
       "  </thead>\n",
       "  <tbody>\n",
       "    <tr>\n",
       "      <th>0</th>\n",
       "      <td>4358</td>\n",
       "    </tr>\n",
       "    <tr>\n",
       "      <th>1</th>\n",
       "      <td>4775</td>\n",
       "    </tr>\n",
       "    <tr>\n",
       "      <th>2</th>\n",
       "      <td>4653</td>\n",
       "    </tr>\n",
       "    <tr>\n",
       "      <th>3</th>\n",
       "      <td>4644</td>\n",
       "    </tr>\n",
       "    <tr>\n",
       "      <th>4</th>\n",
       "      <td>3211</td>\n",
       "    </tr>\n",
       "    <tr>\n",
       "      <th>5</th>\n",
       "      <td>853</td>\n",
       "    </tr>\n",
       "  </tbody>\n",
       "</table>\n",
       "</div>"
      ],
      "text/plain": [
       "       SIZE\n",
       "SPLIT      \n",
       "0      4358\n",
       "1      4775\n",
       "2      4653\n",
       "3      4644\n",
       "4      3211\n",
       "5       853"
      ]
     },
     "execution_count": 188,
     "metadata": {},
     "output_type": "execute_result"
    }
   ],
   "source": [
    "# On transforme les variables catégorielles en encodage oneshot\n",
    "df_model = pd.get_dummies(df, columns=['PLAYER_ID', 'TEAM', 'ADV'])\n",
    "\n",
    "# On récupère les dates pour les séparer en K parties\n",
    "dates = df.GAME_DATE.sort_values().unique()\n",
    "\n",
    "# On crée les critères de séléction la base\n",
    "criteres = [df_model.GAME_DATE.between(x[0], x[-1]) for x in \n",
    "                                                    np.array_split(dates, K)]\n",
    "valeurs = range(K)\n",
    "\n",
    "# On créé la variable de découpe\n",
    "df_model = df_model.assign(SPLIT=np.select(criteres, valeurs, df.GAME_DATE))\n",
    "\n",
    "# On créé les dataframes\n",
    "df_model.groupby('SPLIT').size().to_frame(name='SIZE')"
   ]
  },
  {
   "cell_type": "markdown",
   "metadata": {},
   "source": [
    "On remarque que la dernière partie ne contient que très peu d'entrées. On l'explique par le fait que l'on a séparer les groupes en se basant sur les dates et non sur le nombre de match entre deux dates. À la fin de la saison on se retrouve avec les playoff donc il y a beaucoup moins de match. Pour équilibrer on va concatener les deux dernières parties."
   ]
  },
  {
   "cell_type": "code",
   "execution_count": 189,
   "metadata": {},
   "outputs": [],
   "source": [
    "lst_df = []\n",
    "\n",
    "for _, df_split in df_model.drop('GAME_DATE', axis=1).groupby('SPLIT'):\n",
    "    lst_df += [df_split]\n",
    "\n",
    "last_df = lst_df.pop()\n",
    "lst_df[-1] = pd.concat([lst_df[-1], last_df])"
   ]
  },
  {
   "cell_type": "code",
   "execution_count": 190,
   "metadata": {},
   "outputs": [
    {
     "data": {
      "text/plain": [
       "[4358, 4775, 4653, 4644, 4064]"
      ]
     },
     "execution_count": 190,
     "metadata": {},
     "output_type": "execute_result"
    }
   ],
   "source": [
    "[len(x) for x in lst_df]"
   ]
  },
  {
   "cell_type": "markdown",
   "metadata": {},
   "source": [
    "On se retrouve donc avec K-1 bases de données assez équilibrées sur lesquelles on peut tester les modèles de machines learnings. On automatise tous ça et le calcul avec une fonction."
   ]
  },
  {
   "cell_type": "code",
   "execution_count": 193,
   "metadata": {},
   "outputs": [],
   "source": [
    "def time_split_cross_validation(df, model, K=6):\n",
    "    '''Calcul le score d'un modèle en utilisant time split cross validation\n",
    "    \n",
    "    Args :\n",
    "        df : la dataframe\n",
    "        model : le modele que l'on veut utilisé\n",
    "        K : le nombre de fold\n",
    "    \n",
    "    Return :\n",
    "        La R^2 et le MSE moyen sur les folds\n",
    "    '''\n",
    "    \n",
    "    # On transforme les variables catégorielles en encodage oneshot\n",
    "    df = pd.get_dummies(df, columns=['PLAYER_ID', 'TEAM', 'ADV'])\n",
    "\n",
    "    # On récupère les dates pour les séparer en K parties\n",
    "    dates = df.GAME_DATE.sort_values().unique()\n",
    "\n",
    "    # On crée les critères de séléction la base\n",
    "    criteres = [df.GAME_DATE.between(x[0], x[-1]) for x in np.array_split(dates, K)]\n",
    "    valeurs = range(K)\n",
    "\n",
    "    df = df.assign(SPLIT=np.select(criteres, valeurs, df.GAME_DATE))\n",
    "    df.groupby('SPLIT').size().to_frame(name='SIZE')\n",
    "    \n",
    "    # On crée la liste des dataframes\n",
    "    lst_df = []\n",
    "\n",
    "    for _, df_split in df.drop('GAME_DATE', axis=1).groupby('SPLIT'):\n",
    "        lst_df += [df_split]\n",
    "\n",
    "    last_df = lst_df.pop()\n",
    "    lst_df[-1] = pd.concat([lst_df[-1], last_df])\n",
    "    \n",
    "    # On calcul les scores moyens pour chaque dataframe\n",
    "    R_score = []\n",
    "    MSE_score = []\n",
    "    for i, df_test in enumerate(lst_df[1:]):\n",
    "        df_train = pd.concat(lst_df[:i+1])\n",
    "\n",
    "        X_train, y_train = df_train.drop('SCORE', axis=1), df_train.SCORE\n",
    "        X_test, y_test = df_test.drop('SCORE', axis=1), df_test.SCORE\n",
    "\n",
    "        model.fit(X_train, y_train)\n",
    "\n",
    "        R_score += [model.score(X_train, y_train)]\n",
    "        MSE_score += [mean_absolute_error(model.predict(X_test), y_test)]\n",
    "\n",
    "    return(mean(R_score), mean(MSE_score))"
   ]
  },
  {
   "cell_type": "code",
   "execution_count": 194,
   "metadata": {},
   "outputs": [
    {
     "data": {
      "text/plain": [
       "(0.47684690609003966, 8.889356133438515)"
      ]
     },
     "execution_count": 194,
     "metadata": {},
     "output_type": "execute_result"
    }
   ],
   "source": [
    "model = Ridge(alpha=0.1)\n",
    "time_split_cross_validation(df, model)"
   ]
  },
  {
   "cell_type": "markdown",
   "metadata": {},
   "source": [
    "## 3 - Grid search (Hyperparamètre)"
   ]
  },
  {
   "cell_type": "markdown",
   "metadata": {},
   "source": [
    "On a pour ces deux modèles de régressions un hyperparamètre `alpha`. Pour pouvoir le choisir il faut faire ce qu'on le fasse varier puis on mesure et on choisit la meilleure."
   ]
  },
  {
   "cell_type": "code",
   "execution_count": null,
   "metadata": {},
   "outputs": [],
   "source": []
  }
 ],
 "metadata": {
  "kernelspec": {
   "display_name": "Python 3",
   "language": "python",
   "name": "python3"
  },
  "language_info": {
   "codemirror_mode": {
    "name": "ipython",
    "version": 3
   },
   "file_extension": ".py",
   "mimetype": "text/x-python",
   "name": "python",
   "nbconvert_exporter": "python",
   "pygments_lexer": "ipython3",
   "version": "3.7.3"
  }
 },
 "nbformat": 4,
 "nbformat_minor": 4
}
