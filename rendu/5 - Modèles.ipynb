{
 "cells": [
  {
   "cell_type": "markdown",
   "metadata": {},
   "source": [
    "# Modèles "
   ]
  },
  {
   "cell_type": "code",
   "execution_count": 4,
   "metadata": {},
   "outputs": [],
   "source": [
    "import pandas as pd"
   ]
  },
  {
   "cell_type": "markdown",
   "metadata": {},
   "source": [
    "Dans cette partie on va essayer d'utiliser des modèles d'apprentissage machine pour prédire les scores des joueurs. On commence par récupérer le dataset et le mettre en forme pour l'apprentissage.\n",
    "\n",
    "Les choix que l'on fait sont les suivants :\n",
    "  - On ne garde pas les variables qui dépendent du match :\n",
    "      - list_var_avg + WIN\n",
    "  - On ne garde pas les variables qui nous donne aucune information : \n",
    "      - SEASON_ID, GAME_ID\n",
    "  - On modifi le type de la variable PLAYER_ID pour pas qu'il soit concidéré comme un nombre\n",
    "  - On ne garde pas les variables agrégées sur les équipes car elles sont trop souvent `Nan` car les équipes ne jouent que rarement entre elles."
   ]
  },
  {
   "cell_type": "code",
   "execution_count": 5,
   "metadata": {},
   "outputs": [],
   "source": [
    "# La liste des variables dont on va récupérer les moyennes\n",
    "list_var_avg = ['PTS', 'REB', 'AST', 'STL', 'BLK', 'FGM', 'FTM', 'FG3M',\n",
    "                 'TOV', 'FGF', 'FG3F', 'FTF', 'BONUS', 'MALUS', 'SCORE']"
   ]
  },
  {
   "cell_type": "code",
   "execution_count": 8,
   "metadata": {},
   "outputs": [],
   "source": [
    "# Récupere le dataset\n",
    "df = pd.read_csv('../data/boxscore_2019_final.csv')\n",
    "\n",
    "df = df.drop(list_var_avg[:-1]+['WIN', 'SEASON_ID', 'GAME_ID'], axis=1)\n",
    "df = df[~df.AVG_SCORE.isna()]\n",
    "\n",
    "df.PLAYER_ID = df.PLAYER_ID.astype(object)\n",
    "\n",
    "# Pour l'instant on retire aussi les variables de moyenne par équipe car elles \n",
    "# sont trop souvant vide\n",
    "df = df.drop(['AVG_ADD_'+x for x in list_var_avg]+['AVG_BONUS', 'AVG_MALUS', 'AVG_SCORE'], axis=1)"
   ]
  },
  {
   "cell_type": "code",
   "execution_count": 9,
   "metadata": {},
   "outputs": [
    {
     "data": {
      "text/html": [
       "<div>\n",
       "<style scoped>\n",
       "    .dataframe tbody tr th:only-of-type {\n",
       "        vertical-align: middle;\n",
       "    }\n",
       "\n",
       "    .dataframe tbody tr th {\n",
       "        vertical-align: top;\n",
       "    }\n",
       "\n",
       "    .dataframe thead th {\n",
       "        text-align: right;\n",
       "    }\n",
       "</style>\n",
       "<table border=\"1\" class=\"dataframe\">\n",
       "  <thead>\n",
       "    <tr style=\"text-align: right;\">\n",
       "      <th></th>\n",
       "      <th>PLAYER_ID</th>\n",
       "      <th>GAME_DATE</th>\n",
       "      <th>TEAM</th>\n",
       "      <th>ADV</th>\n",
       "      <th>HOME</th>\n",
       "      <th>SCORE</th>\n",
       "      <th>AVG_PTS</th>\n",
       "      <th>AVG_REB</th>\n",
       "      <th>AVG_AST</th>\n",
       "      <th>AVG_STL</th>\n",
       "      <th>AVG_BLK</th>\n",
       "      <th>AVG_FGM</th>\n",
       "      <th>AVG_FTM</th>\n",
       "      <th>AVG_FG3M</th>\n",
       "      <th>AVG_TOV</th>\n",
       "      <th>AVG_FGF</th>\n",
       "      <th>AVG_FG3F</th>\n",
       "      <th>AVG_FTF</th>\n",
       "      <th>NB_VIC</th>\n",
       "      <th>NB_VIC_ADD</th>\n",
       "    </tr>\n",
       "  </thead>\n",
       "  <tbody>\n",
       "    <tr>\n",
       "      <th>10630</th>\n",
       "      <td>203992</td>\n",
       "      <td>2020-02-20</td>\n",
       "      <td>SAC</td>\n",
       "      <td>MEM</td>\n",
       "      <td>True</td>\n",
       "      <td>9</td>\n",
       "      <td>9.000000</td>\n",
       "      <td>3.666667</td>\n",
       "      <td>1.666667</td>\n",
       "      <td>0.333333</td>\n",
       "      <td>0.333333</td>\n",
       "      <td>3.333333</td>\n",
       "      <td>1.000000</td>\n",
       "      <td>1.333333</td>\n",
       "      <td>1.000000</td>\n",
       "      <td>8.000000</td>\n",
       "      <td>6.333333</td>\n",
       "      <td>0.000000</td>\n",
       "      <td>0</td>\n",
       "      <td>1</td>\n",
       "    </tr>\n",
       "    <tr>\n",
       "      <th>4866</th>\n",
       "      <td>202694</td>\n",
       "      <td>2020-02-28</td>\n",
       "      <td>LAC</td>\n",
       "      <td>DEN</td>\n",
       "      <td>True</td>\n",
       "      <td>4</td>\n",
       "      <td>12.333333</td>\n",
       "      <td>2.666667</td>\n",
       "      <td>2.000000</td>\n",
       "      <td>0.333333</td>\n",
       "      <td>1.000000</td>\n",
       "      <td>4.666667</td>\n",
       "      <td>1.000000</td>\n",
       "      <td>2.000000</td>\n",
       "      <td>2.666667</td>\n",
       "      <td>6.666667</td>\n",
       "      <td>3.000000</td>\n",
       "      <td>0.333333</td>\n",
       "      <td>2</td>\n",
       "      <td>0</td>\n",
       "    </tr>\n",
       "    <tr>\n",
       "      <th>16418</th>\n",
       "      <td>1628389</td>\n",
       "      <td>2019-11-12</td>\n",
       "      <td>MIA</td>\n",
       "      <td>DET</td>\n",
       "      <td>True</td>\n",
       "      <td>39</td>\n",
       "      <td>10.666667</td>\n",
       "      <td>10.000000</td>\n",
       "      <td>4.333333</td>\n",
       "      <td>2.666667</td>\n",
       "      <td>1.333333</td>\n",
       "      <td>4.000000</td>\n",
       "      <td>2.666667</td>\n",
       "      <td>0.000000</td>\n",
       "      <td>2.000000</td>\n",
       "      <td>4.333333</td>\n",
       "      <td>0.333333</td>\n",
       "      <td>3.666667</td>\n",
       "      <td>0</td>\n",
       "      <td>0</td>\n",
       "    </tr>\n",
       "  </tbody>\n",
       "</table>\n",
       "</div>"
      ],
      "text/plain": [
       "      PLAYER_ID   GAME_DATE TEAM  ADV  HOME  SCORE    AVG_PTS    AVG_REB  \\\n",
       "10630    203992  2020-02-20  SAC  MEM  True      9   9.000000   3.666667   \n",
       "4866     202694  2020-02-28  LAC  DEN  True      4  12.333333   2.666667   \n",
       "16418   1628389  2019-11-12  MIA  DET  True     39  10.666667  10.000000   \n",
       "\n",
       "        AVG_AST   AVG_STL   AVG_BLK   AVG_FGM   AVG_FTM  AVG_FG3M   AVG_TOV  \\\n",
       "10630  1.666667  0.333333  0.333333  3.333333  1.000000  1.333333  1.000000   \n",
       "4866   2.000000  0.333333  1.000000  4.666667  1.000000  2.000000  2.666667   \n",
       "16418  4.333333  2.666667  1.333333  4.000000  2.666667  0.000000  2.000000   \n",
       "\n",
       "        AVG_FGF  AVG_FG3F   AVG_FTF  NB_VIC  NB_VIC_ADD  \n",
       "10630  8.000000  6.333333  0.000000       0           1  \n",
       "4866   6.666667  3.000000  0.333333       2           0  \n",
       "16418  4.333333  0.333333  3.666667       0           0  "
      ]
     },
     "execution_count": 9,
     "metadata": {},
     "output_type": "execute_result"
    }
   ],
   "source": [
    "df.sample(3)"
   ]
  },
  {
   "cell_type": "markdown",
   "metadata": {},
   "source": [
    "## 1 - Modèles linéaires"
   ]
  },
  {
   "cell_type": "code",
   "execution_count": null,
   "metadata": {},
   "outputs": [],
   "source": [
    "# On ne garde que les joueurs qui ont joué plus de 50 matchs sur la saison\n",
    "df_players = (df.groupby('PLAYER_ID').count() > 50)\n",
    "list_players = df_players[df_players.SCORE].index\n",
    "df = df[df.PLAYER_ID.isin(list_players)].reset_index(drop=True)"
   ]
  }
 ],
 "metadata": {
  "kernelspec": {
   "display_name": "Python 3",
   "language": "python",
   "name": "python3"
  },
  "language_info": {
   "codemirror_mode": {
    "name": "ipython",
    "version": 3
   },
   "file_extension": ".py",
   "mimetype": "text/x-python",
   "name": "python",
   "nbconvert_exporter": "python",
   "pygments_lexer": "ipython3",
   "version": "3.9.0"
  }
 },
 "nbformat": 4,
 "nbformat_minor": 4
}
